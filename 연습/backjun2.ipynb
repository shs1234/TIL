{
 "cells": [
  {
   "cell_type": "markdown",
   "metadata": {},
   "source": [
    "## 10844\n",
    "- 문제\n",
    "\n",
    "45656이란 수를 보자.\n",
    "\n",
    "이 수는 인접한 모든 자리수의 차이가 1이 난다. 이런 수를 계단 수라고 한다.\n",
    "\n",
    "세준이는 수의 길이가 N인 계단 수가 몇 개 있는지 궁금해졌다.\n",
    "\n",
    "N이 주어질 때, 길이가 N인 계단 수가 총 몇 개 있는지 구하는 프로그램을 작성하시오. (0으로 시작하는 수는 없다.)\n",
    "\n",
    "- 입력\n",
    "\n",
    "첫째 줄에 N이 주어진다. N은 1보다 크거나 같고, 100보다 작거나 같은 자연수이다.\n",
    "\n",
    "- 출력\n",
    "\n",
    "첫째 줄에 정답을 1,000,000,000으로 나눈 나머지를 출력한다.\n",
    "```\n",
    "예제 입력 1 \n",
    "1\n",
    "예제 출력 1 \n",
    "9\n",
    "예제 입력 2 \n",
    "2\n",
    "예제 출력 2 \n",
    "17\n",
    "```"
   ]
  },
  {
   "cell_type": "code",
   "execution_count": 1,
   "metadata": {},
   "outputs": [
    {
     "name": "stdin",
     "output_type": "stream",
     "text": [
      " 50\n"
     ]
    },
    {
     "name": "stdout",
     "output_type": "stream",
     "text": [
      "627370497\n"
     ]
    }
   ],
   "source": [
    "n=int(input())\n",
    "lst=[9]\n",
    "for i in range(n-1):\n",
    "    a=lst[-1]\n",
    "    lst.append(((a-1)*2)+1)\n",
    "\n",
    "print(lst[n-1]%1000000000)"
   ]
  },
  {
   "cell_type": "markdown",
   "metadata": {},
   "source": [
    "## 11053\n",
    "- 문제\n",
    "\n",
    "수열 A가 주어졌을 때, 가장 긴 증가하는 부분 수열을 구하는 프로그램을 작성하시오.\n",
    "\n",
    "예를 들어, 수열 A = {10, 20, 10, 30, 20, 50} 인 경우에 가장 긴 증가하는 부분 수열은 A = {10, 20, 10, 30, 20, 50} 이고, 길이는 4이다.\n",
    "\n",
    "- 입력\n",
    "\n",
    "첫째 줄에 수열 A의 크기 N (1 ≤ N ≤ 1,000)이 주어진다.\n",
    "\n",
    "둘째 줄에는 수열 A를 이루고 있는 Ai가 주어진다. (1 ≤ Ai ≤ 1,000)\n",
    "\n",
    "- 출력\n",
    "\n",
    "첫째 줄에 수열 A의 가장 긴 증가하는 부분 수열의 길이를 출력한다.\n",
    "```\n",
    "예제 입력 1 \n",
    "6\n",
    "10 20 10 30 20 50\n",
    "예제 출력 1 \n",
    "4\n",
    "```"
   ]
  },
  {
   "cell_type": "code",
   "execution_count": 42,
   "metadata": {},
   "outputs": [
    {
     "name": "stdin",
     "output_type": "stream",
     "text": [
      " 6\n",
      " 10 20 10 30 20 50\n"
     ]
    },
    {
     "name": "stdout",
     "output_type": "stream",
     "text": [
      "4\n"
     ]
    }
   ],
   "source": [
    "n=int(input())\n",
    "lst=list(map(int,input().split()))\n",
    "\n",
    "seq=[]\n",
    "for i in range(n):\n",
    "    temp=[0]\n",
    "    for j in range(i):\n",
    "        if lst[i] > lst[j]:\n",
    "            if lst[j] > temp[-1]:\n",
    "                temp.append(lst[j])\n",
    "    temp.pop(0)\n",
    "    temp.append(lst[i])\n",
    "#     print(temp)\n",
    "    seq.append(len(temp))\n",
    "\n",
    "print(max(seq))"
   ]
  },
  {
   "cell_type": "markdown",
   "metadata": {},
   "source": [
    "## 11047\n",
    "- 문제\n",
    "\n",
    "준규가 가지고 있는 동전은 총 N종류이고, 각각의 동전을 매우 많이 가지고 있다.\n",
    "\n",
    "동전을 적절히 사용해서 그 가치의 합을 K로 만들려고 한다. 이때 필요한 동전 개수의 최솟값을 구하는 프로그램을 작성하시오.\n",
    "\n",
    "- 입력\n",
    "\n",
    "첫째 줄에 N과 K가 주어진다. (1 ≤ N ≤ 10, 1 ≤ K ≤ 100,000,000)\n",
    "\n",
    "둘째 줄부터 N개의 줄에 동전의 가치 Ai가 오름차순으로 주어진다. (1 ≤ Ai ≤ 1,000,000, A1 = 1, i ≥ 2인 경우에 Ai는 Ai-1의 배수)\n",
    "\n",
    "- 출력\n",
    "\n",
    "첫째 줄에 K원을 만드는데 필요한 동전 개수의 최솟값을 출력한다.\n",
    "```\n",
    "예제 입력 1 \n",
    "10 4200\n",
    "1\n",
    "5\n",
    "10\n",
    "50\n",
    "100\n",
    "500\n",
    "1000\n",
    "5000\n",
    "10000\n",
    "50000\n",
    "예제 출력 1 \n",
    "6\n",
    "```"
   ]
  },
  {
   "cell_type": "code",
   "execution_count": 96,
   "metadata": {},
   "outputs": [
    {
     "name": "stdin",
     "output_type": "stream",
     "text": [
      " 3 1500\n",
      " 10\n",
      " 100\n",
      " 500\n"
     ]
    },
    {
     "name": "stdout",
     "output_type": "stream",
     "text": [
      "3\n"
     ]
    }
   ],
   "source": [
    "n,total=map(int,input().split())\n",
    "\n",
    "don=[int(input()) for _ in range(n)]\n",
    "don.reverse()\n",
    "don\n",
    "\n",
    "cnt=0\n",
    "for d in don:\n",
    "    a=total//d\n",
    "#     print(a)\n",
    "    if a>0:\n",
    "        cnt+=a\n",
    "        total -= d*a\n",
    "#     print(d, total)\n",
    "print(cnt)"
   ]
  },
  {
   "cell_type": "markdown",
   "metadata": {},
   "source": [
    "## 1931\n",
    "- 문제\n",
    "\n",
    "한 개의 회의실이 있는데 이를 사용하고자 하는 N개의 회의에 대하여 회의실 사용표를 만들려고 한다. 각 회의 I에 대해 시작시간과 끝나는 시간이 주어져 있고, 각 회의가 겹치지 않게 하면서 회의실을 사용할 수 있는 최대수의 회의를 찾아라. 단, 회의는 한번 시작하면 중간에 중단될 수 없으며 한 회의가 끝나는 것과 동시에 다음 회의가 시작될 수 있다. 회의의 시작시간과 끝나는 시간이 같을 수도 있다. 이 경우에는 시작하자마자 끝나는 것으로 생각하면 된다.\n",
    "\n",
    "- 입력\n",
    "\n",
    "첫째 줄에 회의의 수 N(1 ≤ N ≤ 100,000)이 주어진다. 둘째 줄부터 N+1 줄까지 각 회의의 정보가 주어지는데 이것은 공백을 사이에 두고 회의의 시작시간과 끝나는 시간이 주어진다. 시작 시간과 끝나는 시간은 231-1보다 작거나 같은 자연수 또는 0이다.\n",
    "\n",
    "- 출력\n",
    "\n",
    "첫째 줄에 최대 사용할 수 있는 회의 수를 출력하여라.\n",
    "```\n",
    "예제 입력 1 \n",
    "11\n",
    "1 4\n",
    "3 5\n",
    "0 6\n",
    "5 7\n",
    "3 8\n",
    "5 9\n",
    "6 10\n",
    "8 11\n",
    "8 12\n",
    "2 13\n",
    "12 14\n",
    "예제 출력 1 \n",
    "4\n",
    "```"
   ]
  },
  {
   "cell_type": "code",
   "execution_count": 232,
   "metadata": {},
   "outputs": [],
   "source": [
    "n=11\n",
    "time=[[1, 4],\n",
    "[3, 5],\n",
    "[0, 6],\n",
    "[5, 7],\n",
    "[3, 8],\n",
    "[5, 9],\n",
    "[6, 10],\n",
    "[8, 11],\n",
    "[8, 12],\n",
    "[2, 13],\n",
    "[12, 14]]"
   ]
  },
  {
   "cell_type": "code",
   "execution_count": 234,
   "metadata": {},
   "outputs": [
    {
     "name": "stdin",
     "output_type": "stream",
     "text": [
      " 2\n",
      " 1 4\n",
      " 3 5\n"
     ]
    }
   ],
   "source": [
    "n=int(input())\n",
    "time=[list(map(int,input().split())) for i in range(n)]"
   ]
  },
  {
   "cell_type": "code",
   "execution_count": 235,
   "metadata": {},
   "outputs": [
    {
     "data": {
      "text/plain": [
       "[[1, 4], [3, 5]]"
      ]
     },
     "execution_count": 235,
     "metadata": {},
     "output_type": "execute_result"
    }
   ],
   "source": []
  },
  {
   "cell_type": "code",
   "execution_count": 288,
   "metadata": {},
   "outputs": [
    {
     "name": "stdout",
     "output_type": "stream",
     "text": [
      "4\n"
     ]
    }
   ],
   "source": [
    "import sys\n",
    "n=int(input())\n",
    "time=[]\n",
    "for _ in range(n):\n",
    "    time.append(list(map(int, sys.stdin.readline().split())))\n",
    "\n",
    "# n=11\n",
    "# time=[[1, 4],\n",
    "# [3, 5],\n",
    "# [0, 6],\n",
    "# [5, 7],\n",
    "# [3, 8],\n",
    "# [5, 9],\n",
    "# [6, 10],\n",
    "# [8, 11],\n",
    "# [8, 12],\n",
    "# [2, 13],\n",
    "# [12, 14]]\n",
    "\n",
    "time.sort(key=lambda x : (x[1],x[0]))\n",
    "\n",
    "cnt=0\n",
    "for i in range(n):\n",
    "    if i==0:\n",
    "        t=time[i][1]\n",
    "        cnt += 1\n",
    "        continue\n",
    "    if time[i][0]>=t:\n",
    "        cnt += 1\n",
    "        t=time[i][1]\n",
    "    \n",
    "print(cnt)"
   ]
  },
  {
   "cell_type": "markdown",
   "metadata": {},
   "source": [
    "## 11399\n",
    "- 문제\n",
    "\n",
    "인하은행에는 ATM이 1대밖에 없다. 지금 이 ATM앞에 N명의 사람들이 줄을 서있다. 사람은 1번부터 N번까지 번호가 매겨져 있으며, i번 사람이 돈을 인출하는데 걸리는 시간은 Pi분이다.\n",
    "\n",
    "사람들이 줄을 서는 순서에 따라서, 돈을 인출하는데 필요한 시간의 합이 달라지게 된다. 예를 들어, 총 5명이 있고, P1 = 3, P2 = 1, P3 = 4, P4 = 3, P5 = 2 인 경우를 생각해보자. [1, 2, 3, 4, 5] 순서로 줄을 선다면, 1번 사람은 3분만에 돈을 뽑을 수 있다. 2번 사람은 1번 사람이 돈을 뽑을 때 까지 기다려야 하기 때문에, 3+1 = 4분이 걸리게 된다. 3번 사람은 1번, 2번 사람이 돈을 뽑을 때까지 기다려야 하기 때문에, 총 3+1+4 = 8분이 필요하게 된다. 4번 사람은 3+1+4+3 = 11분, 5번 사람은 3+1+4+3+2 = 13분이 걸리게 된다. 이 경우에 각 사람이 돈을 인출하는데 필요한 시간의 합은 3+4+8+11+13 = 39분이 된다.\n",
    "\n",
    "줄을 [2, 5, 1, 4, 3] 순서로 줄을 서면, 2번 사람은 1분만에, 5번 사람은 1+2 = 3분, 1번 사람은 1+2+3 = 6분, 4번 사람은 1+2+3+3 = 9분, 3번 사람은 1+2+3+3+4 = 13분이 걸리게 된다. 각 사람이 돈을 인출하는데 필요한 시간의 합은 1+3+6+9+13 = 32분이다. 이 방법보다 더 필요한 시간의 합을 최소로 만들 수는 없다.\n",
    "\n",
    "줄을 서 있는 사람의 수 N과 각 사람이 돈을 인출하는데 걸리는 시간 Pi가 주어졌을 때, 각 사람이 돈을 인출하는데 필요한 시간의 합의 최솟값을 구하는 프로그램을 작성하시오.\n",
    "\n",
    "- 입력\n",
    "\n",
    "첫째 줄에 사람의 수 N(1 ≤ N ≤ 1,000)이 주어진다. 둘째 줄에는 각 사람이 돈을 인출하는데 걸리는 시간 Pi가 주어진다. (1 ≤ Pi ≤ 1,000)\n",
    "\n",
    "- 출력\n",
    "\n",
    "첫째 줄에 각 사람이 돈을 인출하는데 필요한 시간의 합의 최솟값을 출력한다.\n",
    "```\n",
    "예제 입력 1 \n",
    "5\n",
    "3 1 4 3 2\n",
    "예제 출력 1 \n",
    "32\n",
    "```"
   ]
  },
  {
   "cell_type": "code",
   "execution_count": 310,
   "metadata": {},
   "outputs": [
    {
     "name": "stdin",
     "output_type": "stream",
     "text": [
      " 5\n",
      " 3 1 4 3 2\n"
     ]
    },
    {
     "name": "stdout",
     "output_type": "stream",
     "text": [
      "32\n"
     ]
    }
   ],
   "source": [
    "n=int(input())\n",
    "p=list(map(int, input().split()))\n",
    "\n",
    "p.sort()\n",
    "\n",
    "a=0\n",
    "for i in range(1,n+1):\n",
    "#     print(p[:i])\n",
    "    a += sum(p[:i])\n",
    "print(a)"
   ]
  },
  {
   "cell_type": "markdown",
   "metadata": {},
   "source": [
    "## 1541\n",
    "- 문제\n",
    "\n",
    "세준이는 양수와 +, -, 그리고 괄호를 가지고 길이가 최대 50인 식을 만들었다. 그리고 나서 세준이는 괄호를 모두 지웠다.\n",
    "\n",
    "그리고 나서 세준이는 괄호를 적절히 쳐서 이 식의 값을 최소로 만들려고 한다.\n",
    "\n",
    "괄호를 적절히 쳐서 이 식의 값을 최소로 만드는 프로그램을 작성하시오.\n",
    "\n",
    "- 입력\n",
    "\n",
    "첫째 줄에 식이 주어진다. 식은 ‘0’~‘9’, ‘+’, 그리고 ‘-’만으로 이루어져 있고, 가장 처음과 마지막 문자는 숫자이다. 그리고 연속해서 두 개 이상의 연산자가 나타나지 않고, 5자리보다 많이 연속되는 숫자는 없다. 수는 0으로 시작할 수 있다.\n",
    "\n",
    "- 출력\n",
    "\n",
    "첫째 줄에 정답을 출력한다.\n",
    "```\n",
    "예제 입력 1 \n",
    "55-50+40\n",
    "예제 출력 1 \n",
    "-35\n",
    "```"
   ]
  },
  {
   "cell_type": "code",
   "execution_count": 77,
   "metadata": {},
   "outputs": [
    {
     "name": "stdin",
     "output_type": "stream",
     "text": [
      " 55-50+40\n"
     ]
    },
    {
     "name": "stdout",
     "output_type": "stream",
     "text": [
      "-35\n"
     ]
    }
   ],
   "source": [
    "# sik='55+10-50+40+5-20-40+20+15'\n",
    "sik=str(input())\n",
    "\n",
    "sik=sik.split(sep='-')\n",
    "# print(sik)\n",
    "a=0\n",
    "for i, si in enumerate(sik):\n",
    "    if '+' in si:\n",
    "        temp=si.split('+')\n",
    "        temp=list(map(int, temp))\n",
    "#         print(temp)\n",
    "        b=sum(temp)\n",
    "    else :\n",
    "        b=int(si)\n",
    "    if i==0:\n",
    "        a += b\n",
    "    else :\n",
    "        a -= b\n",
    "print(a)"
   ]
  },
  {
   "cell_type": "markdown",
   "metadata": {},
   "source": [
    "## 5086\n",
    "- 문제\n",
    "\n",
    "4 × 3 = 12이다.\n",
    "\n",
    "이 식을 통해 다음과 같은 사실을 알 수 있다.\n",
    "\n",
    "3은 12의 약수이고, 12는 3의 배수이다.\n",
    "\n",
    "4도 12의 약수이고, 12는 4의 배수이다.\n",
    "\n",
    "두 수가 주어졌을 때, 다음 3가지 중 어떤 관계인지 구하는 프로그램을 작성하시오.\n",
    "\n",
    "1. 첫 번째 숫자가 두 번째 숫자의 약수이다.\n",
    "2. 첫 번째 숫자가 두 번째 숫자의 배수이다.\n",
    "3. 첫 번째 숫자가 두 번째 숫자의 약수와 배수 모두 아니다.\n",
    "\n",
    "- 입력\n",
    "\n",
    "입력은 여러 테스트 케이스로 이루어져 있다. 각 테스트 케이스는 10,000이 넘지않는 두 자연수로 이루어져 있다. 마지막 줄에는 0이 2개 주어진다. 두 수가 같은 경우는 없다.\n",
    "\n",
    "- 출력\n",
    "\n",
    "각 테스트 케이스마다 첫 번째 숫자가 두 번째 숫자의 약수라면 factor를, 배수라면 multiple을, 둘 다 아니라면 neither를 출력한다.\n",
    "```\n",
    "예제 입력 1 \n",
    "8 16\n",
    "32 4\n",
    "17 5\n",
    "0 0\n",
    "예제 출력 1 \n",
    "factor\n",
    "multiple\n",
    "neither\n",
    "```"
   ]
  },
  {
   "cell_type": "code",
   "execution_count": 118,
   "metadata": {},
   "outputs": [
    {
     "name": "stdin",
     "output_type": "stream",
     "text": [
      " 8 16\n",
      " 32 4\n",
      " 17 5\n",
      " 0 0\n"
     ]
    },
    {
     "name": "stdout",
     "output_type": "stream",
     "text": [
      "factor\n",
      "multiple\n",
      "neither\n"
     ]
    }
   ],
   "source": [
    "num=[]\n",
    "while True:\n",
    "    a=list(map(int, input().split()))\n",
    "    if sum(a)==0:\n",
    "        break\n",
    "    num.append(a)\n",
    "\n",
    "for a in num:\n",
    "    if a[1]%a[0] == 0:\n",
    "        print('factor')\n",
    "    elif a[0]%a[1] == 0:\n",
    "        print('multiple')\n",
    "    else :\n",
    "        print('neither')"
   ]
  },
  {
   "cell_type": "markdown",
   "metadata": {},
   "source": [
    "## 1037\n",
    "- 문제\n",
    "\n",
    "양수 A가 N의 진짜 약수가 되려면, N이 A의 배수이고, A가 1과 N이 아니어야 한다. 어떤 수 N의 진짜 약수가 모두 주어질 때, N을 구하는 프로그램을 작성하시오.\n",
    "\n",
    "- 입력\n",
    "\n",
    "첫째 줄에 N의 진짜 약수의 개수가 주어진다. 이 개수는 50보다 작거나 같은 자연수이다. 둘째 줄에는 N의 진짜 약수가 주어진다. 1,000,000보다 작거나 같고, 2보다 크거나 같은 자연수이고, 중복되지 않는다.\n",
    "\n",
    "- 출력\n",
    " \n",
    "첫째 줄에 N을 출력한다. N은 항상 32비트 부호있는 정수로 표현할 수 있다.\n",
    "```\n",
    "예제 입력 1 \n",
    "2\n",
    "4 2\n",
    "예제 출력 1 \n",
    "8\n",
    "```"
   ]
  },
  {
   "cell_type": "code",
   "execution_count": 134,
   "metadata": {},
   "outputs": [
    {
     "name": "stdin",
     "output_type": "stream",
     "text": [
      " 2\n",
      " 4 2\n"
     ]
    },
    {
     "name": "stdout",
     "output_type": "stream",
     "text": [
      "8\n"
     ]
    }
   ],
   "source": [
    "n=int(input())\n",
    "yak=list(map(int, input().split()))\n",
    "yak.sort()\n",
    "print(yak[0]*yak[-1])"
   ]
  },
  {
   "cell_type": "markdown",
   "metadata": {},
   "source": [
    "## 11653\n",
    "- 문제\n",
    "\n",
    "정수 N이 주어졌을 때, 소인수분해하는 프로그램을 작성하시오.\n",
    "\n",
    "- 입력\n",
    "\n",
    "첫째 줄에 정수 N (1 ≤ N ≤ 10,000,000)이 주어진다.\n",
    "\n",
    "- 출력\n",
    "\n",
    "N의 소인수분해 결과를 한 줄에 하나씩 오름차순으로 출력한다.\n",
    "```\n",
    "예제 입력 1 \n",
    "72\n",
    "예제 출력 1 \n",
    "2\n",
    "2\n",
    "2\n",
    "3\n",
    "3\n",
    "```"
   ]
  },
  {
   "cell_type": "code",
   "execution_count": 176,
   "metadata": {},
   "outputs": [
    {
     "name": "stdin",
     "output_type": "stream",
     "text": [
      " 72\n"
     ]
    },
    {
     "name": "stdout",
     "output_type": "stream",
     "text": [
      "2\n",
      "2\n",
      "2\n",
      "3\n",
      "3\n"
     ]
    }
   ],
   "source": [
    "n=int(input())\n",
    "\n",
    "while n!=1:\n",
    "    for i in range(2,n+1):\n",
    "        if n%i==0:\n",
    "            print(i)\n",
    "            n=n//i\n",
    "            break"
   ]
  },
  {
   "cell_type": "markdown",
   "metadata": {},
   "source": [
    "## 2609\n",
    "- 문제\n",
    "\n",
    "두 개의 자연수를 입력받아 최대 공약수와 최소 공배수를 출력하는 프로그램을 작성하시오.\n",
    "\n",
    "- 입력\n",
    "\n",
    "첫째 줄에는 두 개의 자연수가 주어진다. 이 둘은 10,000이하의 자연수이며 사이에 한 칸의 공백이 주어진다.\n",
    "\n",
    "- 출력\n",
    "\n",
    "첫째 줄에는 입력으로 주어진 두 수의 최대공약수를,둘째 줄에는 입력으로 주어진 두 수의 최소 공배수를 출력한다.\n",
    "```\n",
    "예제 입력 1 \n",
    "24 18\n",
    "예제 출력 1 \n",
    "6\n",
    "72\n",
    "```"
   ]
  },
  {
   "cell_type": "code",
   "execution_count": 243,
   "metadata": {},
   "outputs": [
    {
     "name": "stdin",
     "output_type": "stream",
     "text": [
      " 24 18\n"
     ]
    },
    {
     "name": "stdout",
     "output_type": "stream",
     "text": [
      "6\n",
      "72\n"
     ]
    }
   ],
   "source": [
    "n=list(map(int, input().split()))\n",
    "\n",
    "for i in range(min(n), 0, -1):\n",
    "\n",
    "    if n[0]%i==0 and n[1]%i==0:\n",
    "        print(i)\n",
    "        break\n",
    "\n",
    "for i in range(1, n[0]*n[1]):\n",
    "    if (n[1]*i)%n[0]==0:\n",
    "        print(n[1]*i)\n",
    "        break"
   ]
  },
  {
   "cell_type": "markdown",
   "metadata": {},
   "source": [
    "## 2981\n",
    "- 문제\n",
    "\n",
    "트럭을 타고 이동하던 상근이는 경찰의 검문을 받게 되었다. 경찰은 상근이가 운반하던 화물을 하나하나 모두 확인할 것이기 때문에, 검문하는데 엄청나게 오랜 시간이 걸린다.\n",
    "\n",
    "상근이는 시간을 때우기 위해서 수학 게임을 하기로 했다.\n",
    "\n",
    "먼저 근처에 보이는 숫자 N개를 종이에 적는다. 그 다음, 종이에 적은 수를 M으로 나누었을 때, 나머지가 모두 같게 되는 M을 모두 찾으려고 한다. M은 1보다 커야 한다.\n",
    "\n",
    "N개의 수가 주어졌을 때, 가능한 M을 모두 찾는 프로그램을 작성하시오.\n",
    "\n",
    "- 입력\n",
    "\n",
    "첫째 줄에 종이에 적은 수의 개수 N이 주어진다. (2 ≤ N ≤ 100)\n",
    "\n",
    "다음 줄부터 N개 줄에는 종이에 적은 수가 하나씩 주어진다. 이 수는 모두 1보다 크거나 같고, 1,000,000,000보다 작거나 같은 자연수이다. 같은 수가 두 번 이상 주어지지 않는다.\n",
    "\n",
    "항상 M이 하나 이상 존재하는 경우만 입력으로 주어진다.\n",
    "\n",
    "- 출력\n",
    "\n",
    "첫째 줄에 가능한 M을 공백으로 구분하여 모두 출력한다. 이때, M은 증가하는 순서이어야 한다.\n",
    "```\n",
    "예제 입력 1 \n",
    "3\n",
    "6\n",
    "34\n",
    "38\n",
    "예제 출력 1 \n",
    "2 4\n",
    "```"
   ]
  },
  {
   "cell_type": "code",
   "execution_count": 12,
   "metadata": {},
   "outputs": [
    {
     "name": "stdin",
     "output_type": "stream",
     "text": [
      " 3\n",
      " 6\n",
      " 34\n",
      " 38\n"
     ]
    },
    {
     "name": "stdout",
     "output_type": "stream",
     "text": [
      "2 4\n"
     ]
    }
   ],
   "source": [
    "import sys\n",
    "n=int(input())\n",
    "num=[]\n",
    "# for _ in range(n):\n",
    "#     num.append(sys.stdin.readline())\n",
    "for _ in range(n):\n",
    "    num.append(int(input()))\n",
    "# num=[6,34,38]\n",
    "\n",
    "m=[]\n",
    "for i in range(2,max(num)+1):\n",
    "#     print(i)\n",
    "    temp=num[0]%i\n",
    "    same=True\n",
    "    for j in num[1:]:\n",
    "#         print(j)\n",
    "        if j%i != temp:\n",
    "#             print(i)\n",
    "            same=False\n",
    "            break\n",
    "    if same:\n",
    "        m.append(i)\n",
    "\n",
    "print(*m)"
   ]
  },
  {
   "cell_type": "markdown",
   "metadata": {},
   "source": [
    "## 10828\n",
    "- 문제\n",
    "\n",
    "정수를 저장하는 스택을 구현한 다음, 입력으로 주어지는 명령을 처리하는 프로그램을 작성하시오.\n",
    "\n",
    "명령은 총 다섯 가지이다.\n",
    "```\n",
    "push X: 정수 X를 스택에 넣는 연산이다.\n",
    "pop: 스택에서 가장 위에 있는 정수를 빼고, 그 수를 출력한다. 만약 스택에 들어있는 정수가 없는 경우에는 -1을 출력한다.\n",
    "size: 스택에 들어있는 정수의 개수를 출력한다.\n",
    "empty: 스택이 비어있으면 1, 아니면 0을 출력한다.\n",
    "top: 스택의 가장 위에 있는 정수를 출력한다. 만약 스택에 들어있는 정수가 없는 경우에는 -1을 출력한다.\n",
    "```\n",
    "- 입력\n",
    "\n",
    "첫째 줄에 주어지는 명령의 수 N (1 ≤ N ≤ 10,000)이 주어진다. 둘째 줄부터 N개의 줄에는 명령이 하나씩 주어진다. 주어지는 정수는 1보다 크거나 같고, 100,000보다 작거나 같다. 문제에 나와있지 않은 명령이 주어지는 경우는 없다.\n",
    "\n",
    "- 출력\n",
    "\n",
    "출력해야하는 명령이 주어질 때마다, 한 줄에 하나씩 출력한다.\n",
    "```\n",
    "예제 입력 1 \n",
    "14\n",
    "push 1\n",
    "push 2\n",
    "top\n",
    "size\n",
    "empty\n",
    "pop\n",
    "pop\n",
    "pop\n",
    "size\n",
    "empty\n",
    "pop\n",
    "push 3\n",
    "empty\n",
    "top\n",
    "예제 출력 1 \n",
    "2\n",
    "2\n",
    "0\n",
    "2\n",
    "1\n",
    "-1\n",
    "0\n",
    "1\n",
    "-1\n",
    "0\n",
    "3\n",
    "```"
   ]
  },
  {
   "cell_type": "code",
   "execution_count": 20,
   "metadata": {},
   "outputs": [
    {
     "name": "stdin",
     "output_type": "stream",
     "text": [
      " 14\n",
      " push 1\n",
      " push 2\n",
      " top\n",
      " size\n",
      " empty\n",
      " pop\n",
      " pop\n",
      " pop\n",
      " size\n",
      " empty\n",
      " pop\n",
      " push 3\n",
      " empty\n",
      " top\n"
     ]
    },
    {
     "name": "stdout",
     "output_type": "stream",
     "text": [
      "2\n",
      "2\n",
      "0\n",
      "2\n",
      "1\n",
      "-1\n",
      "0\n",
      "1\n",
      "-1\n",
      "0\n",
      "3\n",
      "['3']\n"
     ]
    }
   ],
   "source": [
    "n=int(input())\n",
    "inputstrs=[]\n",
    "for _ in range(n):\n",
    "    inputstrs.append(input())\n",
    "    \n",
    "stack=[]\n",
    "for inputstr in inputstrs:\n",
    "    if 'push' in inputstr:\n",
    "        temp=inputstr.split()\n",
    "        stack.append(temp[1])\n",
    "\n",
    "    elif inputstr == 'top':\n",
    "        if len(stack)==0:\n",
    "            print(-1)\n",
    "        else :\n",
    "            print(stack[-1])\n",
    "\n",
    "    elif inputstr == 'size':\n",
    "        print(len(stack))\n",
    "\n",
    "    elif inputstr == 'empty':\n",
    "        if len(stack)==0:\n",
    "            print(1)\n",
    "        else :\n",
    "            print(0)\n",
    "    elif inputstr == 'pop':\n",
    "        if len(stack)==0:\n",
    "            print(-1)\n",
    "        else :\n",
    "            print(stack[-1])\n",
    "            stack.pop()"
   ]
  },
  {
   "cell_type": "markdown",
   "metadata": {},
   "source": [
    "## 10773\n",
    "- 문제\n",
    "\n",
    "나코더 기장 재민이는 동아리 회식을 준비하기 위해서 장부를 관리하는 중이다.\n",
    "\n",
    "재현이는 재민이를 도와서 돈을 관리하는 중인데, 애석하게도 항상 정신없는 재현이는 돈을 실수로 잘못 부르는 사고를 치기 일쑤였다.\n",
    "\n",
    "재현이는 잘못된 수를 부를 때마다 0을 외쳐서, 가장 최근에 재민이가 쓴 수를 지우게 시킨다.\n",
    "\n",
    "재민이는 이렇게 모든 수를 받아 적은 후 그 수의 합을 알고 싶어 한다. 재민이를 도와주자!\n",
    "\n",
    "- 입력\n",
    "\n",
    "첫 번째 줄에 정수 K가 주어진다. (1 ≤ K ≤ 100,000)\n",
    "\n",
    "이후 K개의 줄에 정수가 1개씩 주어진다. 정수는 0에서 1,000,000 사이의 값을 가지며, 정수가 \"0\" 일 경우에는 가장 최근에 쓴 수를 지우고, 아닐 경우 해당 수를 쓴다.\n",
    "\n",
    "정수가 \"0\"일 경우에 지울 수 있는 수가 있음을 보장할 수 있다.\n",
    "\n",
    "- 출력\n",
    "\n",
    "재민이가 최종적으로 적어 낸 수의 합을 출력한다. 최종적으로 적어낸 수의 합은 231-1보다 작거나 같은 정수이다.\n",
    "```\n",
    "예제 입력 1 \n",
    "4\n",
    "3\n",
    "0\n",
    "4\n",
    "0\n",
    "예제 출력 1 \n",
    "0\n",
    "```"
   ]
  },
  {
   "cell_type": "code",
   "execution_count": 26,
   "metadata": {},
   "outputs": [
    {
     "name": "stdin",
     "output_type": "stream",
     "text": [
      " 4\n",
      " 3\n",
      " 0\n",
      " 4\n",
      " 0\n"
     ]
    },
    {
     "name": "stdout",
     "output_type": "stream",
     "text": [
      "0\n"
     ]
    }
   ],
   "source": [
    "stack=[]\n",
    "k=int(input())\n",
    "for i in range(k):\n",
    "    a=int(input())\n",
    "    if a==0:\n",
    "        stack.pop()\n",
    "    else :\n",
    "        stack.append(a)\n",
    "print(sum(stack))"
   ]
  },
  {
   "cell_type": "markdown",
   "metadata": {},
   "source": [
    "## 9012\n",
    "- 문제\n",
    "\n",
    "괄호 문자열(Parenthesis String, PS)은 두 개의 괄호 기호인 ‘(’ 와 ‘)’ 만으로 구성되어 있는 문자열이다. 그 중에서 괄호의 모양이 바르게 구성된 문자열을 올바른 괄호 문자열(Valid PS, VPS)이라고 부른다. 한 쌍의 괄호 기호로 된 “( )” 문자열은 기본 VPS 이라고 부른다. 만일 x 가 VPS 라면 이것을 하나의 괄호에 넣은 새로운 문자열 “(x)”도 VPS 가 된다. 그리고 두 VPS x 와 y를 접합(concatenation)시킨 새로운 문자열 xy도 VPS 가 된다. 예를 들어 “(())()”와 “((()))” 는 VPS 이지만 “(()(”, “(())()))” , 그리고 “(()” 는 모두 VPS 가 아닌 문자열이다. \n",
    "\n",
    "여러분은 입력으로 주어진 괄호 문자열이 VPS 인지 아닌지를 판단해서 그 결과를 YES 와 NO 로 나타내어야 한다. \n",
    "\n",
    "- 입력\n",
    "\n",
    "입력 데이터는 표준 입력을 사용한다. 입력은 T개의 테스트 데이터로 주어진다. 입력의 첫 번째 줄에는 입력 데이터의 수를 나타내는 정수 T가 주어진다. 각 테스트 데이터의 첫째 줄에는 괄호 문자열이 한 줄에 주어진다. 하나의 괄호 문자열의 길이는 2 이상 50 이하이다. \n",
    "\n",
    "- 출력\n",
    "\n",
    "출력은 표준 출력을 사용한다. 만일 입력 괄호 문자열이 올바른 괄호 문자열(VPS)이면 “YES”, 아니면 “NO”를 한 줄에 하나씩 차례대로 출력해야 한다. \n",
    "```\n",
    "예제 입력 1 \n",
    "6\n",
    "(())())\n",
    "(((()())()\n",
    "(()())((()))\n",
    "((()()(()))(((())))()\n",
    "()()()()(()()())()\n",
    "(()((())()(\n",
    "예제 출력 1 \n",
    "NO\n",
    "NO\n",
    "YES\n",
    "NO\n",
    "YES\n",
    "NO\n",
    "```"
   ]
  },
  {
   "cell_type": "code",
   "execution_count": 57,
   "metadata": {},
   "outputs": [
    {
     "name": "stdin",
     "output_type": "stream",
     "text": [
      " 4\n",
      " (()())((()))\n",
      " ()()()()(()()())()\n",
      " (()((())()(\n",
      " (())())\n"
     ]
    },
    {
     "name": "stdout",
     "output_type": "stream",
     "text": [
      "YES\n",
      "YES\n",
      "NO\n",
      "NO\n"
     ]
    }
   ],
   "source": [
    "n=int(input())\n",
    "vpss=[]\n",
    "for i in range(n):\n",
    "    vpss.append(input())\n",
    "\n",
    "for vps in vpss:\n",
    "    stack=[]\n",
    "    valid=True\n",
    "    for ps in vps:\n",
    "#         print(stack)\n",
    "        if ps=='(':\n",
    "            stack.append(1)\n",
    "        else :\n",
    "            if len(stack)>0:\n",
    "                stack.pop()\n",
    "            else :\n",
    "                print('NO')\n",
    "                valid=False\n",
    "                break\n",
    "    if valid:\n",
    "        if len(stack)==0:\n",
    "            print('YES')\n",
    "        else :\n",
    "            print('NO')"
   ]
  },
  {
   "cell_type": "markdown",
   "metadata": {},
   "source": [
    "## 4949\n",
    "- 문제\n",
    "\n",
    "세계는 균형이 잘 잡혀있어야 한다. 양과 음, 빛과 어둠 그리고 왼쪽 괄호와 오른쪽 괄호처럼 말이다.\n",
    "\n",
    "정민이의 임무는 어떤 문자열이 주어졌을 때, 괄호들의 균형이 잘 맞춰져 있는지 판단하는 프로그램을 짜는 것이다.\n",
    "\n",
    "문자열에 포함되는 괄호는 소괄호(\"()\") 와 대괄호(\"[]\")로 2종류이고, 문자열이 균형을 이루는 조건은 아래와 같다.\n",
    "```\n",
    "모든 왼쪽 소괄호(\"(\")는 오른쪽 소괄호(\")\")와만 짝을 이뤄야 한다.\n",
    "모든 왼쪽 대괄호(\"[\")는 오른쪽 대괄호(\"]\")와만 짝을 이뤄야 한다.\n",
    "모든 오른쪽 괄호들은 자신과 짝을 이룰 수 있는 왼쪽 괄호가 존재한다.\n",
    "모든 괄호들의 짝은 1:1 매칭만 가능하다. 즉, 괄호 하나가 둘 이상의 괄호와 짝지어지지 않는다.\n",
    "짝을 이루는 두 괄호가 있을 때, 그 사이에 있는 문자열도 균형이 잡혀야 한다.\n",
    "정민이를 도와 문자열이 주어졌을 때 균형잡힌 문자열인지 아닌지를 판단해보자.\n",
    "```\n",
    "- 입력\n",
    "\n",
    "하나 또는 여러줄에 걸쳐서 문자열이 주어진다. 각 문자열은 영문 알파벳, 공백, 소괄호(\"( )\") 대괄호(\"[ ]\")등으로 이루어져 있으며, 길이는 100글자보다 작거나 같다.\n",
    "\n",
    "입력의 종료조건으로 맨 마지막에 점 하나(\".\")가 들어온다.\n",
    "- 출력\n",
    "\n",
    "각 줄마다 해당 문자열이 균형을 이루고 있으면 \"yes\"를, 아니면 \"no\"를 출력한다.\n",
    "```\n",
    "예제 입력 1 \n",
    "So when I die (the [first] I will see in (heaven) is a score list).\n",
    "[ first in ] ( first out ).\n",
    "Half Moon tonight (At least it is better than no Moon at all].\n",
    "A rope may form )( a trail in a maze.\n",
    "Help( I[m being held prisoner in a fortune cookie factory)].\n",
    "([ (([( [ ] ) ( ) (( ))] )) ]).\n",
    " .\n",
    ".\n",
    "예제 출력 1 \n",
    "yes\n",
    "yes\n",
    "no\n",
    "no\n",
    "no\n",
    "yes\n",
    "yes\n",
    "```"
   ]
  },
  {
   "cell_type": "code",
<<<<<<< HEAD
   "execution_count": 57,
   "metadata": {
    "scrolled": true
   },
   "outputs": [
    {
     "name": "stdout",
     "output_type": "stream",
     "text": [
      "([)])\n",
      ".\n",
      "no\n"
     ]
    }
   ],
   "source": [
    "str1=[]\n",
    "while 1:\n",
    "    temp = input()\n",
    "    if temp == '.':\n",
    "        break\n",
    "    str1.append(temp)\n",
    "\n",
    "def bal(st):\n",
    "    stack = []\n",
    "    yesorno = True\n",
    "    for w in st:\n",
    "        if w == '[' or w == '(' :\n",
    "            stack.append(w)\n",
    "        elif w == ']' or w == ')':\n",
    "            if len(stack)==0:\n",
    "                print('no')\n",
    "                yesorno = False\n",
    "                break\n",
    "            else :\n",
    "                a=stack.pop()\n",
    "                if w==']':\n",
    "                    if a!='[':\n",
    "                        print('no')\n",
    "                        yesorno = False\n",
    "                        break\n",
    "                else :\n",
    "                    if a!='(':\n",
    "                        print('no')\n",
    "                        yesorno = False\n",
    "                        break\n",
    "    if yesorno == True:\n",
    "        print('yes')\n",
    "\n",
    "for st in str1:\n",
    "    bal(st)"
=======
   "execution_count": 9,
   "metadata": {},
   "outputs": [
    {
     "name": "stdin",
     "output_type": "stream",
     "text": [
      " [((this) [is]) [(counter example)]](.\n",
      " .\n"
     ]
    },
    {
     "name": "stdout",
     "output_type": "stream",
     "text": [
      "no\n"
     ]
    }
   ],
   "source": [
    "str1=[]\n",
    "while 1:\n",
    "    temp = input()\n",
    "    if temp == '.':\n",
    "        break\n",
    "    str1.append(temp)\n",
    "\n",
    "def bal(st):\n",
    "    stack = []\n",
    "    yesorno = True\n",
    "    for w in st:\n",
    "        if w == '[' or w == '(' :\n",
    "            stack.append(w)\n",
    "        elif w == ']' or w == ')':\n",
    "            if len(stack)==0:\n",
    "                print('no')\n",
    "                yesorno = False\n",
    "                break\n",
    "            else :\n",
    "                a=stack.pop()\n",
    "                if w==']':\n",
    "                    if a!='[':\n",
    "                        print('no')\n",
    "                        yesorno = False\n",
    "                        break\n",
    "                else :\n",
    "                    if a!='(':\n",
    "                        print('no')\n",
    "                        yesorno = False\n",
    "                        break\n",
    "#     print(stack)\n",
    "    if yesorno == True:\n",
    "        if len(stack)==0:\n",
    "            print('yes')\n",
    "        else :\n",
    "            print('no')\n",
    "\n",
    "for st in str1:\n",
    "    bal(st)"
   ]
  },
  {
   "cell_type": "code",
   "execution_count": 13,
   "metadata": {
    "collapsed": true,
    "jupyter": {
     "outputs_hidden": true
    }
   },
   "outputs": [
    {
     "name": "stdin",
     "output_type": "stream",
     "text": [
      " 15\n",
      " push 1\n",
      " push 2\n",
      " front\n"
     ]
    },
    {
     "name": "stdout",
     "output_type": "stream",
     "text": [
      "2\n"
     ]
    },
    {
     "name": "stdin",
     "output_type": "stream",
     "text": [
      " back\n"
     ]
    },
    {
     "name": "stdout",
     "output_type": "stream",
     "text": [
      "1\n"
     ]
    },
    {
     "name": "stdin",
     "output_type": "stream",
     "text": [
      " size\n"
     ]
    },
    {
     "name": "stdout",
     "output_type": "stream",
     "text": [
      "2\n"
     ]
    },
    {
     "name": "stdin",
     "output_type": "stream",
     "text": [
      " empty\n"
     ]
    },
    {
     "name": "stdout",
     "output_type": "stream",
     "text": [
      "0\n"
     ]
    },
    {
     "name": "stdin",
     "output_type": "stream",
     "text": [
      " pop\n"
     ]
    },
    {
     "name": "stdout",
     "output_type": "stream",
     "text": [
      "1\n"
     ]
    },
    {
     "name": "stdin",
     "output_type": "stream",
     "text": [
      " pop\n"
     ]
    },
    {
     "name": "stdout",
     "output_type": "stream",
     "text": [
      "2\n"
     ]
    },
    {
     "name": "stdin",
     "output_type": "stream",
     "text": [
      " pop\n"
     ]
    },
    {
     "name": "stdout",
     "output_type": "stream",
     "text": [
      "-1\n"
     ]
    },
    {
     "name": "stdin",
     "output_type": "stream",
     "text": [
      " size\n"
     ]
    },
    {
     "name": "stdout",
     "output_type": "stream",
     "text": [
      "0\n"
     ]
    },
    {
     "name": "stdin",
     "output_type": "stream",
     "text": [
      " empty\n"
     ]
    },
    {
     "name": "stdout",
     "output_type": "stream",
     "text": [
      "1\n"
     ]
    },
    {
     "name": "stdin",
     "output_type": "stream",
     "text": [
      " pop\n"
     ]
    },
    {
     "name": "stdout",
     "output_type": "stream",
     "text": [
      "-1\n"
     ]
    },
    {
     "name": "stdin",
     "output_type": "stream",
     "text": [
      " push 3\n",
      " empty\n"
     ]
    },
    {
     "name": "stdout",
     "output_type": "stream",
     "text": [
      "0\n"
     ]
    },
    {
     "name": "stdin",
     "output_type": "stream",
     "text": [
      " front\n"
     ]
    },
    {
     "name": "stdout",
     "output_type": "stream",
     "text": [
      "3\n"
     ]
    }
   ],
   "source": [
    "# 18258\n",
    "from collections import deque\n",
    "import sys\n",
    "q=deque()\n",
    "\n",
    "for i in range(int(input())):\n",
    "    cmd = sys.stdin.readline().split()\n",
    "    if 'push' == cmd[0] :\n",
    "        a=int(cmd[1])\n",
    "        q.append(a)\n",
    "        \n",
    "    elif 'pop' == cmd[0] :\n",
    "        if len(q)==0:\n",
    "            print(-1)\n",
    "        else :\n",
    "            a=q.popleft()\n",
    "            print(a)\n",
    "            \n",
    "    elif 'size' == cmd[0] :\n",
    "        print(len(q))\n",
    "        \n",
    "    elif 'empty' == cmd[0] :\n",
    "        if len(q)==0:\n",
    "            print(1)\n",
    "            \n",
    "        else:\n",
    "            print(0)\n",
    "            \n",
    "    elif 'front' == cmd[0] :\n",
    "        if len(q)==0:\n",
    "            print(-1)\n",
    "            \n",
    "        else :\n",
    "            print(q[0])\n",
    "            \n",
    "    elif 'back' == cmd[0] :\n",
    "        if len(q)==0:\n",
    "            print(-1)\n",
    "            \n",
    "        else :\n",
    "            print(q[-1])\n",
    "            "
   ]
  },
  {
   "cell_type": "code",
   "execution_count": 20,
   "metadata": {},
   "outputs": [
    {
     "name": "stdin",
     "output_type": "stream",
     "text": [
      " 6\n"
     ]
    },
    {
     "name": "stdout",
     "output_type": "stream",
     "text": [
      "4\n"
     ]
    }
   ],
   "source": [
    "# 2164\n",
    "from collections import deque\n",
    "\n",
    "n=int(input())\n",
    "q=deque(range(1,n+1))\n",
    "ch=True\n",
    "while len(q)!=1:\n",
    "    if ch==True:\n",
    "        q.popleft()\n",
    "        ch=False\n",
    "    else :\n",
    "        q.append(q.popleft())\n",
    "        ch=True\n",
    "print(q[0])"
   ]
  },
  {
   "cell_type": "code",
   "execution_count": 198,
   "metadata": {},
   "outputs": [
    {
     "name": "stdin",
     "output_type": "stream",
     "text": [
      " 7 3\n"
     ]
    },
    {
     "name": "stdout",
     "output_type": "stream",
     "text": [
      "<3, 6, 2, 7, 5, 1, 4>\n"
     ]
    }
   ],
   "source": [
    "# 11866\n",
    "from collections import deque\n",
    "N, K = map(int, input().split())\n",
    "\n",
    "ans=[]\n",
    "q=deque(range(1,N+1))\n",
    "index = 0\n",
    "\n",
    "while len(q)!=0:\n",
    "    index += K-1\n",
    "    if len(q) <= index:\n",
    "        index = index%len(q)\n",
    "    ans.append(q[index])\n",
    "#     print(ans)\n",
    "    del q[index]\n",
    "\n",
    "str1 = '<'\n",
    "for a in ans:\n",
    "    str1 += str(a)+', '\n",
    "print(str1[:-2]+'>')"
   ]
  },
  {
   "cell_type": "code",
   "execution_count": 90,
   "metadata": {},
   "outputs": [
    {
     "name": "stdin",
     "output_type": "stream",
     "text": [
      " 3\n",
      " 1 0\n",
      " 5\n"
     ]
    },
    {
     "name": "stdout",
     "output_type": "stream",
     "text": [
      "1\n"
     ]
    },
    {
     "name": "stdin",
     "output_type": "stream",
     "text": [
      " 4 2\n",
      " 1 2 3 4\n"
     ]
    },
    {
     "name": "stdout",
     "output_type": "stream",
     "text": [
      "2\n"
     ]
    },
    {
     "name": "stdin",
     "output_type": "stream",
     "text": [
      " 6 0\n",
      " 1 1 9 1 1 1\n"
     ]
    },
    {
     "name": "stdout",
     "output_type": "stream",
     "text": [
      "5\n"
     ]
    }
   ],
   "source": [
    "# 1966\n",
    "from collections import deque\n",
    "\n",
    "for _ in range(int(input())):\n",
    "    N, M = map(int, input().split())\n",
    "    q=deque(list(map(int,input().split())))\n",
    "\n",
    "    maxq=max(q)\n",
    "    cnt = 0\n",
    "    while 1:\n",
    "        if q[0] != maxq:\n",
    "    #         print(q,M,cnt)\n",
    "            q.rotate(-1)\n",
    "            if M == 0:\n",
    "                M = len(q)-1\n",
    "            else :\n",
    "                M -= 1\n",
    "        else :\n",
    "    #         print(q,M,cnt)\n",
    "            q.popleft()\n",
    "            cnt += 1\n",
    "            if M == 0:\n",
    "                print(cnt)\n",
    "                break\n",
    "            M -= 1\n",
    "            maxq=max(q)"
   ]
  },
  {
   "cell_type": "code",
   "execution_count": 93,
   "metadata": {},
   "outputs": [
    {
     "name": "stdin",
     "output_type": "stream",
     "text": [
      " 15\n",
      " push_back 1\n",
      " push_front 2\n",
      " front\n"
     ]
    },
    {
     "name": "stdout",
     "output_type": "stream",
     "text": [
      "2\n"
     ]
    },
    {
     "name": "stdin",
     "output_type": "stream",
     "text": [
      " back\n"
     ]
    },
    {
     "name": "stdout",
     "output_type": "stream",
     "text": [
      "1\n"
     ]
    },
    {
     "name": "stdin",
     "output_type": "stream",
     "text": [
      " size\n"
     ]
    },
    {
     "name": "stdout",
     "output_type": "stream",
     "text": [
      "2\n"
     ]
    },
    {
     "name": "stdin",
     "output_type": "stream",
     "text": [
      " empty\n"
     ]
    },
    {
     "name": "stdout",
     "output_type": "stream",
     "text": [
      "0\n"
     ]
    },
    {
     "name": "stdin",
     "output_type": "stream",
     "text": [
      " pop_front\n"
     ]
    },
    {
     "name": "stdout",
     "output_type": "stream",
     "text": [
      "2\n"
     ]
    },
    {
     "name": "stdin",
     "output_type": "stream",
     "text": [
      " pop_back\n"
     ]
    },
    {
     "name": "stdout",
     "output_type": "stream",
     "text": [
      "1\n"
     ]
    },
    {
     "name": "stdin",
     "output_type": "stream",
     "text": [
      " pop_front\n"
     ]
    },
    {
     "name": "stdout",
     "output_type": "stream",
     "text": [
      "-1\n"
     ]
    },
    {
     "name": "stdin",
     "output_type": "stream",
     "text": [
      " size\n"
     ]
    },
    {
     "name": "stdout",
     "output_type": "stream",
     "text": [
      "0\n"
     ]
    },
    {
     "name": "stdin",
     "output_type": "stream",
     "text": [
      " empty\n"
     ]
    },
    {
     "name": "stdout",
     "output_type": "stream",
     "text": [
      "1\n"
     ]
    },
    {
     "name": "stdin",
     "output_type": "stream",
     "text": [
      " pop_back\n"
     ]
    },
    {
     "name": "stdout",
     "output_type": "stream",
     "text": [
      "-1\n"
     ]
    },
    {
     "name": "stdin",
     "output_type": "stream",
     "text": [
      " push_front 3\n",
      " empty\n"
     ]
    },
    {
     "name": "stdout",
     "output_type": "stream",
     "text": [
      "0\n"
     ]
    },
    {
     "name": "stdin",
     "output_type": "stream",
     "text": [
      " front\n"
     ]
    },
    {
     "name": "stdout",
     "output_type": "stream",
     "text": [
      "3\n"
     ]
    }
   ],
   "source": [
    "# 10866\n",
    "\n",
    "from collections import deque\n",
    "import sys\n",
    "q=deque()\n",
    "\n",
    "for _ in range(int(sys.stdin.readline())):\n",
    "    cmd = sys.stdin.readline().split()\n",
    "    if cmd[0]=='push_front':\n",
    "        q.appendleft(cmd[1])\n",
    "    elif cmd[0]=='push_back':\n",
    "        q.append(cmd[1])\n",
    "    elif cmd[0]=='pop_front':\n",
    "        if len(q)==0:\n",
    "            print(-1)\n",
    "        else :\n",
    "            print(q.popleft())\n",
    "    elif cmd[0]=='pop_back':\n",
    "        if len(q)==0:\n",
    "            print(-1)\n",
    "        else :\n",
    "            print(q.pop())\n",
    "    elif cmd[0]=='size':\n",
    "        print(len(q))\n",
    "    elif cmd[0]=='empty':\n",
    "        if len(q)==0:\n",
    "            print(1)\n",
    "        else :\n",
    "            print(0)\n",
    "    elif cmd[0]=='front':\n",
    "        if len(q)==0:\n",
    "            print(-1)\n",
    "        else :\n",
    "            print(q[0])\n",
    "    elif cmd[0]=='back':\n",
    "        if len(q)==0:\n",
    "            print(-1)\n",
    "        else :\n",
    "            print(q[-1])"
   ]
  },
  {
   "cell_type": "code",
   "execution_count": 176,
   "metadata": {},
   "outputs": [
    {
     "name": "stdin",
     "output_type": "stream",
     "text": [
      " 10 10\n",
      " 1 6 3 2 7 9 8 4 10 5\n"
     ]
    },
    {
     "name": "stdout",
     "output_type": "stream",
     "text": [
      "14\n"
     ]
    }
   ],
   "source": [
    "# 1021\n",
    "\n",
    "from collections import deque\n",
    "N, M = map(int, input().split())\n",
    "q=deque(range(1,N+1))\n",
    "cnt = 0\n",
    "\n",
    "for i in list(map(int,input().split())):\n",
    "    qindex=q.index(i)\n",
    "    if qindex < len(q)-qindex:\n",
    "        q.rotate(-qindex)\n",
    "        cnt += qindex\n",
    "    else :\n",
    "        q.rotate(len(q)-qindex)\n",
    "        cnt += len(q)-qindex\n",
    "    q.popleft()\n",
    "    \n",
    "print(cnt)"
   ]
  },
  {
   "cell_type": "code",
   "execution_count": 244,
   "metadata": {},
   "outputs": [
    {
     "ename": "ValueError",
     "evalue": "invalid literal for int() with base 10: ''",
     "output_type": "error",
     "traceback": [
      "\u001b[1;31m---------------------------------------------------------------------------\u001b[0m",
      "\u001b[1;31mValueError\u001b[0m                                Traceback (most recent call last)",
      "\u001b[1;32m<ipython-input-244-4e6047fc81de>\u001b[0m in \u001b[0;36m<module>\u001b[1;34m\u001b[0m\n\u001b[0;32m      3\u001b[0m \u001b[1;32mimport\u001b[0m \u001b[0msys\u001b[0m\u001b[1;33m\u001b[0m\u001b[1;33m\u001b[0m\u001b[0m\n\u001b[0;32m      4\u001b[0m \u001b[1;33m\u001b[0m\u001b[0m\n\u001b[1;32m----> 5\u001b[1;33m \u001b[1;32mfor\u001b[0m \u001b[0m_\u001b[0m \u001b[1;32min\u001b[0m \u001b[0mrange\u001b[0m\u001b[1;33m(\u001b[0m\u001b[0mint\u001b[0m\u001b[1;33m(\u001b[0m\u001b[0msys\u001b[0m\u001b[1;33m.\u001b[0m\u001b[0mstdin\u001b[0m\u001b[1;33m.\u001b[0m\u001b[0mreadline\u001b[0m\u001b[1;33m(\u001b[0m\u001b[1;33m)\u001b[0m\u001b[1;33m)\u001b[0m\u001b[1;33m)\u001b[0m\u001b[1;33m:\u001b[0m\u001b[1;33m\u001b[0m\u001b[1;33m\u001b[0m\u001b[0m\n\u001b[0m\u001b[0;32m      6\u001b[0m     \u001b[0mcmd\u001b[0m \u001b[1;33m=\u001b[0m \u001b[0msys\u001b[0m\u001b[1;33m.\u001b[0m\u001b[0mstdin\u001b[0m\u001b[1;33m.\u001b[0m\u001b[0mreadline\u001b[0m\u001b[1;33m(\u001b[0m\u001b[1;33m)\u001b[0m\u001b[1;33m\u001b[0m\u001b[1;33m\u001b[0m\u001b[0m\n\u001b[0;32m      7\u001b[0m     \u001b[0mn\u001b[0m\u001b[1;33m=\u001b[0m\u001b[0mint\u001b[0m\u001b[1;33m(\u001b[0m\u001b[0msys\u001b[0m\u001b[1;33m.\u001b[0m\u001b[0mstdin\u001b[0m\u001b[1;33m.\u001b[0m\u001b[0mreadline\u001b[0m\u001b[1;33m(\u001b[0m\u001b[1;33m)\u001b[0m\u001b[1;33m)\u001b[0m\u001b[1;33m\u001b[0m\u001b[1;33m\u001b[0m\u001b[0m\n",
      "\u001b[1;31mValueError\u001b[0m: invalid literal for int() with base 10: ''"
     ]
    }
   ],
   "source": [
    "# 5430\n",
    "from collections import deque\n",
    "import sys\n",
    "\n",
    "for _ in range(int(sys.stdin.readline())):\n",
    "    cmd = sys.stdin.readline()\n",
    "    n=int(sys.stdin.readline())\n",
    "    a=sys.stdin.readline()\n",
    "    a=a[1:-1].split(',')\n",
    "#     print(a)\n",
    "    if a[0]=='':\n",
    "        a=[]\n",
    "    else :\n",
    "        a = list(map(int, a))\n",
    "    q=deque(a)\n",
    "    isError = False\n",
    "    for c in cmd:\n",
    "        if c == 'R':\n",
    "            q.reverse()\n",
    "        elif c == 'D':\n",
    "            if len(q)==0:\n",
    "                print('error')\n",
    "                isError = True\n",
    "                break\n",
    "            else :\n",
    "                q.popleft()\n",
    "    if isError == False:            \n",
    "        print(list(q))"
   ]
  },
  {
   "cell_type": "code",
   "execution_count": null,
   "metadata": {},
   "outputs": [],
   "source": [
    "# 2630\n",
    "\n",
    "n=int(input())\n",
    "paper = [list(map(int, input().split())) for i in range(n)]\n",
    "\n",
    "blue = 0\n",
    "white = 0\n",
    "\n",
    "def isall(row,n,col,m,paper):\n",
    "    global blue, white\n",
    "\n",
    "    new_paper =[]\n",
    "\n",
    "    for i in range(int(row),int(n)):\n",
    "        new_paper.append(paper[i][int(col):int(m)])    \n",
    "\n",
    "    bcnt = 0\n",
    "    wcnt = 0\n",
    "    for i in range(int(n)-int(row)):        \n",
    "        if new_paper[i][:int(m)].count(1)==len(new_paper[i][:int(m)]):\n",
    "            bcnt += 1\n",
    "        if new_paper[i][:int(m)].count(0)==len(new_paper[i][:int(m)]):\n",
    "            wcnt += 1\n",
    "\n",
    "    len_newpaper=len(new_paper)\n",
    "    if bcnt == len_newpaper:\n",
    "        blue += 1\n",
    "    elif wcnt == len_newpaper:\n",
    "        white += 1        \n",
    "    \n",
    "    else : \n",
    "        isall(0,len_newpaper/2,0,len_newpaper/2,new_paper)      \n",
    "        isall(0,len_newpaper/2,len_newpaper/2,len_newpaper,new_paper)\n",
    "        isall(len_newpaper/2,len_newpaper,0,len_newpaper/2,new_paper)\n",
    "        isall(len_newpaper/2,len_newpaper,len_newpaper/2,len_newpaper,new_paper)\n",
    "        \n",
    "isall(0,n,0,n,paper)\n",
    "print(white)\n",
    "print(blue)"
   ]
  },
  {
   "cell_type": "code",
   "execution_count": 428,
   "metadata": {},
   "outputs": [],
   "source": [
    "# 1992\n",
    "\n",
    "n=int(input())\n",
    "paper = [list(map(int, input().split())) for i in range(n)]"
   ]
  },
  {
   "cell_type": "code",
   "execution_count": 433,
   "metadata": {},
   "outputs": [
    {
     "name": "stdin",
     "output_type": "stream",
     "text": [
      " 11110000\n",
      " 11110000\n",
      " 00011100\n",
      " 00011100\n",
      " 11110000\n",
      " 11110000\n",
      " 11110011\n",
      " 11110011\n"
     ]
    }
   ],
   "source": [
    "n=8\n",
    "paper = [input() for _ in range(n)]"
   ]
  },
  {
   "cell_type": "code",
   "execution_count": 436,
   "metadata": {},
   "outputs": [
    {
     "data": {
      "text/plain": [
       "'1111'"
      ]
     },
     "execution_count": 436,
     "metadata": {},
     "output_type": "execute_result"
    }
   ],
   "source": [
    "paper[0][:4]"
   ]
  },
  {
   "cell_type": "code",
   "execution_count": 452,
   "metadata": {},
   "outputs": [
    {
     "name": "stdout",
     "output_type": "stream",
     "text": [
      "((1(1(0(0(1(0(1(0(0(1(0(1(0(0(0(1\n"
     ]
    }
   ],
   "source": [
    "qt = '('\n",
    "\n",
    "def isall(row,n,col,m,paper):\n",
    "    global qt\n",
    "    qt2='('\n",
    "    new_paper =[]\n",
    "\n",
    "    for i in range(int(row),int(n)):\n",
    "        new_paper.append(paper[i][int(col):int(m)])    \n",
    "\n",
    "    bcnt = 0\n",
    "    wcnt = 0\n",
    "    for i in range(int(n)-int(row)):        \n",
    "        if new_paper[i][:int(m)].count(str(1))==len(new_paper[i][:int(m)]):\n",
    "            bcnt += 1\n",
    "        if new_paper[i][:int(m)].count(str(0))==len(new_paper[i][:int(m)]):\n",
    "            wcnt += 1\n",
    "\n",
    "    len_newpaper=len(new_paper)\n",
    "    if bcnt == len_newpaper:\n",
    "        qt2 += str(1)\n",
    "        qt += qt2\n",
    "    elif wcnt == len_newpaper:\n",
    "        qt2 += str(0)\n",
    "        qt += qt2\n",
    "    \n",
    "    else : \n",
    "        isall(0,len_newpaper/2,0,len_newpaper/2,new_paper)      \n",
    "        isall(0,len_newpaper/2,len_newpaper/2,len_newpaper,new_paper)\n",
    "        isall(len_newpaper/2,len_newpaper,0,len_newpaper/2,new_paper)\n",
    "        isall(len_newpaper/2,len_newpaper,len_newpaper/2,len_newpaper,new_paper)\n",
    "\n",
    "\n",
    "isall(0,n,0,n,paper)\n",
    "print(qt)"
   ]
  },
  {
   "cell_type": "code",
   "execution_count": 440,
   "metadata": {},
   "outputs": [
    {
     "data": {
      "text/plain": [
       "'1100101001010001'"
      ]
     },
     "execution_count": 440,
     "metadata": {},
     "output_type": "execute_result"
    }
   ],
   "source": [
    "'((110(0101))(0010)1(0001))'"
>>>>>>> 363b972007d0bd228037443615133bbc603f6bf3
   ]
  },
  {
   "cell_type": "code",
   "execution_count": null,
   "metadata": {},
   "outputs": [],
   "source": []
  }
 ],
 "metadata": {
  "kernelspec": {
   "display_name": "Python 3",
   "language": "python",
   "name": "python3"
  },
  "language_info": {
   "codemirror_mode": {
    "name": "ipython",
    "version": 3
   },
   "file_extension": ".py",
   "mimetype": "text/x-python",
   "name": "python",
   "nbconvert_exporter": "python",
   "pygments_lexer": "ipython3",
   "version": "3.7.6"
  }
 },
 "nbformat": 4,
 "nbformat_minor": 4
}
