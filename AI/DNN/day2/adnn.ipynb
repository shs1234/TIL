{
 "cells": [
  {
   "cell_type": "markdown",
   "metadata": {},
   "source": [
    "# Advanced MLP\n",
    "- Advanced techniques for training neural networks\n",
    "  - Weight Initialization\n",
    "  - Nonlinearity (Activation function)\n",
    "  - Optimizers\n",
    "  - Batch Normalization\n",
    "  - Dropout (Regularization)\n",
    "  - Model Ensemble"
   ]
  },
  {
   "cell_type": "markdown",
   "metadata": {
    "ExecuteTime": {
     "end_time": "2020-01-21T07:05:54.915037Z",
     "start_time": "2020-01-21T07:05:54.910061Z"
    }
   },
   "source": [
    "ANN DNN CNN 정리 블로그\n",
    "http://physics2.mju.ac.kr/juhapruwp/?p=1517"
   ]
  },
  {
   "cell_type": "code",
   "execution_count": 134,
   "metadata": {
    "ExecuteTime": {
     "end_time": "2020-01-21T05:26:02.361071Z",
     "start_time": "2020-01-21T05:26:02.354129Z"
    }
   },
   "outputs": [],
   "source": [
    "import matplotlib.pyplot as plt\n",
    "from sklearn.model_selection import train_test_split\n",
    "from keras.datasets import mnist\n",
    "from keras.models import Sequential\n",
    "from keras.utils.np_utils import to_categorical\n",
    "from keras.models import Sequential\n",
    "from keras.layers import Activation, Dense\n",
    "from keras import optimizers\n",
    "from keras.layers import Dropout\n",
    "import numpy as np\n",
    "from keras.wrappers.scikit_learn import KerasClassifier\n",
    "from sklearn.ensemble import VotingClassifier\n",
    "from sklearn.metrics import accuracy_score\n",
    "from keras.layers import BatchNormalization\n",
    "\n",
    "def lambdaf_(epoch, logs, step) : \n",
    "    if epoch % step == 0 : print(f\"{epoch} => {logs}\")                \n",
    "        \n",
    "def printepoch(step) :   \n",
    "    return LambdaCallback(on_epoch_end=lambda epoch, logs: lambdaf_(epoch, logs, step)  )\n",
    "\n",
    "def createModel(layers, activation, input_dim) :    \n",
    "    model = Sequential()        \n",
    "    d = layers.pop(0)\n",
    "    model.add(Dense(d, activation=activation,input_dim =input_dim))\n",
    "    for l in layers :\n",
    "        model.add(Dense(l, activation=activation))\n",
    "    model.add(Dense(1, activation='sigmoid'))    \n",
    "    return model"
   ]
  },
  {
   "cell_type": "markdown",
   "metadata": {},
   "source": [
    "## Load Dataset\n",
    "- MNIST dataset"
   ]
  },
  {
   "cell_type": "code",
   "execution_count": 135,
   "metadata": {
    "ExecuteTime": {
     "end_time": "2020-01-21T05:26:03.825081Z",
     "start_time": "2020-01-21T05:26:03.609413Z"
    }
   },
   "outputs": [],
   "source": [
    "(X_train, y_train), (X_test, y_test) = mnist.load_data()"
   ]
  },
  {
   "cell_type": "code",
   "execution_count": 136,
   "metadata": {
    "ExecuteTime": {
     "end_time": "2020-01-21T05:26:04.144427Z",
     "start_time": "2020-01-21T05:26:04.139440Z"
    }
   },
   "outputs": [
    {
     "name": "stdout",
     "output_type": "stream",
     "text": [
      "(60000, 28, 28)\n",
      "(60000,)\n"
     ]
    }
   ],
   "source": [
    "print(X_train.shape)\n",
    "print(y_train.shape)"
   ]
  },
  {
   "cell_type": "code",
   "execution_count": 137,
   "metadata": {
    "ExecuteTime": {
     "end_time": "2020-01-21T05:26:04.919983Z",
     "start_time": "2020-01-21T05:26:04.834614Z"
    },
    "scrolled": false
   },
   "outputs": [
    {
     "data": {
      "image/png": "[encoded data removed]",
      "text/plain": [
       "<Figure size 432x288 with 1 Axes>"
      ]
     },
     "metadata": {
      "needs_background": "light"
     },
     "output_type": "display_data"
    },
    {
     "name": "stdout",
     "output_type": "stream",
     "text": [
      "Label:  5\n"
     ]
    }
   ],
   "source": [
    "plt.imshow(X_train[0])    # show first number in the dataset\n",
    "plt.show()\n",
    "print('Label: ', y_train[0])"
   ]
  },
  {
   "cell_type": "code",
   "execution_count": 138,
   "metadata": {
    "ExecuteTime": {
     "end_time": "2020-01-21T05:26:05.414858Z",
     "start_time": "2020-01-21T05:26:05.331094Z"
    },
    "scrolled": true
   },
   "outputs": [
    {
     "data": {
      "image/png": "[encoded data removed]",
      "text/plain": [
       "<Figure size 432x288 with 1 Axes>"
      ]
     },
     "metadata": {
      "needs_background": "light"
     },
     "output_type": "display_data"
    },
    {
     "name": "stdout",
     "output_type": "stream",
     "text": [
      "Label:  7\n"
     ]
    }
   ],
   "source": [
    "plt.imshow(X_test[0])    # show first number in the dataset\n",
    "plt.show()\n",
    "print('Label: ', y_test[0])"
   ]
  },
  {
   "cell_type": "code",
   "execution_count": 139,
   "metadata": {
    "ExecuteTime": {
     "end_time": "2020-01-21T05:26:05.933849Z",
     "start_time": "2020-01-21T05:26:05.929898Z"
    }
   },
   "outputs": [],
   "source": [
    "# reshaping X data: (n, 28, 28) => (n, 784)\n",
    "X_train = X_train.reshape((X_train.shape[0], -1)) # -1:차원을 줄일때 사용. 뒤에 숫자를 명확히 쓰기 귀찮을때 사용.\n",
    "X_test = X_test.reshape((X_test.shape[0], -1))"
   ]
  },
  {
   "cell_type": "code",
   "execution_count": 140,
   "metadata": {
    "ExecuteTime": {
     "end_time": "2020-01-21T05:26:06.422616Z",
     "start_time": "2020-01-21T05:26:06.369760Z"
    }
   },
   "outputs": [],
   "source": [
    "# use only 33% of training data to expedite the training process\n",
    "X_train, _ , y_train, _ = train_test_split(X_train, y_train, test_size = 0.67, random_state = 7)"
   ]
  },
  {
   "cell_type": "code",
   "execution_count": 141,
   "metadata": {
    "ExecuteTime": {
     "end_time": "2020-01-21T05:26:06.797704Z",
     "start_time": "2020-01-21T05:26:06.792718Z"
    }
   },
   "outputs": [],
   "source": [
    "# converting y data into categorical (one-hot encoding)\n",
    "y_train = to_categorical(y_train)\n",
    "y_test = to_categorical(y_test)\n",
    "\n",
    "# 0 -> 1 0 0\n",
    "# 1 -> 0 1 0\n",
    "# 2 -> 0 0 1"
   ]
  },
  {
   "cell_type": "code",
   "execution_count": 142,
   "metadata": {
    "ExecuteTime": {
     "end_time": "2020-01-21T05:26:07.462899Z",
     "start_time": "2020-01-21T05:26:07.458910Z"
    },
    "scrolled": true
   },
   "outputs": [
    {
     "name": "stdout",
     "output_type": "stream",
     "text": [
      "(19800, 784) (10000, 784) (19800, 10) (10000, 10)\n"
     ]
    }
   ],
   "source": [
    "print(X_train.shape, X_test.shape, y_train.shape, y_test.shape)# Basic MLP model"
   ]
  },
  {
   "cell_type": "markdown",
   "metadata": {},
   "source": [
    "# Basic MLP model"
   ]
  },
  {
   "cell_type": "code",
   "execution_count": 143,
   "metadata": {
    "ExecuteTime": {
     "end_time": "2020-01-21T05:26:17.013345Z",
     "start_time": "2020-01-21T05:26:17.009353Z"
    }
   },
   "outputs": [],
   "source": [
    "model = Sequential()"
   ]
  },
  {
   "cell_type": "code",
   "execution_count": 144,
   "metadata": {
    "ExecuteTime": {
     "end_time": "2020-01-21T05:26:17.941211Z",
     "start_time": "2020-01-21T05:26:17.890032Z"
    }
   },
   "outputs": [],
   "source": [
    "model.add(Dense(50, input_shape = (784, )))\n",
    "model.add(Activation('sigmoid'))\n",
    "\n",
    "model.add(Dense(50))\n",
    "model.add(Activation('sigmoid'))\n",
    "\n",
    "model.add(Dense(50))\n",
    "model.add(Activation('sigmoid'))\n",
    "\n",
    "model.add(Dense(50))\n",
    "model.add(Activation('sigmoid'))\n",
    "\n",
    "model.add(Dense(10))\n",
    "model.add(Activation('softmax')) # 카테고리형(10개)일 경우 softmax, 바이너리(1개)일 경우 sigmoid"
   ]
  },
  {
   "cell_type": "code",
   "execution_count": 145,
   "metadata": {
    "ExecuteTime": {
     "end_time": "2020-01-21T05:26:22.050189Z",
     "start_time": "2020-01-21T05:26:22.001679Z"
    }
   },
   "outputs": [],
   "source": [
    "sgd = optimizers.SGD(lr = 0.001) #Adam하면 금방 올라감. sgd = 확률적 경사 하강법\n",
    "model.compile(optimizer = sgd, loss = 'categorical_crossentropy', metrics = ['accuracy'])"
   ]
  },
  {
   "cell_type": "code",
   "execution_count": 146,
   "metadata": {
    "ExecuteTime": {
     "end_time": "2020-01-21T05:26:58.079038Z",
     "start_time": "2020-01-21T05:26:22.595172Z"
    }
   },
   "outputs": [],
   "source": [
    "# validation_split : 제대로 학습하고 있는지 확인하고자 또다시 나눈 테스트 셋, overfitting 여부 확인.\n",
    "history = model.fit(X_train, y_train, batch_size = 256, validation_split = 0.3, epochs = 200, verbose = 0)"
   ]
  },
  {
   "cell_type": "code",
   "execution_count": 147,
   "metadata": {
    "ExecuteTime": {
     "end_time": "2020-01-21T05:26:58.187033Z",
     "start_time": "2020-01-21T05:26:58.089144Z"
    }
   },
   "outputs": [
    {
     "data": {
      "image/png": "[encoded data removed]",
      "text/plain": [
       "<Figure size 432x288 with 1 Axes>"
      ]
     },
     "metadata": {
      "needs_background": "light"
     },
     "output_type": "display_data"
    }
   ],
   "source": [
    "# accuracy loss 차이 : loss=rms값, accuracy=최종 결과. 원본과 T F 확인 비율.\n",
    "\n",
    "plt.plot(history.history['accuracy'])\n",
    "plt.plot(history.history['val_accuracy'])\n",
    "plt.legend(['training', 'validation'], loc = 'upper left')\n",
    "plt.show()\n",
    "# 결과 그래프가 25 이후로 일정하게 유지됨. sigmoid의 단점. 미분값이 0이 됨."
   ]
  },
  {
   "cell_type": "markdown",
   "metadata": {},
   "source": [
    "Training and validation accuracy seems to improve after around 60 epochs"
   ]
  },
  {
   "cell_type": "code",
   "execution_count": 148,
   "metadata": {
    "ExecuteTime": {
     "end_time": "2020-01-21T05:26:58.495974Z",
     "start_time": "2020-01-21T05:26:58.195859Z"
    }
   },
   "outputs": [
    {
     "name": "stdout",
     "output_type": "stream",
     "text": [
      "10000/10000 [==============================] - 0s 29us/step\n"
     ]
    }
   ],
   "source": [
    "results = model.evaluate(X_test, y_test)"
   ]
  },
  {
   "cell_type": "code",
   "execution_count": 149,
   "metadata": {
    "ExecuteTime": {
     "end_time": "2020-01-21T05:26:58.508842Z",
     "start_time": "2020-01-21T05:26:58.504829Z"
    }
   },
   "outputs": [
    {
     "name": "stdout",
     "output_type": "stream",
     "text": [
      "Test accuracy:  0.11349999904632568\n"
     ]
    }
   ],
   "source": [
    "print('Test accuracy: ', results[1])"
   ]
  },
  {
   "cell_type": "markdown",
   "metadata": {},
   "source": [
    "## 1. Weight Initialization\n",
    "\n"
   ]
  },
  {
   "cell_type": "markdown",
   "metadata": {},
   "source": [
    "- Xavier\n",
    "- Uniform distribution : sqrt( 6 / (fan_in + fan_out))\n",
    "- Normal distribution  : N(0, sqrt(2. / (fan_in + fan_out)))\n",
    "\n",
    "- HE\n",
    "- Uniform distribution : limit is sqrt( 6 / fan_in)\n",
    "- Normal distribution : N(0, sqrt(2 / fan_in))"
   ]
  },
  {
   "cell_type": "code",
   "execution_count": 150,
   "metadata": {
    "ExecuteTime": {
     "end_time": "2020-01-21T05:27:00.264429Z",
     "start_time": "2020-01-21T05:27:00.257418Z"
    }
   },
   "outputs": [],
   "source": [
    "# from now on, create a function to generate (return) models\n",
    "# 초기값 셋팅.\n",
    "def mlp_model():\n",
    "    model = Sequential()\n",
    "    \n",
    "    model.add(Dense(50, input_shape = (784, ), kernel_initializer='he_normal'))     # use he_normal initializer\n",
    "    model.add(Activation('sigmoid'))    \n",
    "    model.add(Dense(50, kernel_initializer='he_normal'))                            # use he_normal initializer\n",
    "    model.add(Activation('sigmoid'))    \n",
    "    model.add(Dense(50, kernel_initializer='he_normal'))                            # use he_normal initializer\n",
    "    model.add(Activation('sigmoid'))    \n",
    "    model.add(Dense(50, kernel_initializer='he_normal'))                            # use he_normal initializer\n",
    "    model.add(Activation('sigmoid'))    \n",
    "    model.add(Dense(10, kernel_initializer='he_normal'))                            # use he_normal initializer\n",
    "    model.add(Activation('softmax'))\n",
    "    \n",
    "    sgd = optimizers.SGD(lr = 0.001)\n",
    "    model.compile(optimizer = sgd, loss = 'categorical_crossentropy', metrics = ['accuracy'])\n",
    "    \n",
    "    return model"
   ]
  },
  {
   "cell_type": "code",
   "execution_count": 151,
   "metadata": {
    "ExecuteTime": {
     "end_time": "2020-01-21T05:28:23.634966Z",
     "start_time": "2020-01-21T05:27:00.698889Z"
    }
   },
   "outputs": [],
   "source": [
    "model = mlp_model()\n",
    "history = model.fit(X_train, y_train, validation_split = 0.3, epochs = 100, verbose = 0)"
   ]
  },
  {
   "cell_type": "code",
   "execution_count": 152,
   "metadata": {
    "ExecuteTime": {
     "end_time": "2020-01-21T05:28:23.736047Z",
     "start_time": "2020-01-21T05:28:23.644120Z"
    }
   },
   "outputs": [
    {
     "data": {
      "image/png": "[encoded data removed]",
      "text/plain": [
       "<Figure size 432x288 with 1 Axes>"
      ]
     },
     "metadata": {
      "needs_background": "light"
     },
     "output_type": "display_data"
    }
   ],
   "source": [
    "plt.plot(history.history['accuracy'])\n",
    "plt.plot(history.history['val_accuracy'])\n",
    "plt.legend(['training', 'validation'], loc = 'upper left')\n",
    "plt.show()"
   ]
  },
  {
   "cell_type": "markdown",
   "metadata": {},
   "source": [
    "Training and validation accuracy seems to improve after around 60 epochs"
   ]
  },
  {
   "cell_type": "code",
   "execution_count": 153,
   "metadata": {
    "ExecuteTime": {
     "end_time": "2020-01-21T05:28:24.044091Z",
     "start_time": "2020-01-21T05:28:23.745024Z"
    }
   },
   "outputs": [
    {
     "name": "stdout",
     "output_type": "stream",
     "text": [
      "10000/10000 [==============================] - 0s 30us/step\n",
      "[2.08613443069458, 0.4941999912261963]\n"
     ]
    }
   ],
   "source": [
    "results = model.evaluate(X_test, y_test)\n",
    "print(results)"
   ]
  },
  {
   "cell_type": "code",
   "execution_count": 154,
   "metadata": {
    "ExecuteTime": {
     "end_time": "2020-01-21T05:28:24.057009Z",
     "start_time": "2020-01-21T05:28:24.053019Z"
    }
   },
   "outputs": [
    {
     "name": "stdout",
     "output_type": "stream",
     "text": [
      "Test accuracy:  0.4941999912261963\n"
     ]
    }
   ],
   "source": [
    "print('Test accuracy: ', results[1])"
   ]
  },
  {
   "cell_type": "markdown",
   "metadata": {},
   "source": [
    "## 2. Nonlinearity (Activation function)"
   ]
  },
  {
   "cell_type": "code",
   "execution_count": 155,
   "metadata": {
    "ExecuteTime": {
     "end_time": "2020-01-21T05:28:24.074046Z",
     "start_time": "2020-01-21T05:28:24.067981Z"
    }
   },
   "outputs": [],
   "source": [
    "def mlp_model():\n",
    "    model = Sequential()\n",
    "    \n",
    "    model.add(Dense(50, input_shape = (784, )))\n",
    "    model.add(Activation('relu'))    # use relu\n",
    "    model.add(Dense(50))\n",
    "    model.add(Activation('relu'))    # use relu\n",
    "    model.add(Dense(50))\n",
    "    model.add(Activation('relu'))    # use relu\n",
    "    model.add(Dense(50))\n",
    "    model.add(Activation('relu'))    # use relu\n",
    "    model.add(Dense(10))\n",
    "    model.add(Activation('softmax'))\n",
    "    \n",
    "    sgd = optimizers.SGD(lr = 0.001)\n",
    "    model.compile(optimizer = sgd, loss = 'categorical_crossentropy', metrics = ['accuracy'])\n",
    "    \n",
    "    return model"
   ]
  },
  {
   "cell_type": "code",
   "execution_count": 156,
   "metadata": {
    "ExecuteTime": {
     "end_time": "2020-01-21T05:29:45.799074Z",
     "start_time": "2020-01-21T05:28:24.082978Z"
    }
   },
   "outputs": [],
   "source": [
    "model = mlp_model()\n",
    "history = model.fit(X_train, y_train, validation_split = 0.3, epochs = 100, verbose = 0)"
   ]
  },
  {
   "cell_type": "code",
   "execution_count": 157,
   "metadata": {
    "ExecuteTime": {
     "end_time": "2020-01-21T05:29:45.910136Z",
     "start_time": "2020-01-21T05:29:45.808627Z"
    }
   },
   "outputs": [
    {
     "data": {
      "image/png": "[encoded data removed]",
      "text/plain": [
       "<Figure size 432x288 with 1 Axes>"
      ]
     },
     "metadata": {
      "needs_background": "light"
     },
     "output_type": "display_data"
    }
   ],
   "source": [
    "plt.plot(history.history['accuracy'])\n",
    "plt.plot(history.history['val_accuracy'])\n",
    "plt.legend(['training', 'validation'], loc = 'upper left')\n",
    "plt.show()"
   ]
  },
  {
   "cell_type": "markdown",
   "metadata": {},
   "source": [
    "Training and validation accuracy improve instantaneously, but reach a plateau after around 30 epochs"
   ]
  },
  {
   "cell_type": "code",
   "execution_count": 159,
   "metadata": {
    "ExecuteTime": {
     "end_time": "2020-01-21T05:30:43.557255Z",
     "start_time": "2020-01-21T05:30:43.250041Z"
    }
   },
   "outputs": [
    {
     "name": "stdout",
     "output_type": "stream",
     "text": [
      "10000/10000 [==============================] - 0s 30us/step\n"
     ]
    }
   ],
   "source": [
    "results = model.evaluate(X_test, y_test)\n",
    "# Training and validation accuracy improve instantaneously, but reach a plateau after around 30 epochs"
   ]
  },
  {
   "cell_type": "code",
   "execution_count": 160,
   "metadata": {
    "ExecuteTime": {
     "end_time": "2020-01-21T05:30:44.293111Z",
     "start_time": "2020-01-21T05:30:44.289121Z"
    }
   },
   "outputs": [
    {
     "name": "stdout",
     "output_type": "stream",
     "text": [
      "Test accuracy:  0.9212999939918518\n"
     ]
    }
   ],
   "source": [
    "print('Test accuracy: ', results[1])"
   ]
  },
  {
   "cell_type": "markdown",
   "metadata": {},
   "source": [
    "## 3. Optimizers\n"
   ]
  },
  {
   "cell_type": "code",
   "execution_count": 161,
   "metadata": {
    "ExecuteTime": {
     "end_time": "2020-01-21T05:30:45.975119Z",
     "start_time": "2020-01-21T05:30:45.969174Z"
    }
   },
   "outputs": [],
   "source": [
    "def mlp_model():\n",
    "    model = Sequential()\n",
    "    \n",
    "    model.add(Dense(50, input_shape = (784, )))\n",
    "    model.add(Activation('sigmoid'))    \n",
    "    model.add(Dense(50))\n",
    "    model.add(Activation('sigmoid'))  \n",
    "    model.add(Dense(50))\n",
    "    model.add(Activation('sigmoid'))    \n",
    "    model.add(Dense(50))\n",
    "    model.add(Activation('sigmoid'))    \n",
    "    model.add(Dense(10))\n",
    "    model.add(Activation('softmax'))\n",
    "    \n",
    "    adam = optimizers.Adam(lr = 0.001)                     # use Adam optimizer\n",
    "    model.compile(optimizer = adam, loss = 'categorical_crossentropy', metrics = ['accuracy'])\n",
    "#     학습속도 빠르게\n",
    "    return model"
   ]
  },
  {
   "cell_type": "code",
   "execution_count": 162,
   "metadata": {
    "ExecuteTime": {
     "end_time": "2020-01-21T05:32:16.295396Z",
     "start_time": "2020-01-21T05:30:46.401135Z"
    }
   },
   "outputs": [],
   "source": [
    "model = mlp_model()\n",
    "history = model.fit(X_train, y_train, validation_split = 0.3, epochs = 100, verbose = 0)"
   ]
  },
  {
   "cell_type": "code",
   "execution_count": 163,
   "metadata": {
    "ExecuteTime": {
     "end_time": "2020-01-21T05:32:16.398004Z",
     "start_time": "2020-01-21T05:32:16.305820Z"
    }
   },
   "outputs": [
    {
     "data": {
      "image/png": "[encoded data removed]",
      "text/plain": [
       "<Figure size 432x288 with 1 Axes>"
      ]
     },
     "metadata": {
      "needs_background": "light"
     },
     "output_type": "display_data"
    }
   ],
   "source": [
    "plt.plot(history.history['accuracy'])\n",
    "plt.plot(history.history['val_accuracy'])\n",
    "plt.legend(['training', 'validation'], loc = 'upper left')\n",
    "plt.show()"
   ]
  },
  {
   "cell_type": "code",
   "execution_count": 164,
   "metadata": {
    "ExecuteTime": {
     "end_time": "2020-01-21T05:32:16.731814Z",
     "start_time": "2020-01-21T05:32:16.405976Z"
    }
   },
   "outputs": [
    {
     "name": "stdout",
     "output_type": "stream",
     "text": [
      "10000/10000 [==============================] - 0s 32us/step\n"
     ]
    }
   ],
   "source": [
    "results = model.evaluate(X_test, y_test)"
   ]
  },
  {
   "cell_type": "code",
   "execution_count": 165,
   "metadata": {
    "ExecuteTime": {
     "end_time": "2020-01-21T05:32:16.744782Z",
     "start_time": "2020-01-21T05:32:16.740858Z"
    }
   },
   "outputs": [
    {
     "name": "stdout",
     "output_type": "stream",
     "text": [
      "Test accuracy:  0.9203000068664551\n"
     ]
    }
   ],
   "source": [
    "print('Test accuracy: ', results[1])"
   ]
  },
  {
   "cell_type": "markdown",
   "metadata": {},
   "source": [
    "## 4. Batch Normalization"
   ]
  },
  {
   "cell_type": "markdown",
   "metadata": {},
   "source": [
    "비선형 변환 전에 추가"
   ]
  },
  {
   "cell_type": "code",
   "execution_count": 166,
   "metadata": {
    "ExecuteTime": {
     "end_time": "2020-01-21T05:32:21.719607Z",
     "start_time": "2020-01-21T05:32:21.712625Z"
    }
   },
   "outputs": [],
   "source": [
    "def mlp_model():\n",
    "    model = Sequential()\n",
    "    \n",
    "    model.add(Dense(50, input_shape = (784, )))\n",
    "    model.add(BatchNormalization())       # activation 전에 해야함.\n",
    "    model.add(Activation('sigmoid'))    \n",
    "    \n",
    "    model.add(Dense(50))\n",
    "    model.add(BatchNormalization())       \n",
    "    model.add(Activation('sigmoid'))    \n",
    "    \n",
    "    model.add(Dense(50))\n",
    "    model.add(BatchNormalization())       \n",
    "    model.add(Activation('sigmoid'))    \n",
    "    \n",
    "    model.add(Dense(50))\n",
    "    model.add(BatchNormalization())       \n",
    "    model.add(Activation('sigmoid'))    \n",
    "    \n",
    "    model.add(Dense(10))\n",
    "    model.add(Activation('softmax'))\n",
    "    \n",
    "    sgd = optimizers.SGD(lr = 0.001)\n",
    "    model.compile(optimizer = sgd, loss = 'categorical_crossentropy', metrics = ['accuracy'])\n",
    "    \n",
    "    return model"
   ]
  },
  {
   "cell_type": "code",
   "execution_count": 167,
   "metadata": {
    "ExecuteTime": {
     "end_time": "2020-01-21T05:35:02.967594Z",
     "start_time": "2020-01-21T05:32:23.657761Z"
    }
   },
   "outputs": [],
   "source": [
    "model = mlp_model()\n",
    "history = model.fit(X_train, y_train, validation_split = 0.3, epochs = 100, verbose = 0)"
   ]
  },
  {
   "cell_type": "code",
   "execution_count": 168,
   "metadata": {
    "ExecuteTime": {
     "end_time": "2020-01-21T05:35:03.074337Z",
     "start_time": "2020-01-21T05:35:02.978963Z"
    }
   },
   "outputs": [
    {
     "data": {
      "image/png": "[encoded data removed]",
      "text/plain": [
       "<Figure size 432x288 with 1 Axes>"
      ]
     },
     "metadata": {
      "needs_background": "light"
     },
     "output_type": "display_data"
    }
   ],
   "source": [
    "plt.plot(history.history['accuracy'])\n",
    "plt.plot(history.history['val_accuracy'])\n",
    "plt.legend(['training', 'validation'], loc = 'upper left')\n",
    "plt.show()"
   ]
  },
  {
   "cell_type": "markdown",
   "metadata": {},
   "source": [
    "Training and validation accuracy improve consistently, but reach plateau after around 60 epochs"
   ]
  },
  {
   "cell_type": "code",
   "execution_count": 169,
   "metadata": {
    "ExecuteTime": {
     "end_time": "2020-01-21T05:35:03.629341Z",
     "start_time": "2020-01-21T05:35:03.082228Z"
    }
   },
   "outputs": [
    {
     "name": "stdout",
     "output_type": "stream",
     "text": [
      "10000/10000 [==============================] - 1s 54us/step\n"
     ]
    }
   ],
   "source": [
    "results = model.evaluate(X_test, y_test)"
   ]
  },
  {
   "cell_type": "code",
   "execution_count": 170,
   "metadata": {
    "ExecuteTime": {
     "end_time": "2020-01-21T05:35:03.642250Z",
     "start_time": "2020-01-21T05:35:03.639281Z"
    }
   },
   "outputs": [
    {
     "name": "stdout",
     "output_type": "stream",
     "text": [
      "Test accuracy:  0.9126999974250793\n"
     ]
    }
   ],
   "source": [
    "print('Test accuracy: ', results[1])"
   ]
  },
  {
   "cell_type": "markdown",
   "metadata": {},
   "source": [
    "## 5. Dropout (Regularization)"
   ]
  },
  {
   "cell_type": "markdown",
   "metadata": {
    "ExecuteTime": {
     "end_time": "2020-01-21T04:54:16.778262Z",
     "start_time": "2020-01-21T04:54:16.773275Z"
    }
   },
   "source": [
    "- 과적합overfitting이 일어날 경우."
   ]
  },
  {
   "cell_type": "code",
   "execution_count": 171,
   "metadata": {
    "ExecuteTime": {
     "end_time": "2020-01-21T05:35:10.041172Z",
     "start_time": "2020-01-21T05:35:10.032196Z"
    }
   },
   "outputs": [],
   "source": [
    "def mlp_model():\n",
    "    model = Sequential()\n",
    "    \n",
    "    model.add(Dense(50, input_shape = (784, )))\n",
    "    model.add(Activation('sigmoid'))    \n",
    "    model.add(Dropout(0.2))                       # 0 ~ 1, x0.2개 버리겠다는 뜻.\n",
    "    model.add(Dense(50))\n",
    "    model.add(Activation('sigmoid'))\n",
    "    model.add(Dropout(0.2))                        # Dropout layer after Activation\n",
    "    model.add(Dense(50))\n",
    "    model.add(Activation('sigmoid'))    \n",
    "    model.add(Dropout(0.2))                        # Dropout layer after Activation\n",
    "    model.add(Dense(50))\n",
    "    model.add(Activation('sigmoid'))    \n",
    "    model.add(Dropout(0.2))                         # Dropout layer after Activation\n",
    "    model.add(Dense(10))\n",
    "    model.add(Activation('softmax'))\n",
    "    \n",
    "    sgd = optimizers.SGD(lr = 0.001)\n",
    "    model.compile(optimizer = sgd, loss = 'categorical_crossentropy', metrics = ['accuracy'])\n",
    "    \n",
    "    return model"
   ]
  },
  {
   "cell_type": "code",
   "execution_count": 172,
   "metadata": {
    "ExecuteTime": {
     "end_time": "2020-01-21T05:36:51.592343Z",
     "start_time": "2020-01-21T05:35:11.017854Z"
    }
   },
   "outputs": [],
   "source": [
    "model = mlp_model()\n",
    "history = model.fit(X_train, y_train, validation_split = 0.3, epochs = 100, verbose = 0)"
   ]
  },
  {
   "cell_type": "code",
   "execution_count": 173,
   "metadata": {
    "ExecuteTime": {
     "end_time": "2020-01-21T05:36:57.774307Z",
     "start_time": "2020-01-21T05:36:57.673279Z"
    }
   },
   "outputs": [
    {
     "data": {
      "image/png": "[encoded data removed]",
      "text/plain": [
       "<Figure size 432x288 with 1 Axes>"
      ]
     },
     "metadata": {
      "needs_background": "light"
     },
     "output_type": "display_data"
    }
   ],
   "source": [
    "plt.plot(history.history['accuracy'])\n",
    "plt.plot(history.history['val_accuracy'])\n",
    "plt.legend(['training', 'validation'], loc = 'upper left')\n",
    "plt.show()"
   ]
  },
  {
   "cell_type": "code",
   "execution_count": 174,
   "metadata": {
    "ExecuteTime": {
     "end_time": "2020-01-21T05:36:59.346103Z",
     "start_time": "2020-01-21T05:36:59.017425Z"
    }
   },
   "outputs": [
    {
     "name": "stdout",
     "output_type": "stream",
     "text": [
      "10000/10000 [==============================] - 0s 32us/step\n"
     ]
    }
   ],
   "source": [
    "results = model.evaluate(X_test, y_test)"
   ]
  },
  {
   "cell_type": "code",
   "execution_count": 175,
   "metadata": {
    "ExecuteTime": {
     "end_time": "2020-01-21T05:37:00.202816Z",
     "start_time": "2020-01-21T05:37:00.193327Z"
    }
   },
   "outputs": [
    {
     "name": "stdout",
     "output_type": "stream",
     "text": [
      "Test accuracy:  0.11349999904632568\n"
     ]
    }
   ],
   "source": [
    "print('Test accuracy: ', results[1])"
   ]
  },
  {
   "cell_type": "markdown",
   "metadata": {},
   "source": [
    "## 6. Model Ensemble"
   ]
  },
  {
   "cell_type": "code",
   "execution_count": 176,
   "metadata": {
    "ExecuteTime": {
     "end_time": "2020-01-21T05:38:50.462759Z",
     "start_time": "2020-01-21T05:38:50.456894Z"
    }
   },
   "outputs": [],
   "source": [
    "# one-hot encoding -> label로 다시 변환\n",
    "y_train = np.argmax(y_train, axis = 1)\n",
    "y_test = np.argmax(y_test, axis = 1)"
   ]
  },
  {
   "cell_type": "code",
   "execution_count": 177,
   "metadata": {
    "ExecuteTime": {
     "end_time": "2020-01-21T05:42:15.925548Z",
     "start_time": "2020-01-21T05:42:15.909930Z"
    }
   },
   "outputs": [],
   "source": [
    "def mlp_model():\n",
    "    model = Sequential()\n",
    "    \n",
    "    model.add(Dense(50, input_shape = (784, )))\n",
    "    model.add(Activation('sigmoid'))    \n",
    "    model.add(Dense(50))\n",
    "    model.add(Activation('sigmoid'))    \n",
    "    model.add(Dense(50))\n",
    "    model.add(Activation('sigmoid'))    \n",
    "    model.add(Dense(50))\n",
    "    model.add(Activation('sigmoid'))    \n",
    "    model.add(Dense(10))\n",
    "    model.add(Activation('softmax'))\n",
    "    \n",
    "    sgd = optimizers.SGD(lr = 0.001)\n",
    "    model.compile(optimizer = sgd, loss = 'categorical_crossentropy', metrics = ['accuracy'])\n",
    "    \n",
    "    return model"
   ]
  },
  {
   "cell_type": "code",
   "execution_count": 181,
   "metadata": {
    "ExecuteTime": {
     "end_time": "2020-01-21T05:47:31.684323Z",
     "start_time": "2020-01-21T05:47:31.679354Z"
    }
   },
   "outputs": [],
   "source": [
    "model1 = KerasClassifier(build_fn = mlp_model, epochs = 100, verbose = 1)\n",
    "model2 = KerasClassifier(build_fn = mlp_model, epochs = 100, verbose = 1)\n",
    "model3 = KerasClassifier(build_fn = mlp_model, epochs = 100, verbose = 1)"
   ]
  },
  {
   "cell_type": "code",
   "execution_count": 182,
   "metadata": {
    "ExecuteTime": {
     "end_time": "2020-01-21T05:47:32.964286Z",
     "start_time": "2020-01-21T05:47:32.959283Z"
    }
   },
   "outputs": [],
   "source": [
    "ensemble_clf = VotingClassifier(estimators = [('model1', model1), \n",
    "                                              ('model2', model2), \n",
    "                                              ('model3', model3)], voting = 'soft')\n",
    "# soft : 분류기마다 가중치를 다르게 설정\n",
    "# hard : 분류기마다 가중치를 동일하게 설정"
   ]
  },
  {
   "cell_type": "code",
   "execution_count": 183,
   "metadata": {
    "ExecuteTime": {
     "end_time": "2020-01-21T05:52:58.294568Z",
     "start_time": "2020-01-21T05:47:38.193457Z"
    }
   },
   "outputs": [
    {
     "name": "stdout",
     "output_type": "stream",
     "text": [
      "Epoch 1/100\n",
      "19800/19800 [==============================] - 1s 61us/step - loss: 2.3699 - accuracy: 0.1135\n",
      "Epoch 2/100\n",
      "19800/19800 [==============================] - 1s 50us/step - loss: 2.3212 - accuracy: 0.1135\n",
      "Epoch 3/100\n",
      "19800/19800 [==============================] - 1s 51us/step - loss: 2.3059 - accuracy: 0.1135\n",
      "Epoch 4/100\n",
      "19800/19800 [==============================] - 1s 50us/step - loss: 2.3014 - accuracy: 0.1135\n",
      "Epoch 5/100\n",
      "19800/19800 [==============================] - 1s 51us/step - loss: 2.3001 - accuracy: 0.1135\n",
      "Epoch 6/100\n",
      "19800/19800 [==============================] - 1s 51us/step - loss: 2.2997 - accuracy: 0.1135\n",
      "Epoch 7/100\n",
      "19800/19800 [==============================] - 1s 50us/step - loss: 2.2994 - accuracy: 0.1135\n",
      "Epoch 8/100\n",
      "19800/19800 [==============================] - 1s 50us/step - loss: 2.2991 - accuracy: 0.1135\n",
      "Epoch 9/100\n",
      "19800/19800 [==============================] - 1s 51us/step - loss: 2.2989 - accuracy: 0.1135\n",
      "Epoch 10/100\n",
      "19800/19800 [==============================] - 1s 50us/step - loss: 2.2986 - accuracy: 0.1135\n",
      "Epoch 11/100\n",
      "19800/19800 [==============================] - 1s 51us/step - loss: 2.2984 - accuracy: 0.1135\n",
      "Epoch 12/100\n",
      "19800/19800 [==============================] - 1s 50us/step - loss: 2.2981 - accuracy: 0.1135\n",
      "Epoch 13/100\n",
      "19800/19800 [==============================] - 1s 50us/step - loss: 2.2979 - accuracy: 0.1135\n",
      "Epoch 14/100\n",
      "19800/19800 [==============================] - 1s 51us/step - loss: 2.2976 - accuracy: 0.1135\n",
      "Epoch 15/100\n",
      "19800/19800 [==============================] - 1s 51us/step - loss: 2.2973 - accuracy: 0.1135\n",
      "Epoch 16/100\n",
      "19800/19800 [==============================] - 1s 51us/step - loss: 2.2971 - accuracy: 0.1135\n",
      "Epoch 17/100\n",
      "19800/19800 [==============================] - 1s 50us/step - loss: 2.2968 - accuracy: 0.1135\n",
      "Epoch 18/100\n",
      "19800/19800 [==============================] - 1s 52us/step - loss: 2.2965 - accuracy: 0.1135\n",
      "Epoch 19/100\n",
      "19800/19800 [==============================] - 1s 51us/step - loss: 2.2963 - accuracy: 0.1135\n",
      "Epoch 20/100\n",
      "19800/19800 [==============================] - 1s 51us/step - loss: 2.2960 - accuracy: 0.1135\n",
      "Epoch 21/100\n",
      "19800/19800 [==============================] - 1s 50us/step - loss: 2.2957 - accuracy: 0.1135\n",
      "Epoch 22/100\n",
      "19800/19800 [==============================] - 1s 51us/step - loss: 2.2954 - accuracy: 0.1135\n",
      "Epoch 23/100\n",
      "19800/19800 [==============================] - 1s 50us/step - loss: 2.2951 - accuracy: 0.1135\n",
      "Epoch 24/100\n",
      "19800/19800 [==============================] - 1s 50us/step - loss: 2.2949 - accuracy: 0.1135\n",
      "Epoch 25/100\n",
      "19800/19800 [==============================] - 1s 50us/step - loss: 2.2946 - accuracy: 0.1135\n",
      "Epoch 26/100\n",
      "19800/19800 [==============================] - 1s 51us/step - loss: 2.2943 - accuracy: 0.1135\n",
      "Epoch 27/100\n",
      "19800/19800 [==============================] - 1s 51us/step - loss: 2.2940 - accuracy: 0.1135\n",
      "Epoch 28/100\n",
      "19800/19800 [==============================] - 1s 51us/step - loss: 2.2937 - accuracy: 0.1135\n",
      "Epoch 29/100\n",
      "19800/19800 [==============================] - 1s 52us/step - loss: 2.2934 - accuracy: 0.1135\n",
      "Epoch 30/100\n",
      "19800/19800 [==============================] - 1s 52us/step - loss: 2.2930 - accuracy: 0.1135\n",
      "Epoch 31/100\n",
      "19800/19800 [==============================] - 1s 52us/step - loss: 2.2928 - accuracy: 0.1135\n",
      "Epoch 32/100\n",
      "19800/19800 [==============================] - 1s 54us/step - loss: 2.2924 - accuracy: 0.1135\n",
      "Epoch 33/100\n",
      "19800/19800 [==============================] - 1s 51us/step - loss: 2.2921 - accuracy: 0.1135\n",
      "Epoch 34/100\n",
      "19800/19800 [==============================] - 1s 51us/step - loss: 2.2918 - accuracy: 0.1135\n",
      "Epoch 35/100\n",
      "19800/19800 [==============================] - 1s 50us/step - loss: 2.2915 - accuracy: 0.1135\n",
      "Epoch 36/100\n",
      "19800/19800 [==============================] - 1s 50us/step - loss: 2.2911 - accuracy: 0.1135\n",
      "Epoch 37/100\n",
      "19800/19800 [==============================] - 1s 50us/step - loss: 2.2908 - accuracy: 0.1135\n",
      "Epoch 38/100\n",
      "19800/19800 [==============================] - 1s 52us/step - loss: 2.2904 - accuracy: 0.1135\n",
      "Epoch 39/100\n",
      "19800/19800 [==============================] - 1s 52us/step - loss: 2.2900 - accuracy: 0.1135\n",
      "Epoch 40/100\n",
      "19800/19800 [==============================] - 1s 50us/step - loss: 2.2897 - accuracy: 0.1135\n",
      "Epoch 41/100\n",
      "19800/19800 [==============================] - 1s 52us/step - loss: 2.2892 - accuracy: 0.1135\n",
      "Epoch 42/100\n",
      "19800/19800 [==============================] - 1s 51us/step - loss: 2.2888 - accuracy: 0.1135\n",
      "Epoch 43/100\n",
      "19800/19800 [==============================] - 1s 55us/step - loss: 2.2884 - accuracy: 0.1136\n",
      "Epoch 44/100\n",
      "19800/19800 [==============================] - 1s 52us/step - loss: 2.2880 - accuracy: 0.1135\n",
      "Epoch 45/100\n",
      "19800/19800 [==============================] - 1s 51us/step - loss: 2.2876 - accuracy: 0.1135\n",
      "Epoch 46/100\n",
      "19800/19800 [==============================] - 1s 50us/step - loss: 2.2871 - accuracy: 0.1135\n",
      "Epoch 47/100\n",
      "19800/19800 [==============================] - 1s 50us/step - loss: 2.2866 - accuracy: 0.1135\n",
      "Epoch 48/100\n",
      "19800/19800 [==============================] - 1s 51us/step - loss: 2.2862 - accuracy: 0.1135\n",
      "Epoch 49/100\n",
      "19800/19800 [==============================] - 1s 51us/step - loss: 2.2857 - accuracy: 0.1135\n",
      "Epoch 50/100\n",
      "19800/19800 [==============================] - 1s 51us/step - loss: 2.2852 - accuracy: 0.1137\n",
      "Epoch 51/100\n",
      "19800/19800 [==============================] - 1s 49us/step - loss: 2.2846 - accuracy: 0.1135\n",
      "Epoch 52/100\n",
      "19800/19800 [==============================] - 1s 50us/step - loss: 2.2841 - accuracy: 0.1135\n",
      "Epoch 53/100\n",
      "19800/19800 [==============================] - 1s 51us/step - loss: 2.2835 - accuracy: 0.1136\n",
      "Epoch 54/100\n",
      "19800/19800 [==============================] - 1s 51us/step - loss: 2.2830 - accuracy: 0.1135\n",
      "Epoch 55/100\n",
      "19800/19800 [==============================] - 1s 49us/step - loss: 2.2824 - accuracy: 0.1135\n",
      "Epoch 56/100\n",
      "19800/19800 [==============================] - 1s 51us/step - loss: 2.2818 - accuracy: 0.1135\n",
      "Epoch 57/100\n",
      "19800/19800 [==============================] - 1s 53us/step - loss: 2.2812 - accuracy: 0.1146\n",
      "Epoch 58/100\n",
      "19800/19800 [==============================] - 1s 51us/step - loss: 2.2805 - accuracy: 0.1148\n",
      "Epoch 59/100\n",
      "19800/19800 [==============================] - 1s 53us/step - loss: 2.2799 - accuracy: 0.1135\n",
      "Epoch 60/100\n",
      "19800/19800 [==============================] - 1s 52us/step - loss: 2.2792 - accuracy: 0.1153\n",
      "Epoch 61/100\n",
      "19800/19800 [==============================] - 1s 52us/step - loss: 2.2785 - accuracy: 0.1136\n",
      "Epoch 62/100\n",
      "19800/19800 [==============================] - 1s 51us/step - loss: 2.2777 - accuracy: 0.1141\n",
      "Epoch 63/100\n",
      "19800/19800 [==============================] - 1s 51us/step - loss: 2.2770 - accuracy: 0.1142\n",
      "Epoch 64/100\n",
      "19800/19800 [==============================] - 1s 51us/step - loss: 2.2762 - accuracy: 0.1211\n",
      "Epoch 65/100\n",
      "19800/19800 [==============================] - 1s 51us/step - loss: 2.2754 - accuracy: 0.1207\n",
      "Epoch 66/100\n",
      "19800/19800 [==============================] - 1s 51us/step - loss: 2.2745 - accuracy: 0.1194\n",
      "Epoch 67/100\n",
      "19800/19800 [==============================] - 1s 51us/step - loss: 2.2736 - accuracy: 0.1240\n",
      "Epoch 68/100\n",
      "19800/19800 [==============================] - 1s 51us/step - loss: 2.2727 - accuracy: 0.1277\n",
      "Epoch 69/100\n",
      "19800/19800 [==============================] - 1s 53us/step - loss: 2.2718 - accuracy: 0.1390\n",
      "Epoch 70/100\n",
      "19800/19800 [==============================] - 1s 52us/step - loss: 2.2708 - accuracy: 0.1357\n",
      "Epoch 71/100\n",
      "19800/19800 [==============================] - 1s 52us/step - loss: 2.2697 - accuracy: 0.1549\n",
      "Epoch 72/100\n",
      "19800/19800 [==============================] - 1s 51us/step - loss: 2.2687 - accuracy: 0.1624\n",
      "Epoch 73/100\n",
      "19800/19800 [==============================] - 1s 51us/step - loss: 2.2675 - accuracy: 0.1741\n",
      "Epoch 74/100\n",
      "19800/19800 [==============================] - 1s 51us/step - loss: 2.2664 - accuracy: 0.1731\n",
      "Epoch 75/100\n",
      "19800/19800 [==============================] - 1s 52us/step - loss: 2.2652 - accuracy: 0.1757\n",
      "Epoch 76/100\n",
      "19800/19800 [==============================] - 1s 51us/step - loss: 2.2639 - accuracy: 0.1747\n",
      "Epoch 77/100\n",
      "19800/19800 [==============================] - 1s 51us/step - loss: 2.2626 - accuracy: 0.2057\n",
      "Epoch 78/100\n",
      "19800/19800 [==============================] - 1s 50us/step - loss: 2.2612 - accuracy: 0.2118\n",
      "Epoch 79/100\n",
      "19800/19800 [==============================] - 1s 50us/step - loss: 2.2597 - accuracy: 0.2260\n",
      "Epoch 80/100\n",
      "19800/19800 [==============================] - 1s 50us/step - loss: 2.2582 - accuracy: 0.2096\n",
      "Epoch 81/100\n",
      "19800/19800 [==============================] - 1s 51us/step - loss: 2.2566 - accuracy: 0.2317\n",
      "Epoch 82/100\n",
      "19800/19800 [==============================] - 1s 51us/step - loss: 2.2549 - accuracy: 0.2401\n",
      "Epoch 83/100\n",
      "19800/19800 [==============================] - 1s 51us/step - loss: 2.2531 - accuracy: 0.2459\n",
      "Epoch 84/100\n",
      "19800/19800 [==============================] - 1s 51us/step - loss: 2.2512 - accuracy: 0.2444\n",
      "Epoch 85/100\n",
      "19800/19800 [==============================] - 1s 50us/step - loss: 2.2493 - accuracy: 0.2479\n",
      "Epoch 86/100\n",
      "19800/19800 [==============================] - 1s 50us/step - loss: 2.2472 - accuracy: 0.2711\n",
      "Epoch 87/100\n",
      "19800/19800 [==============================] - 1s 51us/step - loss: 2.2451 - accuracy: 0.2804\n",
      "Epoch 88/100\n",
      "19800/19800 [==============================] - 1s 51us/step - loss: 2.2428 - accuracy: 0.2681\n",
      "Epoch 89/100\n",
      "19800/19800 [==============================] - 1s 51us/step - loss: 2.2404 - accuracy: 0.2706\n",
      "Epoch 90/100\n",
      "19800/19800 [==============================] - 1s 51us/step - loss: 2.2379 - accuracy: 0.2747\n",
      "Epoch 91/100\n",
      "19800/19800 [==============================] - 1s 51us/step - loss: 2.2352 - accuracy: 0.2849\n",
      "Epoch 92/100\n",
      "19800/19800 [==============================] - 1s 51us/step - loss: 2.2324 - accuracy: 0.2753\n",
      "Epoch 93/100\n",
      "19800/19800 [==============================] - 1s 51us/step - loss: 2.2295 - accuracy: 0.2782\n",
      "Epoch 94/100\n",
      "19800/19800 [==============================] - 1s 51us/step - loss: 2.2263 - accuracy: 0.2914\n",
      "Epoch 95/100\n",
      "19800/19800 [==============================] - 1s 52us/step - loss: 2.2230 - accuracy: 0.2976\n",
      "Epoch 96/100\n",
      "19800/19800 [==============================] - 1s 51us/step - loss: 2.2194 - accuracy: 0.2935\n",
      "Epoch 97/100\n",
      "19800/19800 [==============================] - 1s 51us/step - loss: 2.2157 - accuracy: 0.2925\n",
      "Epoch 98/100\n",
      "19800/19800 [==============================] - 1s 51us/step - loss: 2.2118 - accuracy: 0.3147\n",
      "Epoch 99/100\n",
      "19800/19800 [==============================] - 1s 51us/step - loss: 2.2076 - accuracy: 0.2895\n",
      "Epoch 100/100\n",
      "19800/19800 [==============================] - 1s 51us/step - loss: 2.2032 - accuracy: 0.2918\n",
      "Epoch 1/100\n",
      "19800/19800 [==============================] - 1s 61us/step - loss: 2.4196 - accuracy: 0.0977\n",
      "Epoch 2/100\n",
      "19800/19800 [==============================] - 1s 52us/step - loss: 2.3267 - accuracy: 0.0781\n",
      "Epoch 3/100\n",
      "19800/19800 [==============================] - 1s 51us/step - loss: 2.3059 - accuracy: 0.0836\n",
      "Epoch 4/100\n",
      "19800/19800 [==============================] - 1s 52us/step - loss: 2.3014 - accuracy: 0.1069\n",
      "Epoch 5/100\n",
      "19800/19800 [==============================] - 1s 52us/step - loss: 2.3004 - accuracy: 0.1135\n",
      "Epoch 6/100\n",
      "19800/19800 [==============================] - 1s 53us/step - loss: 2.2999 - accuracy: 0.1135\n",
      "Epoch 7/100\n",
      "19800/19800 [==============================] - 1s 53us/step - loss: 2.2996 - accuracy: 0.1135\n",
      "Epoch 8/100\n",
      "19800/19800 [==============================] - 1s 53us/step - loss: 2.2993 - accuracy: 0.1135\n",
      "Epoch 9/100\n",
      "19800/19800 [==============================] - 1s 53us/step - loss: 2.2990 - accuracy: 0.1135\n",
      "Epoch 10/100\n",
      "19800/19800 [==============================] - 1s 53us/step - loss: 2.2988 - accuracy: 0.1135\n",
      "Epoch 11/100\n",
      "19800/19800 [==============================] - 1s 54us/step - loss: 2.2985 - accuracy: 0.1135\n",
      "Epoch 12/100\n",
      "19800/19800 [==============================] - 1s 53us/step - loss: 2.2982 - accuracy: 0.1135\n",
      "Epoch 13/100\n",
      "19800/19800 [==============================] - 1s 54us/step - loss: 2.2980 - accuracy: 0.1135\n",
      "Epoch 14/100\n",
      "19800/19800 [==============================] - 1s 54us/step - loss: 2.2977 - accuracy: 0.1135\n",
      "Epoch 15/100\n",
      "19800/19800 [==============================] - 1s 53us/step - loss: 2.2974 - accuracy: 0.1135\n",
      "Epoch 16/100\n",
      "19800/19800 [==============================] - 1s 53us/step - loss: 2.2972 - accuracy: 0.1135\n",
      "Epoch 17/100\n",
      "19800/19800 [==============================] - 1s 52us/step - loss: 2.2970 - accuracy: 0.1135\n",
      "Epoch 18/100\n",
      "19800/19800 [==============================] - 1s 55us/step - loss: 2.2967 - accuracy: 0.1135\n",
      "Epoch 19/100\n",
      "19800/19800 [==============================] - 1s 55us/step - loss: 2.2965 - accuracy: 0.1135\n",
      "Epoch 20/100\n",
      "19800/19800 [==============================] - 1s 56us/step - loss: 2.2962 - accuracy: 0.1135\n",
      "Epoch 21/100\n",
      "19800/19800 [==============================] - 1s 55us/step - loss: 2.2960 - accuracy: 0.1135\n",
      "Epoch 22/100\n",
      "19800/19800 [==============================] - 1s 56us/step - loss: 2.2957 - accuracy: 0.1135\n",
      "Epoch 23/100\n",
      "19800/19800 [==============================] - 1s 55us/step - loss: 2.2955 - accuracy: 0.1135\n",
      "Epoch 24/100\n",
      "19800/19800 [==============================] - 1s 56us/step - loss: 2.2952 - accuracy: 0.1135\n",
      "Epoch 25/100\n",
      "19800/19800 [==============================] - 1s 55us/step - loss: 2.2950 - accuracy: 0.1135\n",
      "Epoch 26/100\n",
      "19800/19800 [==============================] - 1s 56us/step - loss: 2.2947 - accuracy: 0.1135\n",
      "Epoch 27/100\n",
      "19800/19800 [==============================] - 1s 55us/step - loss: 2.2944 - accuracy: 0.1135\n",
      "Epoch 28/100\n",
      "19800/19800 [==============================] - 1s 55us/step - loss: 2.2942 - accuracy: 0.1135\n",
      "Epoch 29/100\n",
      "19800/19800 [==============================] - 1s 55us/step - loss: 2.2939 - accuracy: 0.1135\n",
      "Epoch 30/100\n",
      "19800/19800 [==============================] - 1s 55us/step - loss: 2.2937 - accuracy: 0.1135\n",
      "Epoch 31/100\n",
      "19800/19800 [==============================] - 1s 55us/step - loss: 2.2934 - accuracy: 0.1135\n",
      "Epoch 32/100\n",
      "19800/19800 [==============================] - 1s 55us/step - loss: 2.2931 - accuracy: 0.1135\n",
      "Epoch 33/100\n",
      "19800/19800 [==============================] - 1s 55us/step - loss: 2.2929 - accuracy: 0.1135\n",
      "Epoch 34/100\n",
      "19800/19800 [==============================] - 1s 55us/step - loss: 2.2926 - accuracy: 0.1135\n",
      "Epoch 35/100\n",
      "19800/19800 [==============================] - 1s 54us/step - loss: 2.2923 - accuracy: 0.1135\n",
      "Epoch 36/100\n",
      "19800/19800 [==============================] - 1s 55us/step - loss: 2.2920 - accuracy: 0.1135\n",
      "Epoch 37/100\n",
      "19800/19800 [==============================] - 1s 56us/step - loss: 2.2917 - accuracy: 0.1135\n",
      "Epoch 38/100\n",
      "19800/19800 [==============================] - 1s 55us/step - loss: 2.2914 - accuracy: 0.1135\n",
      "Epoch 39/100\n",
      "19800/19800 [==============================] - 1s 55us/step - loss: 2.2911 - accuracy: 0.1135\n",
      "Epoch 40/100\n",
      "19800/19800 [==============================] - 1s 55us/step - loss: 2.2908 - accuracy: 0.1135\n",
      "Epoch 41/100\n",
      "19800/19800 [==============================] - 1s 55us/step - loss: 2.2905 - accuracy: 0.1135\n",
      "Epoch 42/100\n",
      "19800/19800 [==============================] - 1s 54us/step - loss: 2.2902 - accuracy: 0.1135\n",
      "Epoch 43/100\n",
      "19800/19800 [==============================] - 1s 55us/step - loss: 2.2899 - accuracy: 0.1135\n",
      "Epoch 44/100\n",
      "19800/19800 [==============================] - 1s 55us/step - loss: 2.2896 - accuracy: 0.1135\n",
      "Epoch 45/100\n",
      "19800/19800 [==============================] - 1s 55us/step - loss: 2.2893 - accuracy: 0.1135\n",
      "Epoch 46/100\n",
      "19800/19800 [==============================] - 1s 56us/step - loss: 2.2889 - accuracy: 0.1135\n",
      "Epoch 47/100\n",
      "19800/19800 [==============================] - 1s 55us/step - loss: 2.2886 - accuracy: 0.1135\n",
      "Epoch 48/100\n",
      "19800/19800 [==============================] - 1s 55us/step - loss: 2.2883 - accuracy: 0.1135\n",
      "Epoch 49/100\n",
      "19800/19800 [==============================] - 1s 55us/step - loss: 2.2879 - accuracy: 0.1135\n",
      "Epoch 50/100\n",
      "19800/19800 [==============================] - 1s 55us/step - loss: 2.2875 - accuracy: 0.1135\n",
      "Epoch 51/100\n",
      "19800/19800 [==============================] - 1s 56us/step - loss: 2.2872 - accuracy: 0.1135\n",
      "Epoch 52/100\n",
      "19800/19800 [==============================] - 1s 55us/step - loss: 2.2868 - accuracy: 0.1135\n",
      "Epoch 53/100\n"
     ]
    },
    {
     "name": "stdout",
     "output_type": "stream",
     "text": [
      "19800/19800 [==============================] - 1s 56us/step - loss: 2.2864 - accuracy: 0.1135\n",
      "Epoch 54/100\n",
      "19800/19800 [==============================] - 1s 55us/step - loss: 2.2860 - accuracy: 0.1135\n",
      "Epoch 55/100\n",
      "19800/19800 [==============================] - 1s 55us/step - loss: 2.2856 - accuracy: 0.1135\n",
      "Epoch 56/100\n",
      "19800/19800 [==============================] - 1s 55us/step - loss: 2.2852 - accuracy: 0.1135\n",
      "Epoch 57/100\n",
      "19800/19800 [==============================] - 1s 54us/step - loss: 2.2848 - accuracy: 0.1135\n",
      "Epoch 58/100\n",
      "19800/19800 [==============================] - 1s 55us/step - loss: 2.2844 - accuracy: 0.1135\n",
      "Epoch 59/100\n",
      "19800/19800 [==============================] - 1s 55us/step - loss: 2.2840 - accuracy: 0.1135\n",
      "Epoch 60/100\n",
      "19800/19800 [==============================] - 1s 55us/step - loss: 2.2835 - accuracy: 0.1135\n",
      "Epoch 61/100\n",
      "19800/19800 [==============================] - 1s 56us/step - loss: 2.2830 - accuracy: 0.1135\n",
      "Epoch 62/100\n",
      "19800/19800 [==============================] - 1s 54us/step - loss: 2.2826 - accuracy: 0.1135\n",
      "Epoch 63/100\n",
      "19800/19800 [==============================] - 1s 55us/step - loss: 2.2821 - accuracy: 0.1135\n",
      "Epoch 64/100\n",
      "19800/19800 [==============================] - 1s 55us/step - loss: 2.2815 - accuracy: 0.1135\n",
      "Epoch 65/100\n",
      "19800/19800 [==============================] - 1s 55us/step - loss: 2.2810 - accuracy: 0.1135\n",
      "Epoch 66/100\n",
      "19800/19800 [==============================] - 1s 55us/step - loss: 2.2805 - accuracy: 0.1135\n",
      "Epoch 67/100\n",
      "19800/19800 [==============================] - 1s 56us/step - loss: 2.2799 - accuracy: 0.1135\n",
      "Epoch 68/100\n",
      "19800/19800 [==============================] - 1s 55us/step - loss: 2.2794 - accuracy: 0.1135\n",
      "Epoch 69/100\n",
      "19800/19800 [==============================] - 1s 55us/step - loss: 2.2788 - accuracy: 0.1135\n",
      "Epoch 70/100\n",
      "19800/19800 [==============================] - 1s 55us/step - loss: 2.2782 - accuracy: 0.1135\n",
      "Epoch 71/100\n",
      "19800/19800 [==============================] - 1s 55us/step - loss: 2.2775 - accuracy: 0.1135\n",
      "Epoch 72/100\n",
      "19800/19800 [==============================] - 1s 55us/step - loss: 2.2769 - accuracy: 0.1135\n",
      "Epoch 73/100\n",
      "19800/19800 [==============================] - 1s 55us/step - loss: 2.2762 - accuracy: 0.1135\n",
      "Epoch 74/100\n",
      "19800/19800 [==============================] - 1s 54us/step - loss: 2.2755 - accuracy: 0.1135\n",
      "Epoch 75/100\n",
      "19800/19800 [==============================] - 1s 55us/step - loss: 2.2748 - accuracy: 0.1135\n",
      "Epoch 76/100\n",
      "19800/19800 [==============================] - 1s 55us/step - loss: 2.2740 - accuracy: 0.1135\n",
      "Epoch 77/100\n",
      "19800/19800 [==============================] - 1s 55us/step - loss: 2.2733 - accuracy: 0.1135\n",
      "Epoch 78/100\n",
      "19800/19800 [==============================] - 1s 55us/step - loss: 2.2725 - accuracy: 0.1135\n",
      "Epoch 79/100\n",
      "19800/19800 [==============================] - 1s 55us/step - loss: 2.2716 - accuracy: 0.1135\n",
      "Epoch 80/100\n",
      "19800/19800 [==============================] - 1s 55us/step - loss: 2.2708 - accuracy: 0.1135\n",
      "Epoch 81/100\n",
      "19800/19800 [==============================] - 1s 55us/step - loss: 2.2699 - accuracy: 0.1135\n",
      "Epoch 82/100\n",
      "19800/19800 [==============================] - 1s 55us/step - loss: 2.2689 - accuracy: 0.1135\n",
      "Epoch 83/100\n",
      "19800/19800 [==============================] - 1s 55us/step - loss: 2.2680 - accuracy: 0.1139\n",
      "Epoch 84/100\n",
      "19800/19800 [==============================] - 1s 55us/step - loss: 2.2670 - accuracy: 0.1156\n",
      "Epoch 85/100\n",
      "19800/19800 [==============================] - 1s 55us/step - loss: 2.2659 - accuracy: 0.1142\n",
      "Epoch 86/100\n",
      "19800/19800 [==============================] - 1s 54us/step - loss: 2.2648 - accuracy: 0.1180\n",
      "Epoch 87/100\n",
      "19800/19800 [==============================] - 1s 56us/step - loss: 2.2637 - accuracy: 0.1149\n",
      "Epoch 88/100\n",
      "19800/19800 [==============================] - 1s 54us/step - loss: 2.2626 - accuracy: 0.1230\n",
      "Epoch 89/100\n",
      "19800/19800 [==============================] - 1s 55us/step - loss: 2.2614 - accuracy: 0.1170\n",
      "Epoch 90/100\n",
      "19800/19800 [==============================] - 1s 54us/step - loss: 2.2601 - accuracy: 0.1301\n",
      "Epoch 91/100\n",
      "19800/19800 [==============================] - 1s 55us/step - loss: 2.2589 - accuracy: 0.1363\n",
      "Epoch 92/100\n",
      "19800/19800 [==============================] - 1s 55us/step - loss: 2.2576 - accuracy: 0.1269\n",
      "Epoch 93/100\n",
      "19800/19800 [==============================] - 1s 54us/step - loss: 2.2561 - accuracy: 0.1430\n",
      "Epoch 94/100\n",
      "19800/19800 [==============================] - 1s 56us/step - loss: 2.2547 - accuracy: 0.1453\n",
      "Epoch 95/100\n",
      "19800/19800 [==============================] - 1s 54us/step - loss: 2.2532 - accuracy: 0.1570\n",
      "Epoch 96/100\n",
      "19800/19800 [==============================] - 1s 55us/step - loss: 2.2515 - accuracy: 0.1420\n",
      "Epoch 97/100\n",
      "19800/19800 [==============================] - 1s 55us/step - loss: 2.2499 - accuracy: 0.2025\n",
      "Epoch 98/100\n",
      "19800/19800 [==============================] - 1s 55us/step - loss: 2.2481 - accuracy: 0.1981\n",
      "Epoch 99/100\n",
      "19800/19800 [==============================] - 1s 55us/step - loss: 2.2463 - accuracy: 0.1653\n",
      "Epoch 100/100\n",
      "19800/19800 [==============================] - 1s 55us/step - loss: 2.2445 - accuracy: 0.2355\n",
      "Epoch 1/100\n",
      "19800/19800 [==============================] - 1s 65us/step - loss: 2.3704 - accuracy: 0.1019\n",
      "Epoch 2/100\n",
      "19800/19800 [==============================] - 1s 53us/step - loss: 2.3154 - accuracy: 0.1044\n",
      "Epoch 3/100\n",
      "19800/19800 [==============================] - 1s 52us/step - loss: 2.3039 - accuracy: 0.1202\n",
      "Epoch 4/100\n",
      "19800/19800 [==============================] - 1s 53us/step - loss: 2.3014 - accuracy: 0.1135\n",
      "Epoch 5/100\n",
      "19800/19800 [==============================] - 1s 53us/step - loss: 2.3008 - accuracy: 0.1135\n",
      "Epoch 6/100\n",
      "19800/19800 [==============================] - 1s 53us/step - loss: 2.3005 - accuracy: 0.1135\n",
      "Epoch 7/100\n",
      "19800/19800 [==============================] - 1s 53us/step - loss: 2.3003 - accuracy: 0.1135\n",
      "Epoch 8/100\n",
      "19800/19800 [==============================] - 1s 52us/step - loss: 2.3000 - accuracy: 0.1135\n",
      "Epoch 9/100\n",
      "19800/19800 [==============================] - 1s 52us/step - loss: 2.2998 - accuracy: 0.1135\n",
      "Epoch 10/100\n",
      "19800/19800 [==============================] - 1s 53us/step - loss: 2.2995 - accuracy: 0.1135\n",
      "Epoch 11/100\n",
      "19800/19800 [==============================] - 1s 53us/step - loss: 2.2993 - accuracy: 0.1135\n",
      "Epoch 12/100\n",
      "19800/19800 [==============================] - 1s 54us/step - loss: 2.2990 - accuracy: 0.1135\n",
      "Epoch 13/100\n",
      "19800/19800 [==============================] - 1s 54us/step - loss: 2.2988 - accuracy: 0.1135\n",
      "Epoch 14/100\n",
      "19800/19800 [==============================] - 1s 54us/step - loss: 2.2985 - accuracy: 0.1135\n",
      "Epoch 15/100\n",
      "19800/19800 [==============================] - 1s 53us/step - loss: 2.2983 - accuracy: 0.1135\n",
      "Epoch 16/100\n",
      "19800/19800 [==============================] - 1s 53us/step - loss: 2.2980 - accuracy: 0.1135\n",
      "Epoch 17/100\n",
      "19800/19800 [==============================] - 1s 53us/step - loss: 2.2978 - accuracy: 0.1135\n",
      "Epoch 18/100\n",
      "19800/19800 [==============================] - 1s 54us/step - loss: 2.2975 - accuracy: 0.1135\n",
      "Epoch 19/100\n",
      "19800/19800 [==============================] - 1s 54us/step - loss: 2.2972 - accuracy: 0.1135\n",
      "Epoch 20/100\n",
      "19800/19800 [==============================] - 1s 54us/step - loss: 2.2970 - accuracy: 0.1135\n",
      "Epoch 21/100\n",
      "19800/19800 [==============================] - 1s 54us/step - loss: 2.2967 - accuracy: 0.1135\n",
      "Epoch 22/100\n",
      "19800/19800 [==============================] - 1s 54us/step - loss: 2.2964 - accuracy: 0.1135\n",
      "Epoch 23/100\n",
      "19800/19800 [==============================] - 1s 54us/step - loss: 2.2961 - accuracy: 0.1135\n",
      "Epoch 24/100\n",
      "19800/19800 [==============================] - 1s 53us/step - loss: 2.2959 - accuracy: 0.1135\n",
      "Epoch 25/100\n",
      "19800/19800 [==============================] - 1s 53us/step - loss: 2.2956 - accuracy: 0.1135\n",
      "Epoch 26/100\n",
      "19800/19800 [==============================] - 1s 54us/step - loss: 2.2953 - accuracy: 0.1135\n",
      "Epoch 27/100\n",
      "19800/19800 [==============================] - 1s 54us/step - loss: 2.2950 - accuracy: 0.1135\n",
      "Epoch 28/100\n",
      "19800/19800 [==============================] - 1s 54us/step - loss: 2.2948 - accuracy: 0.1135\n",
      "Epoch 29/100\n",
      "19800/19800 [==============================] - 1s 54us/step - loss: 2.2945 - accuracy: 0.1135\n",
      "Epoch 30/100\n",
      "19800/19800 [==============================] - 1s 54us/step - loss: 2.2942 - accuracy: 0.1135\n",
      "Epoch 31/100\n",
      "19800/19800 [==============================] - 1s 54us/step - loss: 2.2939 - accuracy: 0.1135\n",
      "Epoch 32/100\n",
      "19800/19800 [==============================] - 1s 54us/step - loss: 2.2936 - accuracy: 0.1135\n",
      "Epoch 33/100\n",
      "19800/19800 [==============================] - 1s 53us/step - loss: 2.2933 - accuracy: 0.1135\n",
      "Epoch 34/100\n",
      "19800/19800 [==============================] - 1s 54us/step - loss: 2.2930 - accuracy: 0.1135\n",
      "Epoch 35/100\n",
      "19800/19800 [==============================] - 1s 54us/step - loss: 2.2927 - accuracy: 0.1135\n",
      "Epoch 36/100\n",
      "19800/19800 [==============================] - 1s 54us/step - loss: 2.2924 - accuracy: 0.1135\n",
      "Epoch 37/100\n",
      "19800/19800 [==============================] - 1s 53us/step - loss: 2.2921 - accuracy: 0.1135\n",
      "Epoch 38/100\n",
      "19800/19800 [==============================] - 1s 54us/step - loss: 2.2917 - accuracy: 0.1135\n",
      "Epoch 39/100\n",
      "19800/19800 [==============================] - 1s 53us/step - loss: 2.2914 - accuracy: 0.1135\n",
      "Epoch 40/100\n",
      "19800/19800 [==============================] - 1s 53us/step - loss: 2.2910 - accuracy: 0.1135\n",
      "Epoch 41/100\n",
      "19800/19800 [==============================] - 1s 54us/step - loss: 2.2907 - accuracy: 0.1135\n",
      "Epoch 42/100\n",
      "19800/19800 [==============================] - 1s 54us/step - loss: 2.2903 - accuracy: 0.1135\n",
      "Epoch 43/100\n",
      "19800/19800 [==============================] - 1s 54us/step - loss: 2.2900 - accuracy: 0.1135\n",
      "Epoch 44/100\n",
      "19800/19800 [==============================] - 1s 53us/step - loss: 2.2896 - accuracy: 0.1135\n",
      "Epoch 45/100\n",
      "19800/19800 [==============================] - 1s 54us/step - loss: 2.2892 - accuracy: 0.1135\n",
      "Epoch 46/100\n",
      "19800/19800 [==============================] - 1s 54us/step - loss: 2.2888 - accuracy: 0.1135\n",
      "Epoch 47/100\n",
      "19800/19800 [==============================] - 1s 54us/step - loss: 2.2884 - accuracy: 0.1135\n",
      "Epoch 48/100\n",
      "19800/19800 [==============================] - 1s 54us/step - loss: 2.2880 - accuracy: 0.1135\n",
      "Epoch 49/100\n",
      "19800/19800 [==============================] - 1s 54us/step - loss: 2.2876 - accuracy: 0.1135\n",
      "Epoch 50/100\n",
      "19800/19800 [==============================] - 1s 54us/step - loss: 2.2871 - accuracy: 0.1135\n",
      "Epoch 51/100\n",
      "19800/19800 [==============================] - 1s 54us/step - loss: 2.2866 - accuracy: 0.1135\n",
      "Epoch 52/100\n",
      "19800/19800 [==============================] - 1s 53us/step - loss: 2.2861 - accuracy: 0.1135\n",
      "Epoch 53/100\n",
      "19800/19800 [==============================] - 1s 54us/step - loss: 2.2857 - accuracy: 0.1135\n",
      "Epoch 54/100\n",
      "19800/19800 [==============================] - 1s 53us/step - loss: 2.2851 - accuracy: 0.1135\n",
      "Epoch 55/100\n",
      "19800/19800 [==============================] - 1s 54us/step - loss: 2.2846 - accuracy: 0.1143\n",
      "Epoch 56/100\n",
      "19800/19800 [==============================] - 1s 54us/step - loss: 2.2841 - accuracy: 0.1135\n",
      "Epoch 57/100\n",
      "19800/19800 [==============================] - 1s 54us/step - loss: 2.2836 - accuracy: 0.1135\n",
      "Epoch 58/100\n",
      "19800/19800 [==============================] - 1s 53us/step - loss: 2.2830 - accuracy: 0.1135\n",
      "Epoch 59/100\n",
      "19800/19800 [==============================] - 1s 54us/step - loss: 2.2824 - accuracy: 0.1148\n",
      "Epoch 60/100\n",
      "19800/19800 [==============================] - 1s 54us/step - loss: 2.2819 - accuracy: 0.1139\n",
      "Epoch 61/100\n",
      "19800/19800 [==============================] - 1s 54us/step - loss: 2.2812 - accuracy: 0.1136\n",
      "Epoch 62/100\n",
      "19800/19800 [==============================] - 1s 54us/step - loss: 2.2806 - accuracy: 0.1135\n",
      "Epoch 63/100\n",
      "19800/19800 [==============================] - 1s 54us/step - loss: 2.2800 - accuracy: 0.1138\n",
      "Epoch 64/100\n",
      "19800/19800 [==============================] - 1s 54us/step - loss: 2.2793 - accuracy: 0.1211\n",
      "Epoch 65/100\n",
      "19800/19800 [==============================] - 1s 53us/step - loss: 2.2786 - accuracy: 0.1146\n",
      "Epoch 66/100\n",
      "19800/19800 [==============================] - 1s 54us/step - loss: 2.2779 - accuracy: 0.1165\n",
      "Epoch 67/100\n",
      "19800/19800 [==============================] - 1s 54us/step - loss: 2.2771 - accuracy: 0.1199\n",
      "Epoch 68/100\n",
      "19800/19800 [==============================] - 1s 54us/step - loss: 2.2763 - accuracy: 0.1351\n",
      "Epoch 69/100\n",
      "19800/19800 [==============================] - 1s 54us/step - loss: 2.2755 - accuracy: 0.1247\n",
      "Epoch 70/100\n",
      "19800/19800 [==============================] - 1s 53us/step - loss: 2.2746 - accuracy: 0.1341\n",
      "Epoch 71/100\n",
      "19800/19800 [==============================] - 1s 54us/step - loss: 2.2737 - accuracy: 0.1314\n",
      "Epoch 72/100\n",
      "19800/19800 [==============================] - 1s 54us/step - loss: 2.2728 - accuracy: 0.1307\n",
      "Epoch 73/100\n",
      "19800/19800 [==============================] - 1s 54us/step - loss: 2.2719 - accuracy: 0.1542\n",
      "Epoch 74/100\n",
      "19800/19800 [==============================] - 1s 54us/step - loss: 2.2709 - accuracy: 0.1443\n",
      "Epoch 75/100\n",
      "19800/19800 [==============================] - 1s 54us/step - loss: 2.2699 - accuracy: 0.1664\n",
      "Epoch 76/100\n",
      "19800/19800 [==============================] - 1s 54us/step - loss: 2.2687 - accuracy: 0.1756\n",
      "Epoch 77/100\n",
      "19800/19800 [==============================] - 1s 54us/step - loss: 2.2676 - accuracy: 0.1671\n",
      "Epoch 78/100\n",
      "19800/19800 [==============================] - 1s 54us/step - loss: 2.2664 - accuracy: 0.1870\n",
      "Epoch 79/100\n",
      "19800/19800 [==============================] - 1s 53us/step - loss: 2.2652 - accuracy: 0.1756\n",
      "Epoch 80/100\n",
      "19800/19800 [==============================] - 1s 54us/step - loss: 2.2639 - accuracy: 0.1932\n",
      "Epoch 81/100\n",
      "19800/19800 [==============================] - 1s 54us/step - loss: 2.2625 - accuracy: 0.1838\n",
      "Epoch 82/100\n",
      "19800/19800 [==============================] - 1s 54us/step - loss: 2.2611 - accuracy: 0.1913\n",
      "Epoch 83/100\n",
      "19800/19800 [==============================] - 1s 54us/step - loss: 2.2596 - accuracy: 0.1989\n",
      "Epoch 84/100\n",
      "19800/19800 [==============================] - 1s 54us/step - loss: 2.2580 - accuracy: 0.2090\n",
      "Epoch 85/100\n",
      "19800/19800 [==============================] - 1s 54us/step - loss: 2.2564 - accuracy: 0.2033\n",
      "Epoch 86/100\n",
      "19800/19800 [==============================] - 1s 54us/step - loss: 2.2546 - accuracy: 0.2024\n",
      "Epoch 87/100\n",
      "19800/19800 [==============================] - 1s 53us/step - loss: 2.2528 - accuracy: 0.2042\n",
      "Epoch 88/100\n",
      "19800/19800 [==============================] - 1s 54us/step - loss: 2.2509 - accuracy: 0.2073\n",
      "Epoch 89/100\n",
      "19800/19800 [==============================] - 1s 54us/step - loss: 2.2489 - accuracy: 0.2081\n",
      "Epoch 90/100\n",
      "19800/19800 [==============================] - 1s 54us/step - loss: 2.2468 - accuracy: 0.2178\n",
      "Epoch 91/100\n",
      "19800/19800 [==============================] - 1s 54us/step - loss: 2.2445 - accuracy: 0.2117\n",
      "Epoch 92/100\n",
      "19800/19800 [==============================] - 1s 54us/step - loss: 2.2422 - accuracy: 0.2144\n",
      "Epoch 93/100\n",
      "19800/19800 [==============================] - 1s 54us/step - loss: 2.2396 - accuracy: 0.2160\n",
      "Epoch 94/100\n",
      "19800/19800 [==============================] - 1s 54us/step - loss: 2.2370 - accuracy: 0.2131\n",
      "Epoch 95/100\n",
      "19800/19800 [==============================] - 1s 54us/step - loss: 2.2342 - accuracy: 0.2225\n",
      "Epoch 96/100\n",
      "19800/19800 [==============================] - 1s 53us/step - loss: 2.2313 - accuracy: 0.2148\n",
      "Epoch 97/100\n",
      "19800/19800 [==============================] - 1s 54us/step - loss: 2.2282 - accuracy: 0.2161\n",
      "Epoch 98/100\n",
      "19800/19800 [==============================] - 1s 54us/step - loss: 2.2250 - accuracy: 0.2197\n",
      "Epoch 99/100\n",
      "19800/19800 [==============================] - 1s 54us/step - loss: 2.2216 - accuracy: 0.2175\n",
      "Epoch 100/100\n",
      "19800/19800 [==============================] - 1s 54us/step - loss: 2.2179 - accuracy: 0.2251\n"
     ]
    },
    {
     "data": {
      "text/plain": [
       "VotingClassifier(estimators=[('model1',\n",
       "                              <keras.wrappers.scikit_learn.KerasClassifier object at 0x0000026E85DE8788>),\n",
       "                             ('model2',\n",
       "                              <keras.wrappers.scikit_learn.KerasClassifier object at 0x0000026E85DE8548>),\n",
       "                             ('model3',\n",
       "                              <keras.wrappers.scikit_learn.KerasClassifier object at 0x0000026E85DE8B48>)],\n",
       "                 flatten_transform=True, n_jobs=None, voting='soft',\n",
       "                 weights=None)"
      ]
     },
     "execution_count": 183,
     "metadata": {},
     "output_type": "execute_result"
    }
   ],
   "source": [
    "ensemble_clf.fit(X_train, y_train)"
   ]
  },
  {
   "cell_type": "code",
   "execution_count": 184,
   "metadata": {
    "ExecuteTime": {
     "end_time": "2020-01-21T06:14:54.082544Z",
     "start_time": "2020-01-21T06:14:52.064592Z"
    }
   },
   "outputs": [
    {
     "name": "stdout",
     "output_type": "stream",
     "text": [
      "10000/10000 [==============================] - 1s 69us/step\n",
      "10000/10000 [==============================] - 1s 67us/step\n",
      "10000/10000 [==============================] - 1s 65us/step\n"
     ]
    }
   ],
   "source": [
    "y_pred = ensemble_clf.predict(X_test)"
   ]
  },
  {
   "cell_type": "code",
   "execution_count": 185,
   "metadata": {
    "ExecuteTime": {
     "end_time": "2020-01-21T06:14:54.961152Z",
     "start_time": "2020-01-21T06:14:54.957113Z"
    }
   },
   "outputs": [
    {
     "name": "stdout",
     "output_type": "stream",
     "text": [
      "Test accuracy: 0.356\n"
     ]
    }
   ],
   "source": [
    "print('Test accuracy:', accuracy_score(y_pred, y_test))"
   ]
  },
  {
   "cell_type": "markdown",
   "metadata": {
    "ExecuteTime": {
     "end_time": "2020-01-21T06:17:53.699280Z",
     "start_time": "2020-01-21T06:17:53.684689Z"
    }
   },
   "source": [
    "# Advanced MLP - 2\n",
    "    - More training set\n",
    "    - Weight Initialization scheme\n",
    "    - Nonlinearity (Activation function)\n",
    "    - Optimizers: adaptvie\n",
    "    - Batch Normalization\n",
    "    - Dropout (Regularization)\n",
    "    - Model Ensemble"
   ]
  },
  {
   "cell_type": "code",
   "execution_count": 187,
   "metadata": {
    "ExecuteTime": {
     "end_time": "2020-01-21T06:19:42.682175Z",
     "start_time": "2020-01-21T06:19:42.458377Z"
    }
   },
   "outputs": [
    {
     "name": "stdout",
     "output_type": "stream",
     "text": [
      "(60000, 784)\n",
      "(10000, 784)\n",
      "(60000,)\n",
      "(10000,)\n"
     ]
    }
   ],
   "source": [
    "(X_train, y_train), (X_test, y_test) = mnist.load_data()\n",
    "# reshaping X data: (n, 28, 28) => (n, 784)\n",
    "X_train = X_train.reshape((X_train.shape[0], X_train.shape[1] * X_train.shape[2]))\n",
    "X_test = X_test.reshape((X_test.shape[0], X_test.shape[1] * X_test.shape[2]))\n",
    "# We use all training data and validate on all test data\n",
    "print(X_train.shape)\n",
    "print(X_test.shape)\n",
    "print(y_train.shape)\n",
    "print(y_test.shape)"
   ]
  },
  {
   "cell_type": "code",
   "execution_count": 188,
   "metadata": {
    "ExecuteTime": {
     "end_time": "2020-01-21T06:19:45.731584Z",
     "start_time": "2020-01-21T06:19:45.724649Z"
    }
   },
   "outputs": [],
   "source": [
    "def mlp_model():\n",
    "    model = Sequential()\n",
    "    \n",
    "    model.add(Dense(50, input_shape = (784, ), kernel_initializer='he_normal'))\n",
    "    model.add(BatchNormalization())\n",
    "    model.add(Activation('relu'))\n",
    "    model.add(Dropout(0.2))\n",
    "    model.add(Dense(50, kernel_initializer='he_normal'))\n",
    "    model.add(BatchNormalization())\n",
    "    model.add(Activation('relu'))    \n",
    "    model.add(Dropout(0.2))\n",
    "    model.add(Dense(50, kernel_initializer='he_normal'))\n",
    "    model.add(BatchNormalization())\n",
    "    model.add(Activation('relu'))\n",
    "    model.add(Dropout(0.2))\n",
    "    model.add(Dense(50, kernel_initializer='he_normal'))\n",
    "    model.add(BatchNormalization())\n",
    "    model.add(Activation('relu'))\n",
    "    model.add(Dropout(0.2))\n",
    "    model.add(Dense(10, kernel_initializer='he_normal'))\n",
    "    model.add(Activation('softmax'))\n",
    "    \n",
    "    adam = optimizers.Adam(lr = 0.001)\n",
    "    model.compile(optimizer = adam, loss = 'categorical_crossentropy', metrics = ['accuracy'])\n",
    "    \n",
    "    return model"
   ]
  },
  {
   "cell_type": "code",
   "execution_count": 189,
   "metadata": {
    "ExecuteTime": {
     "end_time": "2020-01-21T06:19:51.737662Z",
     "start_time": "2020-01-21T06:19:51.732631Z"
    }
   },
   "outputs": [],
   "source": [
    "model1 = KerasClassifier(build_fn = mlp_model, epochs = 100)\n",
    "model2 = KerasClassifier(build_fn = mlp_model, epochs = 100)\n",
    "model3 = KerasClassifier(build_fn = mlp_model, epochs = 100)\n",
    "model4 = KerasClassifier(build_fn = mlp_model, epochs = 100)\n",
    "model5 = KerasClassifier(build_fn = mlp_model, epochs = 100)"
   ]
  },
  {
   "cell_type": "code",
   "execution_count": 190,
   "metadata": {
    "ExecuteTime": {
     "end_time": "2020-01-21T06:19:53.368432Z",
     "start_time": "2020-01-21T06:19:53.364489Z"
    }
   },
   "outputs": [],
   "source": [
    "#ensemble_clf = VotingClassifier(estimators = [('model1', model1), ('model2', model2), ('model3', model3), ('model4', model4), ('model5', model5)], voting = 'soft')\n",
    "ensemble_clf = VotingClassifier(estimators = [('model1', model1), ('model2', model2)], voting = 'soft')"
   ]
  },
  {
   "cell_type": "code",
   "execution_count": 191,
   "metadata": {
    "ExecuteTime": {
     "end_time": "2020-01-21T06:49:26.753460Z",
     "start_time": "2020-01-21T06:19:56.283835Z"
    }
   },
   "outputs": [
    {
     "name": "stdout",
     "output_type": "stream",
     "text": [
      "Epoch 1/100\n",
      "60000/60000 [==============================] - 9s 151us/step - loss: 0.7542 - accuracy: 0.7676\n",
      "Epoch 2/100\n",
      "60000/60000 [==============================] - 9s 142us/step - loss: 0.4289 - accuracy: 0.8773\n",
      "Epoch 3/100\n",
      "60000/60000 [==============================] - 9s 142us/step - loss: 0.3615 - accuracy: 0.8971\n",
      "Epoch 4/100\n",
      "60000/60000 [==============================] - 9s 142us/step - loss: 0.3176 - accuracy: 0.9087\n",
      "Epoch 5/100\n",
      "60000/60000 [==============================] - 8s 142us/step - loss: 0.2967 - accuracy: 0.9146\n",
      "Epoch 6/100\n",
      "60000/60000 [==============================] - 9s 142us/step - loss: 0.2829 - accuracy: 0.9190\n",
      "Epoch 7/100\n",
      "60000/60000 [==============================] - 9s 144us/step - loss: 0.2675 - accuracy: 0.9230\n",
      "Epoch 8/100\n",
      "60000/60000 [==============================] - 9s 143us/step - loss: 0.2575 - accuracy: 0.9273\n",
      "Epoch 9/100\n",
      "60000/60000 [==============================] - 8s 141us/step - loss: 0.2458 - accuracy: 0.9299\n",
      "Epoch 10/100\n",
      "60000/60000 [==============================] - 8s 141us/step - loss: 0.2428 - accuracy: 0.9309\n",
      "Epoch 11/100\n",
      "60000/60000 [==============================] - 9s 142us/step - loss: 0.2286 - accuracy: 0.9348\n",
      "Epoch 12/100\n",
      "60000/60000 [==============================] - 9s 142us/step - loss: 0.2252 - accuracy: 0.9371\n",
      "Epoch 13/100\n",
      "60000/60000 [==============================] - 9s 142us/step - loss: 0.2265 - accuracy: 0.9367\n",
      "Epoch 14/100\n",
      "60000/60000 [==============================] - 9s 142us/step - loss: 0.2140 - accuracy: 0.9386\n",
      "Epoch 15/100\n",
      "60000/60000 [==============================] - 9s 143us/step - loss: 0.2120 - accuracy: 0.9402\n",
      "Epoch 16/100\n",
      "60000/60000 [==============================] - 9s 142us/step - loss: 0.2101 - accuracy: 0.9403\n",
      "Epoch 17/100\n",
      "60000/60000 [==============================] - 9s 142us/step - loss: 0.2109 - accuracy: 0.9396\n",
      "Epoch 18/100\n",
      "60000/60000 [==============================] - 9s 142us/step - loss: 0.2076 - accuracy: 0.9398\n",
      "Epoch 19/100\n",
      "60000/60000 [==============================] - 9s 142us/step - loss: 0.2017 - accuracy: 0.9422\n",
      "Epoch 20/100\n",
      "60000/60000 [==============================] - 9s 142us/step - loss: 0.2001 - accuracy: 0.9428\n",
      "Epoch 21/100\n",
      "60000/60000 [==============================] - 8s 142us/step - loss: 0.1969 - accuracy: 0.9431\n",
      "Epoch 22/100\n",
      "60000/60000 [==============================] - 8s 142us/step - loss: 0.1931 - accuracy: 0.9448\n",
      "Epoch 23/100\n",
      "60000/60000 [==============================] - 9s 142us/step - loss: 0.1934 - accuracy: 0.9440\n",
      "Epoch 24/100\n",
      "60000/60000 [==============================] - 9s 142us/step - loss: 0.1940 - accuracy: 0.9437\n",
      "Epoch 25/100\n",
      "60000/60000 [==============================] - 8s 142us/step - loss: 0.1877 - accuracy: 0.9460\n",
      "Epoch 26/100\n",
      "60000/60000 [==============================] - 9s 143us/step - loss: 0.1888 - accuracy: 0.9455\n",
      "Epoch 27/100\n",
      "60000/60000 [==============================] - 9s 143us/step - loss: 0.1827 - accuracy: 0.9465\n",
      "Epoch 28/100\n",
      "60000/60000 [==============================] - 9s 142us/step - loss: 0.1849 - accuracy: 0.9459\n",
      "Epoch 29/100\n",
      "60000/60000 [==============================] - 9s 144us/step - loss: 0.1801 - accuracy: 0.9488\n",
      "Epoch 30/100\n",
      "60000/60000 [==============================] - 9s 149us/step - loss: 0.1851 - accuracy: 0.9472\n",
      "Epoch 31/100\n",
      "60000/60000 [==============================] - 9s 149us/step - loss: 0.1775 - accuracy: 0.9495\n",
      "Epoch 32/100\n",
      "60000/60000 [==============================] - 9s 149us/step - loss: 0.1773 - accuracy: 0.9477\n",
      "Epoch 33/100\n",
      "60000/60000 [==============================] - 9s 148us/step - loss: 0.1802 - accuracy: 0.9488\n",
      "Epoch 34/100\n",
      "60000/60000 [==============================] - 9s 147us/step - loss: 0.1744 - accuracy: 0.9500\n",
      "Epoch 35/100\n",
      "60000/60000 [==============================] - 9s 147us/step - loss: 0.1753 - accuracy: 0.9489\n",
      "Epoch 36/100\n",
      "60000/60000 [==============================] - 9s 149us/step - loss: 0.1769 - accuracy: 0.9502\n",
      "Epoch 37/100\n",
      "60000/60000 [==============================] - 9s 152us/step - loss: 0.1722 - accuracy: 0.9509\n",
      "Epoch 38/100\n",
      "60000/60000 [==============================] - 9s 150us/step - loss: 0.1727 - accuracy: 0.9497\n",
      "Epoch 39/100\n",
      "60000/60000 [==============================] - 9s 147us/step - loss: 0.1744 - accuracy: 0.9506\n",
      "Epoch 40/100\n",
      "60000/60000 [==============================] - 9s 150us/step - loss: 0.1717 - accuracy: 0.9507\n",
      "Epoch 41/100\n",
      "60000/60000 [==============================] - 9s 150us/step - loss: 0.1698 - accuracy: 0.9503\n",
      "Epoch 42/100\n",
      "60000/60000 [==============================] - 9s 147us/step - loss: 0.1669 - accuracy: 0.9504\n",
      "Epoch 43/100\n",
      "60000/60000 [==============================] - 9s 150us/step - loss: 0.1680 - accuracy: 0.9511\n",
      "Epoch 44/100\n",
      "60000/60000 [==============================] - 9s 147us/step - loss: 0.1697 - accuracy: 0.9513\n",
      "Epoch 45/100\n",
      "60000/60000 [==============================] - 9s 148us/step - loss: 0.1652 - accuracy: 0.9523\n",
      "Epoch 46/100\n",
      "60000/60000 [==============================] - 9s 146us/step - loss: 0.1710 - accuracy: 0.9513\n",
      "Epoch 47/100\n",
      "60000/60000 [==============================] - 9s 151us/step - loss: 0.1712 - accuracy: 0.9499\n",
      "Epoch 48/100\n",
      "60000/60000 [==============================] - 9s 149us/step - loss: 0.1646 - accuracy: 0.9525\n",
      "Epoch 49/100\n",
      "60000/60000 [==============================] - 9s 148us/step - loss: 0.1652 - accuracy: 0.9517\n",
      "Epoch 50/100\n",
      "60000/60000 [==============================] - 10s 162us/step - loss: 0.1664 - accuracy: 0.9518\n",
      "Epoch 51/100\n",
      "60000/60000 [==============================] - 9s 157us/step - loss: 0.1591 - accuracy: 0.9537\n",
      "Epoch 52/100\n",
      "60000/60000 [==============================] - 9s 152us/step - loss: 0.1697 - accuracy: 0.9504\n",
      "Epoch 53/100\n",
      "60000/60000 [==============================] - 9s 148us/step - loss: 0.1615 - accuracy: 0.9533\n",
      "Epoch 54/100\n",
      "60000/60000 [==============================] - 9s 149us/step - loss: 0.1612 - accuracy: 0.9524\n",
      "Epoch 55/100\n",
      "60000/60000 [==============================] - 9s 148us/step - loss: 0.1625 - accuracy: 0.9533\n",
      "Epoch 56/100\n",
      "60000/60000 [==============================] - 9s 150us/step - loss: 0.1609 - accuracy: 0.9532\n",
      "Epoch 57/100\n",
      "60000/60000 [==============================] - 9s 148us/step - loss: 0.1591 - accuracy: 0.9534\n",
      "Epoch 58/100\n",
      "60000/60000 [==============================] - 9s 145us/step - loss: 0.1610 - accuracy: 0.9532\n",
      "Epoch 59/100\n",
      "60000/60000 [==============================] - 9s 148us/step - loss: 0.1619 - accuracy: 0.9542\n",
      "Epoch 60/100\n",
      "60000/60000 [==============================] - 9s 149us/step - loss: 0.1563 - accuracy: 0.9546\n",
      "Epoch 61/100\n",
      "60000/60000 [==============================] - 9s 146us/step - loss: 0.1581 - accuracy: 0.9535\n",
      "Epoch 62/100\n",
      "60000/60000 [==============================] - 9s 148us/step - loss: 0.1584 - accuracy: 0.9541\n",
      "Epoch 63/100\n",
      "60000/60000 [==============================] - 9s 145us/step - loss: 0.1557 - accuracy: 0.9551\n",
      "Epoch 64/100\n",
      "60000/60000 [==============================] - 9s 147us/step - loss: 0.1535 - accuracy: 0.9548\n",
      "Epoch 65/100\n",
      "60000/60000 [==============================] - 9s 143us/step - loss: 0.1589 - accuracy: 0.9553\n",
      "Epoch 66/100\n",
      "60000/60000 [==============================] - 9s 144us/step - loss: 0.1574 - accuracy: 0.9549\n",
      "Epoch 67/100\n",
      "60000/60000 [==============================] - 9s 143us/step - loss: 0.1554 - accuracy: 0.9547\n",
      "Epoch 68/100\n",
      "60000/60000 [==============================] - 9s 143us/step - loss: 0.1567 - accuracy: 0.9553\n",
      "Epoch 69/100\n",
      "60000/60000 [==============================] - 9s 143us/step - loss: 0.1549 - accuracy: 0.9553\n",
      "Epoch 70/100\n",
      "60000/60000 [==============================] - 9s 142us/step - loss: 0.1533 - accuracy: 0.9554\n",
      "Epoch 71/100\n",
      "60000/60000 [==============================] - 9s 144us/step - loss: 0.1532 - accuracy: 0.9544\n",
      "Epoch 72/100\n",
      "60000/60000 [==============================] - 9s 148us/step - loss: 0.1484 - accuracy: 0.9566\n",
      "Epoch 73/100\n",
      "60000/60000 [==============================] - 9s 147us/step - loss: 0.1498 - accuracy: 0.9556\n",
      "Epoch 74/100\n",
      "60000/60000 [==============================] - 9s 144us/step - loss: 0.1532 - accuracy: 0.9549\n",
      "Epoch 75/100\n",
      "60000/60000 [==============================] - 9s 145us/step - loss: 0.1524 - accuracy: 0.9557\n",
      "Epoch 76/100\n",
      "60000/60000 [==============================] - 9s 143us/step - loss: 0.1517 - accuracy: 0.9560\n",
      "Epoch 77/100\n",
      "60000/60000 [==============================] - 9s 146us/step - loss: 0.1519 - accuracy: 0.9560\n",
      "Epoch 78/100\n",
      "60000/60000 [==============================] - 9s 144us/step - loss: 0.1515 - accuracy: 0.9559\n",
      "Epoch 79/100\n",
      "60000/60000 [==============================] - 9s 150us/step - loss: 0.1498 - accuracy: 0.9560\n",
      "Epoch 80/100\n",
      "60000/60000 [==============================] - 9s 146us/step - loss: 0.1498 - accuracy: 0.9564\n",
      "Epoch 81/100\n",
      "60000/60000 [==============================] - 9s 144us/step - loss: 0.1491 - accuracy: 0.9569\n",
      "Epoch 82/100\n",
      "60000/60000 [==============================] - 9s 143us/step - loss: 0.1505 - accuracy: 0.9561\n",
      "Epoch 83/100\n",
      "60000/60000 [==============================] - 9s 143us/step - loss: 0.1478 - accuracy: 0.9567\n",
      "Epoch 84/100\n",
      "60000/60000 [==============================] - 9s 143us/step - loss: 0.1484 - accuracy: 0.9569\n",
      "Epoch 85/100\n",
      "60000/60000 [==============================] - 9s 143us/step - loss: 0.1471 - accuracy: 0.9568\n",
      "Epoch 86/100\n",
      "60000/60000 [==============================] - 9s 143us/step - loss: 0.1482 - accuracy: 0.9564\n",
      "Epoch 87/100\n",
      "60000/60000 [==============================] - 9s 143us/step - loss: 0.1477 - accuracy: 0.9566\n",
      "Epoch 88/100\n",
      "60000/60000 [==============================] - 9s 142us/step - loss: 0.1469 - accuracy: 0.9568\n",
      "Epoch 89/100\n",
      "60000/60000 [==============================] - 9s 143us/step - loss: 0.1458 - accuracy: 0.9571\n",
      "Epoch 90/100\n",
      "60000/60000 [==============================] - 9s 142us/step - loss: 0.1468 - accuracy: 0.9571\n",
      "Epoch 91/100\n",
      "60000/60000 [==============================] - 9s 142us/step - loss: 0.1499 - accuracy: 0.9573\n",
      "Epoch 92/100\n",
      "60000/60000 [==============================] - 9s 143us/step - loss: 0.1484 - accuracy: 0.9572\n",
      "Epoch 93/100\n",
      "60000/60000 [==============================] - 9s 142us/step - loss: 0.1434 - accuracy: 0.9584\n",
      "Epoch 94/100\n",
      "60000/60000 [==============================] - 9s 143us/step - loss: 0.1439 - accuracy: 0.9582\n",
      "Epoch 95/100\n",
      "60000/60000 [==============================] - 9s 142us/step - loss: 0.1432 - accuracy: 0.9589\n",
      "Epoch 96/100\n",
      "60000/60000 [==============================] - 9s 142us/step - loss: 0.1477 - accuracy: 0.9558\n",
      "Epoch 97/100\n",
      "60000/60000 [==============================] - 9s 143us/step - loss: 0.1445 - accuracy: 0.9570\n",
      "Epoch 98/100\n",
      "60000/60000 [==============================] - 9s 143us/step - loss: 0.1427 - accuracy: 0.9577\n",
      "Epoch 99/100\n",
      "60000/60000 [==============================] - 9s 142us/step - loss: 0.1424 - accuracy: 0.9583\n",
      "Epoch 100/100\n",
      "60000/60000 [==============================] - 9s 142us/step - loss: 0.1446 - accuracy: 0.9579\n",
      "Epoch 1/100\n",
      "60000/60000 [==============================] - 10s 163us/step - loss: 0.7643 - accuracy: 0.7688\n",
      "Epoch 2/100\n",
      "60000/60000 [==============================] - 9s 148us/step - loss: 0.4294 - accuracy: 0.8772\n",
      "Epoch 3/100\n",
      "60000/60000 [==============================] - 9s 148us/step - loss: 0.3664 - accuracy: 0.8953\n",
      "Epoch 4/100\n",
      "60000/60000 [==============================] - 9s 148us/step - loss: 0.3259 - accuracy: 0.9070\n",
      "Epoch 5/100\n",
      "60000/60000 [==============================] - 9s 149us/step - loss: 0.2953 - accuracy: 0.9157\n",
      "Epoch 6/100\n",
      "60000/60000 [==============================] - 9s 156us/step - loss: 0.2777 - accuracy: 0.9204\n",
      "Epoch 7/100\n",
      "60000/60000 [==============================] - 9s 151us/step - loss: 0.2642 - accuracy: 0.9251\n",
      "Epoch 8/100\n",
      "60000/60000 [==============================] - 9s 152us/step - loss: 0.2532 - accuracy: 0.9274\n",
      "Epoch 9/100\n",
      "60000/60000 [==============================] - 9s 150us/step - loss: 0.2470 - accuracy: 0.9299\n",
      "Epoch 10/100\n",
      "60000/60000 [==============================] - 9s 149us/step - loss: 0.2361 - accuracy: 0.9326\n",
      "Epoch 11/100\n",
      "60000/60000 [==============================] - 9s 149us/step - loss: 0.2361 - accuracy: 0.9335\n",
      "Epoch 12/100\n",
      "60000/60000 [==============================] - 9s 149us/step - loss: 0.2245 - accuracy: 0.9362\n",
      "Epoch 13/100\n",
      "60000/60000 [==============================] - 9s 152us/step - loss: 0.2199 - accuracy: 0.9363\n",
      "Epoch 14/100\n",
      "60000/60000 [==============================] - 9s 148us/step - loss: 0.2142 - accuracy: 0.9392\n",
      "Epoch 15/100\n",
      "60000/60000 [==============================] - 9s 147us/step - loss: 0.2144 - accuracy: 0.9385\n",
      "Epoch 16/100\n",
      "60000/60000 [==============================] - 9s 149us/step - loss: 0.2039 - accuracy: 0.9410\n",
      "Epoch 17/100\n",
      "60000/60000 [==============================] - 9s 153us/step - loss: 0.2023 - accuracy: 0.9416\n",
      "Epoch 18/100\n",
      "60000/60000 [==============================] - 9s 153us/step - loss: 0.2031 - accuracy: 0.9413\n",
      "Epoch 19/100\n",
      "60000/60000 [==============================] - 9s 148us/step - loss: 0.2017 - accuracy: 0.9411\n",
      "Epoch 20/100\n",
      "60000/60000 [==============================] - 9s 150us/step - loss: 0.1945 - accuracy: 0.9441\n",
      "Epoch 21/100\n",
      "60000/60000 [==============================] - 9s 154us/step - loss: 0.1953 - accuracy: 0.9438\n",
      "Epoch 22/100\n",
      "60000/60000 [==============================] - 9s 154us/step - loss: 0.1955 - accuracy: 0.9452\n",
      "Epoch 23/100\n",
      "60000/60000 [==============================] - 9s 156us/step - loss: 0.1864 - accuracy: 0.9474\n",
      "Epoch 24/100\n",
      "60000/60000 [==============================] - 9s 154us/step - loss: 0.1869 - accuracy: 0.9465\n",
      "Epoch 25/100\n",
      "60000/60000 [==============================] - 9s 158us/step - loss: 0.1884 - accuracy: 0.9453\n",
      "Epoch 26/100\n",
      "60000/60000 [==============================] - 9s 151us/step - loss: 0.1835 - accuracy: 0.9469\n",
      "Epoch 27/100\n",
      "60000/60000 [==============================] - 9s 147us/step - loss: 0.1841 - accuracy: 0.9480\n",
      "Epoch 28/100\n",
      "60000/60000 [==============================] - 9s 148us/step - loss: 0.1799 - accuracy: 0.9478\n",
      "Epoch 29/100\n",
      "60000/60000 [==============================] - 9s 149us/step - loss: 0.1749 - accuracy: 0.9488\n",
      "Epoch 30/100\n",
      "60000/60000 [==============================] - 9s 148us/step - loss: 0.1748 - accuracy: 0.9495\n",
      "Epoch 31/100\n",
      "60000/60000 [==============================] - 9s 148us/step - loss: 0.1793 - accuracy: 0.9478\n",
      "Epoch 32/100\n",
      "60000/60000 [==============================] - 9s 148us/step - loss: 0.1736 - accuracy: 0.9496\n",
      "Epoch 33/100\n",
      "60000/60000 [==============================] - 9s 149us/step - loss: 0.1736 - accuracy: 0.9494\n",
      "Epoch 34/100\n",
      "60000/60000 [==============================] - 9s 150us/step - loss: 0.1721 - accuracy: 0.9503\n",
      "Epoch 35/100\n",
      "60000/60000 [==============================] - 9s 148us/step - loss: 0.1771 - accuracy: 0.9492\n",
      "Epoch 36/100\n",
      "60000/60000 [==============================] - 9s 148us/step - loss: 0.1744 - accuracy: 0.9500\n",
      "Epoch 37/100\n",
      "60000/60000 [==============================] - 9s 148us/step - loss: 0.1697 - accuracy: 0.9509\n",
      "Epoch 38/100\n",
      "60000/60000 [==============================] - 9s 148us/step - loss: 0.1687 - accuracy: 0.9509\n",
      "Epoch 39/100\n",
      "60000/60000 [==============================] - 9s 149us/step - loss: 0.1670 - accuracy: 0.9520\n",
      "Epoch 40/100\n",
      "60000/60000 [==============================] - 9s 148us/step - loss: 0.1707 - accuracy: 0.9507\n",
      "Epoch 41/100\n",
      "60000/60000 [==============================] - 9s 149us/step - loss: 0.1647 - accuracy: 0.9514\n",
      "Epoch 42/100\n",
      "60000/60000 [==============================] - 9s 148us/step - loss: 0.1677 - accuracy: 0.9524\n",
      "Epoch 43/100\n",
      "60000/60000 [==============================] - 9s 148us/step - loss: 0.1654 - accuracy: 0.9519\n",
      "Epoch 44/100\n",
      "60000/60000 [==============================] - 9s 148us/step - loss: 0.1641 - accuracy: 0.9524\n",
      "Epoch 45/100\n",
      "60000/60000 [==============================] - 9s 149us/step - loss: 0.1673 - accuracy: 0.9517\n",
      "Epoch 46/100\n",
      "60000/60000 [==============================] - 9s 149us/step - loss: 0.1623 - accuracy: 0.9523\n",
      "Epoch 47/100\n",
      "60000/60000 [==============================] - 9s 149us/step - loss: 0.1604 - accuracy: 0.9538\n",
      "Epoch 48/100\n",
      "60000/60000 [==============================] - 9s 148us/step - loss: 0.1627 - accuracy: 0.9531\n",
      "Epoch 49/100\n",
      "60000/60000 [==============================] - 9s 149us/step - loss: 0.1599 - accuracy: 0.9528\n",
      "Epoch 50/100\n",
      "60000/60000 [==============================] - 9s 148us/step - loss: 0.1626 - accuracy: 0.9535\n",
      "Epoch 51/100\n",
      "60000/60000 [==============================] - 9s 148us/step - loss: 0.1595 - accuracy: 0.9536\n",
      "Epoch 52/100\n"
     ]
    },
    {
     "name": "stdout",
     "output_type": "stream",
     "text": [
      "60000/60000 [==============================] - 9s 146us/step - loss: 0.1577 - accuracy: 0.9538\n",
      "Epoch 53/100\n",
      "60000/60000 [==============================] - 9s 150us/step - loss: 0.1563 - accuracy: 0.9545\n",
      "Epoch 54/100\n",
      "60000/60000 [==============================] - 9s 148us/step - loss: 0.1604 - accuracy: 0.9531\n",
      "Epoch 55/100\n",
      "60000/60000 [==============================] - 9s 148us/step - loss: 0.1551 - accuracy: 0.9544\n",
      "Epoch 56/100\n",
      "60000/60000 [==============================] - 9s 148us/step - loss: 0.1581 - accuracy: 0.9538\n",
      "Epoch 57/100\n",
      "60000/60000 [==============================] - 9s 147us/step - loss: 0.1580 - accuracy: 0.9547\n",
      "Epoch 58/100\n",
      "60000/60000 [==============================] - 9s 147us/step - loss: 0.1567 - accuracy: 0.9559\n",
      "Epoch 59/100\n",
      "60000/60000 [==============================] - 9s 148us/step - loss: 0.1563 - accuracy: 0.9552\n",
      "Epoch 60/100\n",
      "60000/60000 [==============================] - 9s 147us/step - loss: 0.1575 - accuracy: 0.9540\n",
      "Epoch 61/100\n",
      "60000/60000 [==============================] - 9s 146us/step - loss: 0.1564 - accuracy: 0.9532\n",
      "Epoch 62/100\n",
      "60000/60000 [==============================] - 9s 146us/step - loss: 0.1564 - accuracy: 0.9547\n",
      "Epoch 63/100\n",
      "60000/60000 [==============================] - 9s 147us/step - loss: 0.1519 - accuracy: 0.9552\n",
      "Epoch 64/100\n",
      "60000/60000 [==============================] - 9s 148us/step - loss: 0.1574 - accuracy: 0.9551\n",
      "Epoch 65/100\n",
      "60000/60000 [==============================] - 9s 150us/step - loss: 0.1529 - accuracy: 0.9552\n",
      "Epoch 66/100\n",
      "60000/60000 [==============================] - 9s 150us/step - loss: 0.1519 - accuracy: 0.9559\n",
      "Epoch 67/100\n",
      "60000/60000 [==============================] - 9s 148us/step - loss: 0.1524 - accuracy: 0.9565\n",
      "Epoch 68/100\n",
      "60000/60000 [==============================] - 9s 148us/step - loss: 0.1498 - accuracy: 0.9562\n",
      "Epoch 69/100\n",
      "60000/60000 [==============================] - 9s 148us/step - loss: 0.1527 - accuracy: 0.9543\n",
      "Epoch 70/100\n",
      "60000/60000 [==============================] - 9s 148us/step - loss: 0.1509 - accuracy: 0.9562\n",
      "Epoch 71/100\n",
      "60000/60000 [==============================] - 9s 149us/step - loss: 0.1538 - accuracy: 0.9553\n",
      "Epoch 72/100\n",
      "60000/60000 [==============================] - 9s 152us/step - loss: 0.1500 - accuracy: 0.9559\n",
      "Epoch 73/100\n",
      "60000/60000 [==============================] - 9s 154us/step - loss: 0.1527 - accuracy: 0.9560\n",
      "Epoch 74/100\n",
      "60000/60000 [==============================] - 9s 148us/step - loss: 0.1496 - accuracy: 0.9571\n",
      "Epoch 75/100\n",
      "60000/60000 [==============================] - 9s 147us/step - loss: 0.1515 - accuracy: 0.9563\n",
      "Epoch 76/100\n",
      "60000/60000 [==============================] - 9s 147us/step - loss: 0.1463 - accuracy: 0.9563\n",
      "Epoch 77/100\n",
      "60000/60000 [==============================] - 9s 148us/step - loss: 0.1493 - accuracy: 0.9557\n",
      "Epoch 78/100\n",
      "60000/60000 [==============================] - 9s 148us/step - loss: 0.1503 - accuracy: 0.9564\n",
      "Epoch 79/100\n",
      "60000/60000 [==============================] - 9s 148us/step - loss: 0.1492 - accuracy: 0.9559\n",
      "Epoch 80/100\n",
      "60000/60000 [==============================] - 9s 148us/step - loss: 0.1506 - accuracy: 0.9562\n",
      "Epoch 81/100\n",
      "60000/60000 [==============================] - 9s 150us/step - loss: 0.1488 - accuracy: 0.9570\n",
      "Epoch 82/100\n",
      "60000/60000 [==============================] - 9s 149us/step - loss: 0.1490 - accuracy: 0.9555\n",
      "Epoch 83/100\n",
      "60000/60000 [==============================] - 9s 148us/step - loss: 0.1438 - accuracy: 0.9574\n",
      "Epoch 84/100\n",
      "60000/60000 [==============================] - 9s 147us/step - loss: 0.1439 - accuracy: 0.9581\n",
      "Epoch 85/100\n",
      "60000/60000 [==============================] - 9s 148us/step - loss: 0.1522 - accuracy: 0.9549\n",
      "Epoch 86/100\n",
      "60000/60000 [==============================] - 9s 148us/step - loss: 0.1445 - accuracy: 0.9575\n",
      "Epoch 87/100\n",
      "60000/60000 [==============================] - 9s 148us/step - loss: 0.1472 - accuracy: 0.9571\n",
      "Epoch 88/100\n",
      "60000/60000 [==============================] - 9s 148us/step - loss: 0.1471 - accuracy: 0.9567\n",
      "Epoch 89/100\n",
      "60000/60000 [==============================] - 9s 148us/step - loss: 0.1421 - accuracy: 0.9575\n",
      "Epoch 90/100\n",
      "60000/60000 [==============================] - 9s 149us/step - loss: 0.1407 - accuracy: 0.9588\n",
      "Epoch 91/100\n",
      "60000/60000 [==============================] - 9s 148us/step - loss: 0.1439 - accuracy: 0.9579\n",
      "Epoch 92/100\n",
      "60000/60000 [==============================] - 9s 148us/step - loss: 0.1437 - accuracy: 0.9589\n",
      "Epoch 93/100\n",
      "60000/60000 [==============================] - 9s 148us/step - loss: 0.1438 - accuracy: 0.9581\n",
      "Epoch 94/100\n",
      "60000/60000 [==============================] - 9s 148us/step - loss: 0.1472 - accuracy: 0.9572\n",
      "Epoch 95/100\n",
      "60000/60000 [==============================] - 9s 148us/step - loss: 0.1435 - accuracy: 0.9585\n",
      "Epoch 96/100\n",
      "60000/60000 [==============================] - 9s 148us/step - loss: 0.1477 - accuracy: 0.9565\n",
      "Epoch 97/100\n",
      "60000/60000 [==============================] - 9s 148us/step - loss: 0.1418 - accuracy: 0.9579\n",
      "Epoch 98/100\n",
      "60000/60000 [==============================] - 9s 147us/step - loss: 0.1439 - accuracy: 0.9578\n",
      "Epoch 99/100\n",
      "60000/60000 [==============================] - 9s 148us/step - loss: 0.1438 - accuracy: 0.9585\n",
      "Epoch 100/100\n",
      "60000/60000 [==============================] - 9s 148us/step - loss: 0.1461 - accuracy: 0.9571\n"
     ]
    },
    {
     "data": {
      "text/plain": [
       "VotingClassifier(estimators=[('model1',\n",
       "                              <keras.wrappers.scikit_learn.KerasClassifier object at 0x0000026E862ACE48>),\n",
       "                             ('model2',\n",
       "                              <keras.wrappers.scikit_learn.KerasClassifier object at 0x0000026E862ACE08>)],\n",
       "                 flatten_transform=True, n_jobs=None, voting='soft',\n",
       "                 weights=None)"
      ]
     },
     "execution_count": 191,
     "metadata": {},
     "output_type": "execute_result"
    }
   ],
   "source": [
    "ensemble_clf.fit(X_train, y_train)"
   ]
  },
  {
   "cell_type": "code",
   "execution_count": 192,
   "metadata": {
    "ExecuteTime": {
     "end_time": "2020-01-21T06:50:10.281087Z",
     "start_time": "2020-01-21T06:50:07.962227Z"
    }
   },
   "outputs": [],
   "source": [
    "y_pred = ensemble_clf.predict(X_test)"
   ]
  },
  {
   "cell_type": "code",
   "execution_count": 193,
   "metadata": {
    "ExecuteTime": {
     "end_time": "2020-01-21T06:50:13.828158Z",
     "start_time": "2020-01-21T06:50:13.825134Z"
    }
   },
   "outputs": [
    {
     "name": "stdout",
     "output_type": "stream",
     "text": [
      "Acc:  0.9787\n"
     ]
    }
   ],
   "source": [
    "print('Acc: ', accuracy_score(y_pred, y_test))"
   ]
  },
  {
   "cell_type": "code",
   "execution_count": null,
   "metadata": {},
   "outputs": [],
   "source": []
  }
 ],
 "metadata": {
  "kernelspec": {
   "display_name": "Python 3",
   "language": "python",
   "name": "python3"
  },
  "language_info": {
   "codemirror_mode": {
    "name": "ipython",
    "version": 3
   },
   "file_extension": ".py",
   "mimetype": "text/x-python",
   "name": "python",
   "nbconvert_exporter": "python",
   "pygments_lexer": "ipython3",
   "version": "3.7.6"
  },
  "varInspector": {
   "cols": {
    "lenName": 16,
    "lenType": 16,
    "lenVar": 40
   },
   "kernels_config": {
    "python": {
     "delete_cmd_postfix": "",
     "delete_cmd_prefix": "del ",
     "library": "var_list.py",
     "varRefreshCmd": "print(var_dic_list())"
    },
    "r": {
     "delete_cmd_postfix": ") ",
     "delete_cmd_prefix": "rm(",
     "library": "var_list.r",
     "varRefreshCmd": "cat(var_dic_list()) "
    }
   },
   "types_to_exclude": [
    "module",
    "function",
    "builtin_function_or_method",
    "instance",
    "_Feature"
   ],
   "window_display": false
  }
 },
 "nbformat": 4,
 "nbformat_minor": 2
}
