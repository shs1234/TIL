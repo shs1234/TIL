{
 "cells": [
  {
   "cell_type": "code",
   "execution_count": 2,
   "metadata": {
    "ExecuteTime": {
     "end_time": "2020-01-22T00:42:34.028708Z",
     "start_time": "2020-01-22T00:42:31.744322Z"
    }
   },
   "outputs": [
    {
     "name": "stderr",
     "output_type": "stream",
     "text": [
      "Using TensorFlow backend.\n"
     ]
    }
   ],
   "source": [
    "import numpy as np\n",
    "import matplotlib.pyplot as plt\n",
    "\n",
    "from sklearn import datasets\n",
    "from sklearn.model_selection import train_test_split\n",
    "from keras.utils.np_utils import to_categorical\n",
    "from keras.models import Sequential\n",
    "from keras import optimizers\n",
    "from keras.layers import Dense, Activation, Flatten, Conv2D, MaxPooling2D\n",
    "from keras.layers import BatchNormalization, Dropout\n",
    "import matplotlib.pyplot"
   ]
  },
  {
   "cell_type": "markdown",
   "metadata": {
    "ExecuteTime": {
     "end_time": "2020-01-21T08:37:31.853364Z",
     "start_time": "2020-01-21T08:37:31.849399Z"
    }
   },
   "source": [
    "- CNN : 특징 추출\n",
    "- DNN : 특징 분류"
   ]
  },
  {
   "cell_type": "code",
   "execution_count": 3,
   "metadata": {
    "ExecuteTime": {
     "end_time": "2020-01-22T00:42:34.446710Z",
     "start_time": "2020-01-22T00:42:34.374984Z"
    }
   },
   "outputs": [
    {
     "name": "stdout",
     "output_type": "stream",
     "text": [
      "<class 'numpy.ndarray'>\n",
      "(1797, 8, 8)\n"
     ]
    }
   ],
   "source": [
    "data = datasets.load_digits()\n",
    "\n",
    "X_data = data.images\n",
    "y_data = data.target\n",
    "\n",
    "print(type(X_data))\n",
    "print(data.images.shape)"
   ]
  },
  {
   "cell_type": "code",
   "execution_count": 44,
   "metadata": {
    "ExecuteTime": {
     "end_time": "2020-01-21T07:39:35.855000Z",
     "start_time": "2020-01-21T07:39:35.850019Z"
    }
   },
   "outputs": [],
   "source": [
    "# a= np.array([[1,2],[3,4],[5,6]])\n",
    "# print(a)\n",
    "# b=a.reshape(3,2,1) #뒤에 1 = 차원 하나 늘리기.\n",
    "# print(b.shape)\n",
    "# print(b)\n",
    "# print(b[:,:,0])"
   ]
  },
  {
   "cell_type": "code",
   "execution_count": 48,
   "metadata": {
    "ExecuteTime": {
     "end_time": "2020-01-21T07:30:44.443645Z",
     "start_time": "2020-01-21T07:30:44.435666Z"
    }
   },
   "outputs": [
    {
     "name": "stdout",
     "output_type": "stream",
     "text": [
      "(1797, 8, 8, 1)\n",
      "(1797, 10)\n",
      "(1257, 8, 8, 1)\n",
      "(540, 8, 8, 1)\n",
      "(1257, 10)\n",
      "(540, 10)\n"
     ]
    }
   ],
   "source": [
    "# 왜 차원 늘리는지 이해 안감.################################################ (분류레벨?)\n",
    "# 컬러=3, 흑백 1 (행, 열, 채널 수)\n",
    "X_data = X_data.reshape((X_data.shape[0], X_data.shape[1], X_data.shape[2], 1))  # 3차원 ->4차원\n",
    "y_data = to_categorical(y_data)\n",
    "\n",
    "X_train, X_test, y_train, y_test = train_test_split(X_data, y_data, test_size = 0.3, random_state = 777)\n",
    "\n",
    "print(X_data.shape)\n",
    "print(y_data.shape)\n",
    "print(X_train.shape)\n",
    "print(X_test.shape)\n",
    "print(y_train.shape)\n",
    "print(y_test.shape)"
   ]
  },
  {
   "cell_type": "code",
   "execution_count": 50,
   "metadata": {
    "ExecuteTime": {
     "end_time": "2020-01-21T08:42:33.279501Z",
     "start_time": "2020-01-21T08:42:33.202405Z"
    }
   },
   "outputs": [
    {
     "name": "stdout",
     "output_type": "stream",
     "text": [
      "Model: \"sequential_4\"\n",
      "_________________________________________________________________\n",
      "Layer (type)                 Output Shape              Param #   \n",
      "=================================================================\n",
      "conv2d_14 (Conv2D)           (None, 8, 8, 10)          100       \n",
      "_________________________________________________________________\n",
      "activation_14 (Activation)   (None, 8, 8, 10)          0         \n",
      "_________________________________________________________________\n",
      "max_pooling2d_8 (MaxPooling2 (None, 4, 4, 10)          0         \n",
      "_________________________________________________________________\n",
      "flatten_4 (Flatten)          (None, 160)               0         \n",
      "_________________________________________________________________\n",
      "dense_7 (Dense)              (None, 50)                8050      \n",
      "_________________________________________________________________\n",
      "dense_8 (Dense)              (None, 10)                510       \n",
      "=================================================================\n",
      "Total params: 8,660\n",
      "Trainable params: 8,660\n",
      "Non-trainable params: 0\n",
      "_________________________________________________________________\n"
     ]
    }
   ],
   "source": [
    "# 파라미터 계산 해보기. 어떻게 저런 값이 나오는지.\n",
    "\n",
    "model = Sequential()\n",
    "\n",
    "model.add(Conv2D(input_shape = (X_data.shape[1], X_data.shape[2], X_data.shape[3]), \n",
    "                 filters = 10, kernel_size = (3,3), strides = (1,1), padding = 'same'))\n",
    "# (3X3) * 10 + 10 = 100           <-어떻게 계산되는지? 마지막 10의 의미?\n",
    "model.add(Activation('relu'))\n",
    "model.add(MaxPooling2D(pool_size = (2,2)))\n",
    "\n",
    "model.add(Flatten())\n",
    "\n",
    "model.add(Dense(50, activation = 'relu'))\n",
    "model.add(Dense(10, activation = 'softmax'))\n",
    "# 50 * 10 + 10 = 510      바이어스? = b\n",
    "\n",
    "adam = optimizers.Adam(lr = 0.001)\n",
    "model.compile(loss = 'categorical_crossentropy', optimizer = adam, metrics = ['accuracy'])\n",
    "model.summary()"
   ]
  },
  {
   "cell_type": "code",
   "execution_count": 51,
   "metadata": {
    "ExecuteTime": {
     "end_time": "2020-01-21T07:45:52.471565Z",
     "start_time": "2020-01-21T07:45:48.168867Z"
    }
   },
   "outputs": [
    {
     "data": {
      "image/png": "[encoded data removed]",
      "text/plain": [
       "<Figure size 432x288 with 1 Axes>"
      ]
     },
     "metadata": {
      "needs_background": "light"
     },
     "output_type": "display_data"
    },
    {
     "name": "stdout",
     "output_type": "stream",
     "text": [
      "540/540 [==============================] - 0s 33us/step\n",
      "Test accuracy:  0.9740740656852722\n"
     ]
    }
   ],
   "source": [
    "history = model.fit(X_train, y_train, batch_size = 50, validation_split = 0.2, epochs = 100, verbose = 0)\n",
    "\n",
    "plt.plot(history.history['accuracy'])\n",
    "plt.plot(history.history['val_accuracy'])\n",
    "plt.legend(['training', 'validation'], loc = 'upper left')\n",
    "plt.show()\n",
    "\n",
    "results = model.evaluate(X_test, y_test)\n",
    "print('Test accuracy: ', results[1])\n",
    "\n",
    "#단순 cnn조차 금방 96% 나온다."
   ]
  },
  {
   "cell_type": "code",
   "execution_count": 52,
   "metadata": {
    "ExecuteTime": {
     "end_time": "2020-01-21T07:51:01.507222Z",
     "start_time": "2020-01-21T07:51:01.497198Z"
    }
   },
   "outputs": [],
   "source": [
    "def deep_cnn():\n",
    "    model = Sequential()\n",
    "    \n",
    "#     필터 2번에 한번 pooling\n",
    "    model.add(Conv2D(input_shape = (X_train.shape[1], X_train.shape[2], X_train.shape[3]), filters = 50, kernel_size = (3,3), strides = (1,1), padding = 'same'))\n",
    "    model.add(Activation('relu'))\n",
    "#     stride : 옆으로 몇칸씩 이동할것인지. 주로 1,1 사용\n",
    "    model.add(Conv2D(filters = 50, kernel_size = (3,3), strides = (1,1), padding = 'same'))\n",
    "    model.add(Activation('relu'))\n",
    "    model.add(MaxPooling2D(pool_size = (2,2)))\n",
    "    \n",
    "    model.add(Conv2D(filters = 50, kernel_size = (3,3), strides = (1,1), padding = 'same'))\n",
    "    model.add(Activation('relu'))\n",
    "    \n",
    "    model.add(Conv2D(filters = 50, kernel_size = (3,3), strides = (1,1), padding = 'same'))\n",
    "    model.add(Activation('relu'))\n",
    "    model.add(MaxPooling2D(pool_size = (2,2)))\n",
    "    \n",
    "    model.add(Conv2D(filters = 50, kernel_size = (3,3), strides = (1,1), padding = 'same'))\n",
    "    model.add(Activation('relu'))\n",
    "    \n",
    "    model.add(Conv2D(filters = 50, kernel_size = (3,3), strides = (1,1), padding = 'same'))\n",
    "    model.add(Activation('relu'))\n",
    "    model.add(MaxPooling2D(pool_size = (2,2)))\n",
    "    \n",
    "    \n",
    "    model.add(Flatten())    \n",
    "    model.add(Dense(50, activation = 'relu'))    \n",
    "    model.add(Dense(10, activation = 'softmax'))\n",
    "    \n",
    "    adam = optimizers.Adam(lr = 0.001)\n",
    "    model.compile(loss = 'categorical_crossentropy', optimizer = adam, metrics = ['accuracy'])\n",
    "    \n",
    "    return model    "
   ]
  },
  {
   "cell_type": "code",
   "execution_count": 53,
   "metadata": {
    "ExecuteTime": {
     "end_time": "2020-01-21T07:51:02.239389Z",
     "start_time": "2020-01-21T07:51:02.111930Z"
    }
   },
   "outputs": [
    {
     "name": "stdout",
     "output_type": "stream",
     "text": [
      "Model: \"sequential_5\"\n",
      "_________________________________________________________________\n",
      "Layer (type)                 Output Shape              Param #   \n",
      "=================================================================\n",
      "conv2d_15 (Conv2D)           (None, 8, 8, 50)          500       \n",
      "_________________________________________________________________\n",
      "activation_15 (Activation)   (None, 8, 8, 50)          0         \n",
      "_________________________________________________________________\n",
      "conv2d_16 (Conv2D)           (None, 8, 8, 50)          22550     \n",
      "_________________________________________________________________\n",
      "activation_16 (Activation)   (None, 8, 8, 50)          0         \n",
      "_________________________________________________________________\n",
      "max_pooling2d_9 (MaxPooling2 (None, 4, 4, 50)          0         \n",
      "_________________________________________________________________\n",
      "conv2d_17 (Conv2D)           (None, 4, 4, 50)          22550     \n",
      "_________________________________________________________________\n",
      "activation_17 (Activation)   (None, 4, 4, 50)          0         \n",
      "_________________________________________________________________\n",
      "conv2d_18 (Conv2D)           (None, 4, 4, 50)          22550     \n",
      "_________________________________________________________________\n",
      "activation_18 (Activation)   (None, 4, 4, 50)          0         \n",
      "_________________________________________________________________\n",
      "max_pooling2d_10 (MaxPooling (None, 2, 2, 50)          0         \n",
      "_________________________________________________________________\n",
      "conv2d_19 (Conv2D)           (None, 2, 2, 50)          22550     \n",
      "_________________________________________________________________\n",
      "activation_19 (Activation)   (None, 2, 2, 50)          0         \n",
      "_________________________________________________________________\n",
      "conv2d_20 (Conv2D)           (None, 2, 2, 50)          22550     \n",
      "_________________________________________________________________\n",
      "activation_20 (Activation)   (None, 2, 2, 50)          0         \n",
      "_________________________________________________________________\n",
      "max_pooling2d_11 (MaxPooling (None, 1, 1, 50)          0         \n",
      "_________________________________________________________________\n",
      "flatten_5 (Flatten)          (None, 50)                0         \n",
      "_________________________________________________________________\n",
      "dense_9 (Dense)              (None, 50)                2550      \n",
      "_________________________________________________________________\n",
      "dense_10 (Dense)             (None, 10)                510       \n",
      "=================================================================\n",
      "Total params: 116,310\n",
      "Trainable params: 116,310\n",
      "Non-trainable params: 0\n",
      "_________________________________________________________________\n"
     ]
    }
   ],
   "source": [
    "model = deep_cnn()\n",
    "model.summary()"
   ]
  },
  {
   "cell_type": "code",
   "execution_count": 55,
   "metadata": {
    "ExecuteTime": {
     "end_time": "2020-01-21T07:51:25.975568Z",
     "start_time": "2020-01-21T07:51:04.351760Z"
    }
   },
   "outputs": [
    {
     "name": "stdout",
     "output_type": "stream",
     "text": [
      "Wall time: 30.6 s\n"
     ]
    }
   ],
   "source": [
    "%%time\n",
    "history = model.fit(X_train, y_train, batch_size = 50, validation_split = 0.2, epochs = 100, verbose = 0)"
   ]
  },
  {
   "cell_type": "code",
   "execution_count": 10,
   "metadata": {
    "ExecuteTime": {
     "end_time": "2020-01-21T08:30:25.509605Z",
     "start_time": "2020-01-21T08:30:25.412637Z"
    }
   },
   "outputs": [
    {
     "data": {
      "image/png": "[encoded data removed]",
      "text/plain": [
       "<Figure size 432x288 with 1 Axes>"
      ]
     },
     "metadata": {
      "needs_background": "light"
     },
     "output_type": "display_data"
    }
   ],
   "source": [
    "plt.plot(history.history['accuracy'])\n",
    "plt.plot(history.history['val_accuracy'])\n",
    "plt.legend(['training', 'validation'], loc = 'upper left')\n",
    "plt.show()"
   ]
  },
  {
   "cell_type": "code",
   "execution_count": 11,
   "metadata": {
    "ExecuteTime": {
     "end_time": "2020-01-21T08:30:27.662561Z",
     "start_time": "2020-01-21T08:30:27.596242Z"
    }
   },
   "outputs": [
    {
     "name": "stdout",
     "output_type": "stream",
     "text": [
      "540/540 [==============================] - 0s 103us/step\n",
      "Test accuracy:  0.9851852059364319\n"
     ]
    }
   ],
   "source": [
    "results = model.evaluate(X_test, y_test)\n",
    "print('Test accuracy: ', results[1])    # 오히려 결과가 떨어짐"
   ]
  },
  {
   "cell_type": "markdown",
   "metadata": {},
   "source": [
    "## 2. Deep CNN - 2\n",
    "- Measures used to ameliorate the performance of MLPs are employed\n",
    "    - Weight Initialization\n",
    "    - Batch Normalization\n",
    "    - Dropout"
   ]
  },
  {
   "cell_type": "code",
   "execution_count": 12,
   "metadata": {
    "ExecuteTime": {
     "end_time": "2020-01-21T08:33:19.184402Z",
     "start_time": "2020-01-21T08:33:19.172985Z"
    }
   },
   "outputs": [],
   "source": [
    "def deep_cnn_advanced():\n",
    "    model = Sequential()\n",
    "    \n",
    "    model.add(Conv2D(input_shape = (X_train.shape[1], X_train.shape[2], X_train.shape[3]), filters = 50, kernel_size = (3,3), strides = (1,1), padding = 'same', kernel_initializer='he_normal'))\n",
    "    model.add(BatchNormalization())\n",
    "    model.add(Activation('relu'))\n",
    "    model.add(Conv2D(filters = 50, kernel_size = (3,3), strides = (1,1), padding = 'same', kernel_initializer='he_normal'))\n",
    "    model.add(BatchNormalization())\n",
    "    model.add(Activation('relu'))\n",
    "    model.add(MaxPooling2D(pool_size = (2,2)))\n",
    "    model.add(Conv2D(filters = 50, kernel_size = (3,3), strides = (1,1), padding = 'same', kernel_initializer='he_normal'))\n",
    "    model.add(BatchNormalization())\n",
    "    model.add(Activation('relu'))\n",
    "    model.add(Conv2D(filters = 50, kernel_size = (3,3), strides = (1,1), padding = 'same', kernel_initializer='he_normal'))\n",
    "    model.add(BatchNormalization())\n",
    "    model.add(Activation('relu'))\n",
    "    model.add(MaxPooling2D(pool_size = (2,2)))\n",
    "    model.add(Conv2D(filters = 50, kernel_size = (3,3), strides = (1,1), padding = 'same', kernel_initializer='he_normal'))\n",
    "    model.add(BatchNormalization())\n",
    "    model.add(Activation('relu'))\n",
    "    model.add(Conv2D(filters = 50, kernel_size = (3,3), strides = (1,1), padding = 'same', kernel_initializer='he_normal'))\n",
    "    model.add(BatchNormalization())\n",
    "    model.add(Activation('relu'))\n",
    "    model.add(MaxPooling2D(pool_size = (2,2)))\n",
    "    \n",
    "#     드랍아웃이나 앙상블은 아랫쪽에서 주로 사용. cnn에선 쓰던가 말던가인데 걍 쓰지마셈.\n",
    "    # prior layer should be flattend to be connected to dense layers\n",
    "    model.add(Flatten())\n",
    "    # dense layer with 50 neurons\n",
    "    model.add(Dense(50, activation = 'relu', kernel_initializer='he_normal'))\n",
    "    model.add(Dropout(0.5))\n",
    "    # final layer with 10 neurons to classify the instances\n",
    "    model.add(Dense(10, activation = 'softmax', kernel_initializer='he_normal'))\n",
    "    \n",
    "    adam = optimizers.Adam(lr = 0.001)\n",
    "    model.compile(loss = 'categorical_crossentropy', optimizer = adam, metrics = ['accuracy'])\n",
    "    \n",
    "    return model    "
   ]
  },
  {
   "cell_type": "code",
   "execution_count": 13,
   "metadata": {
    "ExecuteTime": {
     "end_time": "2020-01-21T08:33:21.473953Z",
     "start_time": "2020-01-21T08:33:20.996025Z"
    }
   },
   "outputs": [
    {
     "name": "stdout",
     "output_type": "stream",
     "text": [
      "Model: \"sequential_3\"\n",
      "_________________________________________________________________\n",
      "Layer (type)                 Output Shape              Param #   \n",
      "=================================================================\n",
      "conv2d_8 (Conv2D)            (None, 8, 8, 50)          500       \n",
      "_________________________________________________________________\n",
      "batch_normalization_1 (Batch (None, 8, 8, 50)          200       \n",
      "_________________________________________________________________\n",
      "activation_8 (Activation)    (None, 8, 8, 50)          0         \n",
      "_________________________________________________________________\n",
      "conv2d_9 (Conv2D)            (None, 8, 8, 50)          22550     \n",
      "_________________________________________________________________\n",
      "batch_normalization_2 (Batch (None, 8, 8, 50)          200       \n",
      "_________________________________________________________________\n",
      "activation_9 (Activation)    (None, 8, 8, 50)          0         \n",
      "_________________________________________________________________\n",
      "max_pooling2d_5 (MaxPooling2 (None, 4, 4, 50)          0         \n",
      "_________________________________________________________________\n",
      "conv2d_10 (Conv2D)           (None, 4, 4, 50)          22550     \n",
      "_________________________________________________________________\n",
      "batch_normalization_3 (Batch (None, 4, 4, 50)          200       \n",
      "_________________________________________________________________\n",
      "activation_10 (Activation)   (None, 4, 4, 50)          0         \n",
      "_________________________________________________________________\n",
      "conv2d_11 (Conv2D)           (None, 4, 4, 50)          22550     \n",
      "_________________________________________________________________\n",
      "batch_normalization_4 (Batch (None, 4, 4, 50)          200       \n",
      "_________________________________________________________________\n",
      "activation_11 (Activation)   (None, 4, 4, 50)          0         \n",
      "_________________________________________________________________\n",
      "max_pooling2d_6 (MaxPooling2 (None, 2, 2, 50)          0         \n",
      "_________________________________________________________________\n",
      "conv2d_12 (Conv2D)           (None, 2, 2, 50)          22550     \n",
      "_________________________________________________________________\n",
      "batch_normalization_5 (Batch (None, 2, 2, 50)          200       \n",
      "_________________________________________________________________\n",
      "activation_12 (Activation)   (None, 2, 2, 50)          0         \n",
      "_________________________________________________________________\n",
      "conv2d_13 (Conv2D)           (None, 2, 2, 50)          22550     \n",
      "_________________________________________________________________\n",
      "batch_normalization_6 (Batch (None, 2, 2, 50)          200       \n",
      "_________________________________________________________________\n",
      "activation_13 (Activation)   (None, 2, 2, 50)          0         \n",
      "_________________________________________________________________\n",
      "max_pooling2d_7 (MaxPooling2 (None, 1, 1, 50)          0         \n",
      "_________________________________________________________________\n",
      "flatten_3 (Flatten)          (None, 50)                0         \n",
      "_________________________________________________________________\n",
      "dense_5 (Dense)              (None, 50)                2550      \n",
      "_________________________________________________________________\n",
      "dropout_1 (Dropout)          (None, 50)                0         \n",
      "_________________________________________________________________\n",
      "dense_6 (Dense)              (None, 10)                510       \n",
      "=================================================================\n",
      "Total params: 117,510\n",
      "Trainable params: 116,910\n",
      "Non-trainable params: 600\n",
      "_________________________________________________________________\n"
     ]
    }
   ],
   "source": [
    "model = deep_cnn_advanced()\n",
    "model.summary()"
   ]
  },
  {
   "cell_type": "code",
   "execution_count": 19,
   "metadata": {
    "ExecuteTime": {
     "end_time": "2020-01-21T08:34:00.972075Z",
     "start_time": "2020-01-21T08:33:21.501689Z"
    }
   },
   "outputs": [],
   "source": [
    "history = model.fit(X_train, y_train, batch_size = 50, validation_split = 0.2, epochs = 100, verbose = 0)"
   ]
  },
  {
   "cell_type": "code",
   "execution_count": 20,
   "metadata": {
    "ExecuteTime": {
     "end_time": "2020-01-21T08:34:01.082859Z",
     "start_time": "2020-01-21T08:34:00.999003Z"
    }
   },
   "outputs": [
    {
     "name": "stdout",
     "output_type": "stream",
     "text": [
      "540/540 [==============================] - 0s 188us/step\n",
      "Test accuracy:  0.9907407164573669\n"
     ]
    }
   ],
   "source": [
    "results = model.evaluate(X_test, y_test)\n",
    "print('Test accuracy: ', results[1])       \n",
    "#오히려 성능이 떨어짐. CNN은 DNN과 달리 깊게 설계하는게 힘듦."
   ]
  }
 ],
 "metadata": {
  "kernelspec": {
   "display_name": "Python 3",
   "language": "python",
   "name": "python3"
  },
  "language_info": {
   "codemirror_mode": {
    "name": "ipython",
    "version": 3
   },
   "file_extension": ".py",
   "mimetype": "text/x-python",
   "name": "python",
   "nbconvert_exporter": "python",
   "pygments_lexer": "ipython3",
   "version": "3.7.6"
  },
  "varInspector": {
   "cols": {
    "lenName": 16,
    "lenType": 16,
    "lenVar": 40
   },
   "kernels_config": {
    "python": {
     "delete_cmd_postfix": "",
     "delete_cmd_prefix": "del ",
     "library": "var_list.py",
     "varRefreshCmd": "print(var_dic_list())"
    },
    "r": {
     "delete_cmd_postfix": ") ",
     "delete_cmd_prefix": "rm(",
     "library": "var_list.r",
     "varRefreshCmd": "cat(var_dic_list()) "
    }
   },
   "types_to_exclude": [
    "module",
    "function",
    "builtin_function_or_method",
    "instance",
    "_Feature"
   ],
   "window_display": false
  }
 },
 "nbformat": 4,
 "nbformat_minor": 2
}
