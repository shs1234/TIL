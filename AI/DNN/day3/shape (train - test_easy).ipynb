{
 "cells": [
  {
   "cell_type": "code",
   "execution_count": 1,
   "metadata": {
    "ExecuteTime": {
     "end_time": "2020-01-22T04:10:11.179378Z",
     "start_time": "2020-01-22T04:10:06.272090Z"
    }
   },
   "outputs": [
    {
     "name": "stderr",
     "output_type": "stream",
     "text": [
      "Using TensorFlow backend.\n"
     ]
    }
   ],
   "source": [
    "import numpy as np\n",
    "import matplotlib.pyplot as plt\n",
    "\n",
    "from sklearn import datasets\n",
    "from sklearn.model_selection import train_test_split\n",
    "from keras.utils.np_utils import to_categorical\n",
    "from keras.models import Sequential\n",
    "from keras import optimizers\n",
    "from keras.layers import Dense, Activation, Flatten, Conv2D, MaxPooling2D\n",
    "from keras.layers import BatchNormalization, Dropout\n",
    "import matplotlib.pyplot\n",
    "import cv2"
   ]
  },
  {
   "cell_type": "code",
   "execution_count": 2,
   "metadata": {
    "ExecuteTime": {
     "end_time": "2020-01-22T04:10:11.216918Z",
     "start_time": "2020-01-22T04:10:11.179378Z"
    }
   },
   "outputs": [],
   "source": [
    "train = []\n",
    "train_name = []\n",
    "    \n",
    "for i in range(1,16):\n",
    "    img = cv2.imread('./hand_writing/train/circle/circle0' + '%02d'%i + '.png', 0)\n",
    "    train.append(img)\n",
    "    train_name.append(0)\n",
    "    \n",
    "for i in range(1,16):\n",
    "    img = cv2.imread('./hand_writing/train/rectangle/rectangle0' + '%02d'%i + '.png', 0)\n",
    "    train.append(img)\n",
    "    train_name.append(1)\n",
    "    \n",
    "for i in range(1,16):\n",
    "    img = cv2.imread('./hand_writing/train/triangle/triangle0' + '%02d'%i + '.png', 0)\n",
    "    train.append(img)\n",
    "    train_name.append(2)"
   ]
  },
  {
   "cell_type": "code",
   "execution_count": 3,
   "metadata": {
    "ExecuteTime": {
     "end_time": "2020-01-22T04:10:11.232848Z",
     "start_time": "2020-01-22T04:10:11.217581Z"
    },
    "scrolled": true
   },
   "outputs": [],
   "source": [
    "test = []\n",
    "test_name = []\n",
    "\n",
    "for i in range(1,6):\n",
    "    img = cv2.imread('./hand_writing/test_easy/circle/circle0' + '%02d'%(i+15) + '.png', 0)\n",
    "    test.append(img)\n",
    "    test_name.append(0)\n",
    "    \n",
    "for i in range(1,6):\n",
    "    img = cv2.imread('./hand_writing/test_easy/rectangle/rectangle0' + '%02d'%(i+15) + '.png', 0)\n",
    "    test.append(img)\n",
    "    test_name.append(1)\n",
    "    \n",
    "for i in range(1,6):\n",
    "    img = cv2.imread('./hand_writing/test_easy/triangle/triangle0' + '%02d'%(i+15) + '.png', 0)\n",
    "    test.append(img)\n",
    "    test_name.append(2)"
   ]
  },
  {
   "cell_type": "code",
   "execution_count": 4,
   "metadata": {
    "ExecuteTime": {
     "end_time": "2020-01-22T04:10:11.239825Z",
     "start_time": "2020-01-22T04:10:11.234766Z"
    }
   },
   "outputs": [
    {
     "name": "stdout",
     "output_type": "stream",
     "text": [
      "(45, 24, 24, 1)\n",
      "(15, 24, 24, 1)\n",
      "(45, 3)\n",
      "(15, 3)\n"
     ]
    }
   ],
   "source": [
    "X_train = np.array(train)\n",
    "X_test = np.array(test)\n",
    "y_train = np.array(train_name)\n",
    "y_test = np.array(test_name)\n",
    "\n",
    "X_train = X_train.reshape((X_train.shape[0], X_train.shape[1], X_train.shape[2], 1)) \n",
    "X_test = X_test.reshape((X_test.shape[0], X_test.shape[1], X_test.shape[2], 1)) \n",
    "y_train = to_categorical(y_train)\n",
    "y_test = to_categorical(y_test)\n",
    "\n",
    "print(X_train.shape)\n",
    "print(X_test.shape)\n",
    "print(y_train.shape)\n",
    "print(y_test.shape)"
   ]
  },
  {
   "cell_type": "code",
   "execution_count": 22,
   "metadata": {
    "ExecuteTime": {
     "end_time": "2020-01-22T04:40:02.799516Z",
     "start_time": "2020-01-22T04:40:02.715562Z"
    }
   },
   "outputs": [
    {
     "name": "stdout",
     "output_type": "stream",
     "text": [
      "Model: \"sequential_3\"\n",
      "_________________________________________________________________\n",
      "Layer (type)                 Output Shape              Param #   \n",
      "=================================================================\n",
      "conv2d_5 (Conv2D)            (None, 24, 24, 32)        320       \n",
      "_________________________________________________________________\n",
      "activation_5 (Activation)    (None, 24, 24, 32)        0         \n",
      "_________________________________________________________________\n",
      "conv2d_6 (Conv2D)            (None, 24, 24, 64)        18496     \n",
      "_________________________________________________________________\n",
      "activation_6 (Activation)    (None, 24, 24, 64)        0         \n",
      "_________________________________________________________________\n",
      "max_pooling2d_3 (MaxPooling2 (None, 12, 12, 64)        0         \n",
      "_________________________________________________________________\n",
      "flatten_3 (Flatten)          (None, 9216)              0         \n",
      "_________________________________________________________________\n",
      "dense_5 (Dense)              (None, 128)               1179776   \n",
      "_________________________________________________________________\n",
      "dense_6 (Dense)              (None, 3)                 387       \n",
      "=================================================================\n",
      "Total params: 1,198,979\n",
      "Trainable params: 1,198,979\n",
      "Non-trainable params: 0\n",
      "_________________________________________________________________\n"
     ]
    }
   ],
   "source": [
    "model = Sequential()\n",
    "\n",
    "model.add(Conv2D(input_shape = (X_train.shape[1], X_train.shape[2], X_train.shape[3]), \n",
    "                 filters = 32, kernel_size = (3,3), strides = (1,1), padding = 'same'))\n",
    "model.add(Activation('relu'))\n",
    "\n",
    "model.add(Conv2D(input_shape = (X_train.shape[1], X_train.shape[2], X_train.shape[3]), \n",
    "                 filters = 64, kernel_size = (3,3), strides = (1,1), padding = 'same'))\n",
    "model.add(Activation('relu'))\n",
    "\n",
    "model.add(MaxPooling2D(pool_size = (2,2)))\n",
    "\n",
    "model.add(Flatten())\n",
    "\n",
    "model.add(Dense(128, activation = 'relu'))\n",
    "model.add(Dense(3, activation = 'softmax'))\n",
    "\n",
    "adam = optimizers.Adam(lr = 0.001)\n",
    "model.compile(loss = 'categorical_crossentropy', optimizer = adam, metrics = ['accuracy'])\n",
    "model.summary()"
   ]
  },
  {
   "cell_type": "code",
   "execution_count": 6,
   "metadata": {
    "ExecuteTime": {
     "end_time": "2020-01-22T04:10:17.238531Z",
     "start_time": "2020-01-22T04:10:11.331516Z"
    }
   },
   "outputs": [
    {
     "name": "stdout",
     "output_type": "stream",
     "text": [
      "WARNING:tensorflow:From C:\\Users\\student\\Anaconda3\\lib\\site-packages\\keras\\backend\\tensorflow_backend.py:422: The name tf.global_variables is deprecated. Please use tf.compat.v1.global_variables instead.\n",
      "\n"
     ]
    },
    {
     "data": {
      "image/png": "[encoded data removed]",
      "text/plain": [
       "<Figure size 432x288 with 1 Axes>"
      ]
     },
     "metadata": {
      "needs_background": "light"
     },
     "output_type": "display_data"
    },
    {
     "name": "stdout",
     "output_type": "stream",
     "text": [
      "15/15 [==============================] - 0s 998us/step\n",
      "Test accuracy:  0.6666666865348816\n"
     ]
    }
   ],
   "source": [
    "history = model.fit(X_train, y_train, batch_size = 15, validation_split = 0.2, epochs = 100, verbose = 0)\n",
    "\n",
    "plt.plot(history.history['accuracy'])\n",
    "plt.plot(history.history['val_accuracy'])\n",
    "plt.legend(['training', 'validation'], loc = 'upper left')\n",
    "plt.show()\n",
    "\n",
    "results = model.evaluate(X_test, y_test)\n",
    "print('Test accuracy: ', results[1])"
   ]
  },
  {
   "cell_type": "code",
   "execution_count": 23,
   "metadata": {
    "ExecuteTime": {
     "end_time": "2020-01-22T04:40:04.818674Z",
     "start_time": "2020-01-22T04:40:04.739093Z"
    }
   },
   "outputs": [
    {
     "name": "stdout",
     "output_type": "stream",
     "text": [
      "conv2d_5\n",
      "True\n",
      "Tensor(\"conv2d_5/BiasAdd:0\", shape=(?, 24, 24, 32), dtype=float32)\n",
      "(3, 3, 1, 32)\n",
      "(32,)\n",
      "[[-0.04140413  0.03423628  0.04077579]\n",
      " [-0.12547721 -0.10494713  0.05315088]\n",
      " [ 0.0032791   0.04478249 -0.0049223 ]]\n",
      "[[ 0.04455315  0.07524973  0.04203565]\n",
      " [-0.05714416  0.00143255  0.0905211 ]\n",
      " [ 0.08979702  0.14207397 -0.04046911]]\n",
      "0.0\n",
      "0.0\n"
     ]
    }
   ],
   "source": [
    "print(model.layers[0].name)\n",
    "print(model.layers[0].trainable) #전이학습을 사용할때, 해당 과정을 학습할지 안할지 정해줄 수 있음.\n",
    "print(model.layers[0].output) # w, b가 적용된 결과값\n",
    "\n",
    "\n",
    "w=model.layers[0].get_weights()\n",
    "print(w[0].shape)  # w\n",
    "print(w[1].shape)  # b\n",
    "\n",
    "print(w[0][:,:,0,0]) #필터\n",
    "print(w[0][:,:,0,1]) #필터\n",
    "print(w[1][0]) #필터 1의 b\n",
    "print(w[1][1]) #필터 2의 b, 근데 왜 0이지?"
   ]
  },
  {
   "cell_type": "code",
   "execution_count": 24,
   "metadata": {
    "ExecuteTime": {
     "end_time": "2020-01-22T04:40:09.324247Z",
     "start_time": "2020-01-22T04:40:09.066958Z"
    }
   },
   "outputs": [
    {
     "name": "stdout",
     "output_type": "stream",
     "text": [
      "(15, 24, 24, 32)\n"
     ]
    },
    {
     "data": {
      "image/png": "[encoded data removed]",
      "text/plain": [
       "<Figure size 432x288 with 1 Axes>"
      ]
     },
     "metadata": {
      "needs_background": "light"
     },
     "output_type": "display_data"
    },
    {
     "data": {
      "image/png": "[encoded data removed]",
      "text/plain": [
       "<Figure size 432x288 with 1 Axes>"
      ]
     },
     "metadata": {
      "needs_background": "light"
     },
     "output_type": "display_data"
    },
    {
     "data": {
      "image/png": "[encoded data removed]",
      "text/plain": [
       "<Figure size 432x288 with 1 Axes>"
      ]
     },
     "metadata": {
      "needs_background": "light"
     },
     "output_type": "display_data"
    }
   ],
   "source": [
    "from keras.models import Model\n",
    "\n",
    "my_layer_model = Model(inputs=model.input, outputs=model.layers[0].output)\n",
    "output = my_layer_model.predict(X_test)\n",
    "\n",
    "print(output.shape)\n",
    "\n",
    "filter_num = 5\n",
    "img_num = 1\n",
    "\n",
    "# 원본 이미지\n",
    "plt.imshow(X_test[img_num,:,:,0], cmap='gray') #1번째 이미지, [인덱스, 가로, 세로, 채널(흑백:0)]\n",
    "plt.show()\n",
    "\n",
    "# 필터\n",
    "w=model.layers[0].get_weights()\n",
    "w=w[0]\n",
    "f=w[:,:,0,filter_num] #[가로, 세로, 채널, 필터넘버]\n",
    "plt.imshow(f, cmap='gray')\n",
    "plt.show()\n",
    "\n",
    "# 출력 : 1번째 이미지 * (5번째 필터 + b)\n",
    "plt.imshow(output[img_num,:,:,filter_num], cmap='gray') \n",
    "plt.show()"
   ]
  },
  {
   "cell_type": "code",
   "execution_count": null,
   "metadata": {},
   "outputs": [],
   "source": []
  }
 ],
 "metadata": {
  "kernelspec": {
   "display_name": "Python 3",
   "language": "python",
   "name": "python3"
  },
  "language_info": {
   "codemirror_mode": {
    "name": "ipython",
    "version": 3
   },
   "file_extension": ".py",
   "mimetype": "text/x-python",
   "name": "python",
   "nbconvert_exporter": "python",
   "pygments_lexer": "ipython3",
   "version": "3.7.6"
  },
  "varInspector": {
   "cols": {
    "lenName": 16,
    "lenType": 16,
    "lenVar": 40
   },
   "kernels_config": {
    "python": {
     "delete_cmd_postfix": "",
     "delete_cmd_prefix": "del ",
     "library": "var_list.py",
     "varRefreshCmd": "print(var_dic_list())"
    },
    "r": {
     "delete_cmd_postfix": ") ",
     "delete_cmd_prefix": "rm(",
     "library": "var_list.r",
     "varRefreshCmd": "cat(var_dic_list()) "
    }
   },
   "types_to_exclude": [
    "module",
    "function",
    "builtin_function_or_method",
    "instance",
    "_Feature"
   ],
   "window_display": false
  }
 },
 "nbformat": 4,
 "nbformat_minor": 2
}
