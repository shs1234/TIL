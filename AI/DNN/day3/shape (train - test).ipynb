{
 "cells": [
  {
   "cell_type": "code",
   "execution_count": 5,
   "metadata": {
    "ExecuteTime": {
     "end_time": "2020-01-22T04:41:59.899386Z",
     "start_time": "2020-01-22T04:41:57.570869Z"
    }
   },
   "outputs": [
    {
     "name": "stderr",
     "output_type": "stream",
     "text": [
      "Using TensorFlow backend.\n"
     ]
    }
   ],
   "source": [
    "import numpy as np\n",
    "import matplotlib.pyplot as plt\n",
    "\n",
    "from sklearn import datasets\n",
    "from sklearn.model_selection import train_test_split\n",
    "from keras.utils.np_utils import to_categorical\n",
    "from keras.models import Sequential\n",
    "from keras import optimizers\n",
    "from keras.layers import Dense, Activation, Flatten, Conv2D, MaxPooling2D\n",
    "from keras.layers import BatchNormalization, Dropout\n",
    "import matplotlib.pyplot\n",
    "import cv2"
   ]
  },
  {
   "cell_type": "code",
   "execution_count": 12,
   "metadata": {
    "ExecuteTime": {
     "end_time": "2020-01-22T04:42:34.697780Z",
     "start_time": "2020-01-22T04:42:34.683853Z"
    }
   },
   "outputs": [],
   "source": [
    "train = []\n",
    "train_name = []\n",
    "    \n",
    "for i in range(1,16):\n",
    "    img = cv2.imread('./hand_writing/train/circle/circle0' + '%02d'%i + '.png', 0)\n",
    "    train.append(img)\n",
    "    train_name.append(0)\n",
    "    \n",
    "for i in range(1,16):\n",
    "    img = cv2.imread('./hand_writing/train/rectangle/rectangle0' + '%02d'%i + '.png', 0)\n",
    "    train.append(img)\n",
    "    train_name.append(1)\n",
    "    \n",
    "for i in range(1,16):\n",
    "    img = cv2.imread('./hand_writing/train/triangle/triangle0' + '%02d'%i + '.png', 0)\n",
    "    train.append(img)\n",
    "    train_name.append(2)"
   ]
  },
  {
   "cell_type": "code",
   "execution_count": 13,
   "metadata": {
    "ExecuteTime": {
     "end_time": "2020-01-22T04:42:35.021398Z",
     "start_time": "2020-01-22T04:42:35.011425Z"
    },
    "scrolled": true
   },
   "outputs": [],
   "source": [
    "test = []\n",
    "test_name = []\n",
    "\n",
    "for i in range(1,6):\n",
    "    img = cv2.imread('./hand_writing/test/circle/circle0' + '%02d'%(i+20) + '.png', 0)\n",
    "    test.append(img)\n",
    "    test_name.append(0)\n",
    "    \n",
    "for i in range(1,6):\n",
    "    img = cv2.imread('./hand_writing/test/rectangle/rectangle0' + '%02d'%(i+20) + '.png', 0)\n",
    "    test.append(img)\n",
    "    test_name.append(1)\n",
    "    \n",
    "for i in range(1,6):\n",
    "    img = cv2.imread('./hand_writing/test/triangle/triangle0' + '%02d'%(i+20) + '.png', 0)\n",
    "    test.append(img)\n",
    "    test_name.append(2)"
   ]
  },
  {
   "cell_type": "code",
   "execution_count": 14,
   "metadata": {
    "ExecuteTime": {
     "end_time": "2020-01-22T04:42:37.626166Z",
     "start_time": "2020-01-22T04:42:37.619171Z"
    }
   },
   "outputs": [
    {
     "name": "stdout",
     "output_type": "stream",
     "text": [
      "(45, 24, 24, 1)\n",
      "(15, 24, 24, 1)\n",
      "(45, 3)\n",
      "(15, 3)\n"
     ]
    }
   ],
   "source": [
    "X_train = np.array(train)\n",
    "X_test = np.array(test)\n",
    "y_train = np.array(train_name)\n",
    "y_test = np.array(test_name)\n",
    "\n",
    "X_train = X_train.reshape((X_train.shape[0], X_train.shape[1], X_train.shape[2], 1)) \n",
    "X_test = X_test.reshape((X_test.shape[0], X_test.shape[1], X_test.shape[2], 1)) \n",
    "y_train = to_categorical(y_train)\n",
    "y_test = to_categorical(y_test)\n",
    "\n",
    "print(X_train.shape)\n",
    "print(X_test.shape)\n",
    "print(y_train.shape)\n",
    "print(y_test.shape)"
   ]
  },
  {
   "cell_type": "code",
   "execution_count": 15,
   "metadata": {
    "ExecuteTime": {
     "end_time": "2020-01-22T04:42:38.927124Z",
     "start_time": "2020-01-22T04:42:38.843241Z"
    }
   },
   "outputs": [
    {
     "name": "stdout",
     "output_type": "stream",
     "text": [
      "Model: \"sequential_2\"\n",
      "_________________________________________________________________\n",
      "Layer (type)                 Output Shape              Param #   \n",
      "=================================================================\n",
      "conv2d_3 (Conv2D)            (None, 24, 24, 32)        320       \n",
      "_________________________________________________________________\n",
      "activation_5 (Activation)    (None, 24, 24, 32)        0         \n",
      "_________________________________________________________________\n",
      "conv2d_4 (Conv2D)            (None, 24, 24, 64)        18496     \n",
      "_________________________________________________________________\n",
      "activation_6 (Activation)    (None, 24, 24, 64)        0         \n",
      "_________________________________________________________________\n",
      "max_pooling2d_3 (MaxPooling2 (None, 12, 12, 64)        0         \n",
      "_________________________________________________________________\n",
      "flatten_2 (Flatten)          (None, 9216)              0         \n",
      "_________________________________________________________________\n",
      "dense_4 (Dense)              (None, 128)               1179776   \n",
      "_________________________________________________________________\n",
      "dense_5 (Dense)              (None, 3)                 387       \n",
      "=================================================================\n",
      "Total params: 1,198,979\n",
      "Trainable params: 1,198,979\n",
      "Non-trainable params: 0\n",
      "_________________________________________________________________\n"
     ]
    }
   ],
   "source": [
    "model = Sequential()\n",
    "\n",
    "model.add(Conv2D(input_shape = (X_train.shape[1], X_train.shape[2], X_train.shape[3]), \n",
    "                 filters = 32, kernel_size = (3,3), strides = (1,1), padding = 'same'))\n",
    "model.add(Activation('relu'))\n",
    "\n",
    "model.add(Conv2D(input_shape = (X_train.shape[1], X_train.shape[2], X_train.shape[3]), \n",
    "                 filters = 64, kernel_size = (3,3), strides = (1,1), padding = 'same'))\n",
    "model.add(Activation('relu'))\n",
    "\n",
    "model.add(MaxPooling2D(pool_size = (2,2)))\n",
    "\n",
    "model.add(Flatten())\n",
    "\n",
    "model.add(Dense(128, activation = 'relu'))\n",
    "model.add(Dense(3, activation = 'softmax'))\n",
    "\n",
    "adam = optimizers.Adam(lr = 0.001)\n",
    "model.compile(loss = 'categorical_crossentropy', optimizer = adam, metrics = ['accuracy'])\n",
    "model.summary()"
   ]
  },
  {
   "cell_type": "code",
   "execution_count": 16,
   "metadata": {
    "ExecuteTime": {
     "end_time": "2020-01-22T03:06:48.204623Z",
     "start_time": "2020-01-22T03:06:42.860807Z"
    }
   },
   "outputs": [
    {
     "data": {
      "image/png": "[encoded data removed]",
      "text/plain": [
       "<Figure size 432x288 with 1 Axes>"
      ]
     },
     "metadata": {
      "needs_background": "light"
     },
     "output_type": "display_data"
    },
    {
     "name": "stdout",
     "output_type": "stream",
     "text": [
      "15/15 [==============================] - 0s 1ms/step\n",
      "Test accuracy:  0.3333333432674408\n"
     ]
    }
   ],
   "source": [
    "history = model.fit(X_train, y_train, batch_size = 15, validation_split = 0.2, epochs = 100, verbose = 0)\n",
    "\n",
    "plt.plot(history.history['accuracy'])\n",
    "plt.plot(history.history['val_accuracy'])\n",
    "plt.legend(['training', 'validation'], loc = 'upper left')\n",
    "plt.show()\n",
    "\n",
    "results = model.evaluate(X_test, y_test)\n",
    "print('Test accuracy: ', results[1])\n",
    "\n",
    "# 학습을 계속 해도 0.3 이상으로 올라가지 않음. 구분 안된것. 학습 방법에 문제가 있다는 뜻."
   ]
  },
  {
   "cell_type": "code",
   "execution_count": 16,
   "metadata": {
    "ExecuteTime": {
     "end_time": "2020-01-22T04:42:42.870708Z",
     "start_time": "2020-01-22T04:42:42.651189Z"
    }
   },
   "outputs": [
    {
     "name": "stdout",
     "output_type": "stream",
     "text": [
      "Model: \"sequential_3\"\n",
      "_________________________________________________________________\n",
      "Layer (type)                 Output Shape              Param #   \n",
      "=================================================================\n",
      "conv2d_5 (Conv2D)            (None, 22, 22, 32)        320       \n",
      "_________________________________________________________________\n",
      "batch_normalization_5 (Batch (None, 22, 22, 32)        128       \n",
      "_________________________________________________________________\n",
      "activation_7 (Activation)    (None, 22, 22, 32)        0         \n",
      "_________________________________________________________________\n",
      "max_pooling2d_4 (MaxPooling2 (None, 11, 11, 32)        0         \n",
      "_________________________________________________________________\n",
      "conv2d_6 (Conv2D)            (None, 9, 9, 64)          18496     \n",
      "_________________________________________________________________\n",
      "batch_normalization_6 (Batch (None, 9, 9, 64)          256       \n",
      "_________________________________________________________________\n",
      "activation_8 (Activation)    (None, 9, 9, 64)          0         \n",
      "_________________________________________________________________\n",
      "max_pooling2d_5 (MaxPooling2 (None, 4, 4, 64)          0         \n",
      "_________________________________________________________________\n",
      "flatten_3 (Flatten)          (None, 1024)              0         \n",
      "_________________________________________________________________\n",
      "dense_6 (Dense)              (None, 128)               131200    \n",
      "_________________________________________________________________\n",
      "batch_normalization_7 (Batch (None, 128)               512       \n",
      "_________________________________________________________________\n",
      "activation_9 (Activation)    (None, 128)               0         \n",
      "_________________________________________________________________\n",
      "dense_7 (Dense)              (None, 64)                8256      \n",
      "_________________________________________________________________\n",
      "batch_normalization_8 (Batch (None, 64)                256       \n",
      "_________________________________________________________________\n",
      "activation_10 (Activation)   (None, 64)                0         \n",
      "_________________________________________________________________\n",
      "dense_8 (Dense)              (None, 3)                 195       \n",
      "=================================================================\n",
      "Total params: 159,619\n",
      "Trainable params: 159,043\n",
      "Non-trainable params: 576\n",
      "_________________________________________________________________\n"
     ]
    }
   ],
   "source": [
    "# 다른 모델 생성\n",
    "model = Sequential()\n",
    "model.add(Conv2D(32, kernel_size=(3, 3),input_shape=(24,24,1)))\n",
    "model.add(BatchNormalization())\n",
    "model.add(Activation('relu'))\n",
    "model.add(MaxPooling2D(pool_size=(2, 2)))\n",
    "    \n",
    "model.add(Conv2D(64, (3, 3))) \n",
    "model.add(BatchNormalization())\n",
    "model.add(Activation('relu'))\n",
    "model.add(MaxPooling2D(pool_size=(2, 2)))\n",
    "\n",
    "model.add(Flatten())\n",
    "\n",
    "model.add(Dense(128)) \n",
    "model.add(BatchNormalization())\n",
    "model.add(Activation('relu'))\n",
    "\n",
    "model.add(Dense(64)) \n",
    "model.add(BatchNormalization())\n",
    "model.add(Activation('relu'))\n",
    "\n",
    "model.add(Dense(3, activation='softmax'))\n",
    "\n",
    "# 모델 엮기\n",
    "model.compile(loss='categorical_crossentropy', optimizer='adam', metrics=['accuracy'])\n",
    "model.summary()"
   ]
  },
  {
   "cell_type": "code",
   "execution_count": 19,
   "metadata": {
    "ExecuteTime": {
     "end_time": "2020-01-22T03:11:42.499047Z",
     "start_time": "2020-01-22T03:11:38.664081Z"
    }
   },
   "outputs": [
    {
     "data": {
      "image/png": "[encoded data removed]",
      "text/plain": [
       "<Figure size 432x288 with 1 Axes>"
      ]
     },
     "metadata": {
      "needs_background": "light"
     },
     "output_type": "display_data"
    },
    {
     "name": "stdout",
     "output_type": "stream",
     "text": [
      "15/15 [==============================] - 0s 0us/step\n",
      "Test accuracy:  0.3333333432674408\n"
     ]
    }
   ],
   "source": [
    "history = model.fit(X_train, y_train, batch_size = 15, validation_split = 0.2, epochs = 100, verbose = 0)\n",
    "\n",
    "plt.plot(history.history['accuracy'])\n",
    "plt.plot(history.history['val_accuracy'])\n",
    "plt.legend(['training', 'validation'], loc = 'upper left')\n",
    "plt.show()\n",
    "\n",
    "results = model.evaluate(X_test, y_test)\n",
    "print('Test accuracy: ', results[1])\n",
    "\n",
    "# 이 모델도 0.3 이상으로 올라가지 않음. 뭐가 문제일까?"
   ]
  },
  {
   "cell_type": "markdown",
   "metadata": {
    "ExecuteTime": {
     "end_time": "2020-01-22T04:58:27.703162Z",
     "start_time": "2020-01-22T04:58:27.699167Z"
    }
   },
   "source": [
    "## 뭐가 문제인지 확인해보자."
   ]
  },
  {
   "cell_type": "code",
   "execution_count": 35,
   "metadata": {
    "ExecuteTime": {
     "end_time": "2020-01-22T04:57:03.661599Z",
     "start_time": "2020-01-22T04:57:03.652624Z"
    }
   },
   "outputs": [
    {
     "name": "stdout",
     "output_type": "stream",
     "text": [
      "conv2d_5\n",
      "True\n",
      "Tensor(\"conv2d_5/BiasAdd:0\", shape=(?, 22, 22, 32), dtype=float32)\n",
      "(3, 3, 1, 32)\n",
      "(32,)\n",
      "[[ 0.05060051 -0.10593448  0.0834098 ]\n",
      " [ 0.13936557 -0.05481494  0.07707256]\n",
      " [-0.10352221 -0.04393274  0.08721152]]\n",
      "[[-0.00159934  0.06498471  0.11209179]\n",
      " [-0.07741241  0.08301206 -0.07131977]\n",
      " [-0.120669    0.05484568 -0.08946604]]\n",
      "0.0\n",
      "0.0\n"
     ]
    }
   ],
   "source": [
    "print(model.layers[0].name)\n",
    "print(model.layers[0].trainable) #전이학습을 사용할때, 해당 과정을 학습할지 안할지 정해줄 수 있음.\n",
    "print(model.layers[0].output) # w, b가 적용된 결과값\n",
    "\n",
    "\n",
    "w=model.layers[0].get_weights()\n",
    "print(w[0].shape)  # w\n",
    "print(w[1].shape)  # b\n",
    "\n",
    "print(w[0][:,:,0,0]) #필터\n",
    "print(w[0][:,:,0,1]) #필터\n",
    "print(w[1][0]) #필터 1의 b\n",
    "print(w[1][1]) #필터 2의 b, 근데 왜 0이지?"
   ]
  },
  {
   "cell_type": "code",
   "execution_count": 29,
   "metadata": {
    "ExecuteTime": {
     "end_time": "2020-01-22T04:51:17.174946Z",
     "start_time": "2020-01-22T04:51:16.899368Z"
    }
   },
   "outputs": [
    {
     "name": "stdout",
     "output_type": "stream",
     "text": [
      "(15, 22, 22, 32)\n"
     ]
    },
    {
     "data": {
      "image/png": "[encoded data removed]",
      "text/plain": [
       "<Figure size 432x288 with 1 Axes>"
      ]
     },
     "metadata": {
      "needs_background": "light"
     },
     "output_type": "display_data"
    },
    {
     "data": {
      "image/png": "[encoded data removed]",
      "text/plain": [
       "<Figure size 432x288 with 1 Axes>"
      ]
     },
     "metadata": {
      "needs_background": "light"
     },
     "output_type": "display_data"
    },
    {
     "data": {
      "image/png": "[encoded data removed]",
      "text/plain": [
       "<Figure size 432x288 with 1 Axes>"
      ]
     },
     "metadata": {
      "needs_background": "light"
     },
     "output_type": "display_data"
    }
   ],
   "source": [
    "from keras.models import Model\n",
    "\n",
    "my_layer_model = Model(inputs=model.input, outputs=model.layers[0].output)\n",
    "output = my_layer_model.predict(X_test)\n",
    "\n",
    "print(output.shape)\n",
    "\n",
    "filter_num = 5\n",
    "img_num = 1\n",
    "\n",
    "# 원본 이미지\n",
    "plt.imshow(X_test[img_num,:,:,0], cmap='gray') #1번째 이미지, [인덱스, 가로, 세로, 채널(흑백:0)]\n",
    "plt.show()\n",
    "\n",
    "# 필터\n",
    "w=model.layers[0].get_weights()\n",
    "w=w[0]\n",
    "f=w[:,:,0,filter_num] #[가로, 세로, 채널, 필터넘버]\n",
    "plt.imshow(f, cmap='gray')\n",
    "plt.show()\n",
    "\n",
    "# 출력 : 1번째 이미지 * (5번째 필터 + b)\n",
    "plt.imshow(output[img_num,:,:,filter_num], cmap='gray') \n",
    "plt.show()"
   ]
  },
  {
   "cell_type": "code",
   "execution_count": 30,
   "metadata": {
    "ExecuteTime": {
     "end_time": "2020-01-22T04:51:21.256203Z",
     "start_time": "2020-01-22T04:51:21.209307Z"
    }
   },
   "outputs": [
    {
     "name": "stdout",
     "output_type": "stream",
     "text": [
      "(15, 1024)\n"
     ]
    }
   ],
   "source": [
    "my_layer_model = Model(inputs=model.input, outputs=model.get_layer('flatten_3').output)\n",
    "output = my_layer_model.predict(X_test)\n",
    "\n",
    "print(output.shape)"
   ]
  },
  {
   "cell_type": "code",
   "execution_count": 45,
   "metadata": {
    "ExecuteTime": {
     "end_time": "2020-01-22T05:05:27.970163Z",
     "start_time": "2020-01-22T05:05:27.907027Z"
    }
   },
   "outputs": [
    {
     "name": "stdout",
     "output_type": "stream",
     "text": [
      "(15, 3)\n",
      "[[1.06913946e-12 1.00000000e+00 2.25592267e-14]\n",
      " [4.97427209e-06 9.99994993e-01 7.35743321e-15]\n",
      " [3.36238171e-09 1.00000000e+00 2.70488298e-10]\n",
      " [8.21940814e-16 1.00000000e+00 2.02072448e-09]\n",
      " [4.21184509e-08 9.99998689e-01 1.34119807e-06]\n",
      " [7.95130281e-11 1.00000000e+00 1.04491329e-15]\n",
      " [2.39274878e-10 1.00000000e+00 2.23576557e-09]\n",
      " [6.22931819e-20 1.00000000e+00 1.34025845e-14]\n",
      " [9.05232835e-15 1.00000000e+00 1.67250523e-18]\n",
      " [5.81007331e-09 1.00000000e+00 2.40512922e-11]\n",
      " [1.04072198e-12 1.00000000e+00 5.22011413e-15]\n",
      " [1.46469247e-07 9.99999881e-01 1.50013735e-09]\n",
      " [2.04339698e-10 1.00000000e+00 2.13745555e-09]\n",
      " [6.88823505e-08 9.99999881e-01 3.69910248e-11]\n",
      " [1.50306369e-14 1.00000000e+00 2.46468709e-12]]\n",
      "[1 1 1 1 1 1 1 1 1 1 1 1 1 1 1]\n",
      "[0 0 0 0 0 1 1 1 1 1 2 2 2 2 2]\n",
      "[False False False False False  True  True  True  True  True False False\n",
      " False False False]\n",
      "[0 0 0 0 0 1 1 1 1 1 0 0 0 0 0]\n",
      "5\n",
      "0.3333333333333333\n"
     ]
    }
   ],
   "source": [
    "my_layer_model = Model(inputs=model.input, outputs=model.get_layer('dense_8').output)\n",
    "output = my_layer_model.predict(X_test)\n",
    "\n",
    "print(output.shape)\n",
    "print(output)\n",
    "\n",
    "P=np.argmax(output, axis=1)\n",
    "T=np.argmax(y_test, axis=1)\n",
    "print(P)\n",
    "print(T)\n",
    "print(P==T)\n",
    "print((P==T)*1)\n",
    "print(sum((P==T)*1))\n",
    "print(sum((P==T)*1)/len(P))"
   ]
  },
  {
   "cell_type": "code",
   "execution_count": null,
   "metadata": {},
   "outputs": [],
   "source": []
  }
 ],
 "metadata": {
  "kernelspec": {
   "display_name": "Python 3",
   "language": "python",
   "name": "python3"
  },
  "language_info": {
   "codemirror_mode": {
    "name": "ipython",
    "version": 3
   },
   "file_extension": ".py",
   "mimetype": "text/x-python",
   "name": "python",
   "nbconvert_exporter": "python",
   "pygments_lexer": "ipython3",
   "version": "3.7.6"
  },
  "varInspector": {
   "cols": {
    "lenName": 16,
    "lenType": 16,
    "lenVar": 40
   },
   "kernels_config": {
    "python": {
     "delete_cmd_postfix": "",
     "delete_cmd_prefix": "del ",
     "library": "var_list.py",
     "varRefreshCmd": "print(var_dic_list())"
    },
    "r": {
     "delete_cmd_postfix": ") ",
     "delete_cmd_prefix": "rm(",
     "library": "var_list.r",
     "varRefreshCmd": "cat(var_dic_list()) "
    }
   },
   "position": {
    "height": "666.215px",
    "left": "79.434px",
    "right": "20px",
    "top": "133.993px",
    "width": "800px"
   },
   "types_to_exclude": [
    "module",
    "function",
    "builtin_function_or_method",
    "instance",
    "_Feature"
   ],
   "window_display": false
  }
 },
 "nbformat": 4,
 "nbformat_minor": 2
}
